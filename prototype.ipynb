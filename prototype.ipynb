{
 "cells": [
  {
   "cell_type": "markdown",
   "metadata": {},
   "source": [
    "# Исследования в области генерации текста с помощью методов NLP"
   ]
  },
  {
   "cell_type": "markdown",
   "metadata": {},
   "source": [
    "Я обладаю небольшими вычислительными мощностями, поэтому свою модель буду строить на основе LSTM, GRU и предобученных трансформерах (BERT-like)"
   ]
  },
  {
   "cell_type": "markdown",
   "metadata": {},
   "source": [
    "Сбор данных: на 3-м курсе нам подсунули немного философии в расписание, поэтому попробую создать модель, которая будет генерировать философские цитаты. Из найденных датасетов: на русском языке ничего найдено не было, однако был найден датасет на kaggle: https://www.kaggle.com/datasets/akmittal/quotes-dataset/code. Он на английском, поэтому переводом пришлось заниматься вручную. Какие особенности были выявлены: в данных присутствуют цитаты на арабском. А также есть отсутствие пробелов между предложениями и в некоторых случаях словами. Для последующего анализа и обучения мною было отобрано 2210 строк (ruFile.txt)."
   ]
  },
  {
   "cell_type": "code",
   "execution_count": 105,
   "metadata": {},
   "outputs": [],
   "source": [
    "import pandas as pd\n",
    "import re\n",
    "import matplotlib.pyplot as plt\n",
    "from myLibrary.preprocessing import DataProcessor\n",
    "from myLibrary.vocab import Vocab\n",
    "\n",
    "import torch\n",
    "from  torch.utils.data import Dataset, DataLoader"
   ]
  },
  {
   "cell_type": "code",
   "execution_count": 26,
   "metadata": {},
   "outputs": [
    {
     "data": {
      "text/plain": [
       "(2210, 1)"
      ]
     },
     "metadata": {},
     "output_type": "display_data"
    },
    {
     "name": "stdout",
     "output_type": "stream",
     "text": [
      "['\" Обычно,  когда люди говорят о теории \" просачивания\" ,  это имеет отношение к экономике.  Предполагается,  что чем богаче становятся люди на вершине общества,  тем больше богатства может просачиваться к людям внизу.  Конечно,  на самом деле так никогда не получается,  потому что если есть две вещи,  которые люди наверху терпеть не могут,  то это утечка и переполнение\" . \\n'\n",
      " 'Ничто так не способствует успокоению ума,  как устойчивая цель\\n'\n",
      " 'Никогда не тратьте впустую время на что-то важное,  когда за окном закат,  под которым вам следовало бы сидеть! \\n'\n",
      " '\" Что делает телевидение,  и есть причина,  по которой \" Щ. И. Т. \"  работает так хорошо,  как оно работает,  так это то,  что оно имеет дело с отношениями.  Оно имеет дело с очень мелкими,  межличностными способами,  которыми люди одновременно любят и ненавидят друг друга\" . \\n'\n",
      " '\" Иногда потеря домашнего животного более болезненна,  чем потеря человека,  потому что в случае с домашним животным вы не притворялись,  что любите его\" . \\n'\n",
      " '\" То,  что лежит позади вас и что лежит перед вами,  меркнет по сравнению с тем,  что находится внутри вас\" . \\n'\n",
      " '\" мы невольно проецируем на Бога наше собственное отношение и чувства по отношению к самим себе. . .  Но мы не можем предполагать,  что Он относится к нам так же,  как мы относимся к самим себе,  если только мы не любим себя сострадательно,  сильно и свободно\" . \\n'\n",
      " 'Я знаю,  что был большим другом Тайгера Вудса.  Но когда у вас отношения,  связанные с бизнесом и дружбой,  и деловая часть подходит к концу,  все всегда становится немного размытым. \\n'\n",
      " 'Прелесть сотрудничества между старшим и младшим поколениями в том,  что мы сочетаем силу с мудростью —  верный способ достичь большего во славу Божью. \\n'\n",
      " 'Я действительно изучал искусство парикмахера,  потому что хотел выяснить,  каким будет мой распорядок дня.  Вы начинаете спереди или сзади?  Сверху или снизу?  Поворачиваете кресло или ходите по кругу?  Что я обнаружил,  так это то,  что идеальной стрижки не существует! \\n']\n"
     ]
    }
   ],
   "source": [
    "with open('data/ruFile.txt', 'r', encoding='utf-8') as file:\n",
    "    data = file.readlines()\n",
    "    extract_data = []\n",
    "    for quote in data:\n",
    "        extract_data.append(re.sub(r'([^\\w\\s-])', r'\\1 ', quote))\n",
    "    df = pd.DataFrame(extract_data, columns=['Quote'])\n",
    "\n",
    "display(df.shape)\n",
    "print(df.iloc[:10, 0].values, sep='\\n')"
   ]
  },
  {
   "cell_type": "code",
   "execution_count": 27,
   "metadata": {},
   "outputs": [],
   "source": [
    "dp = DataProcessor(df)\n",
    "clear_data = dp.get_clear_data('Quote')"
   ]
  },
  {
   "cell_type": "code",
   "execution_count": 28,
   "metadata": {},
   "outputs": [
    {
     "name": "stdout",
     "output_type": "stream",
     "text": [
      "['обычно когда люди говорят о теории просачивания это имеет отношение к экономике предполагается что чем богаче становятся люди на вершине общества тем больше богатства может просачиваться к людям внизу конечно на самом деле так никогда не получается потому что если есть две вещи которые люди наверху терпеть не могут то это утечка и переполнение'\n",
      " 'ничто так не способствует успокоению ума как устойчивая цель'\n",
      " 'никогда не тратьте впустую время на что-то важное когда за окном закат под которым вам следовало бы сидеть']\n"
     ]
    }
   ],
   "source": [
    "print(clear_data.iloc[:3, 1].values, sep='\\n')"
   ]
  },
  {
   "cell_type": "code",
   "execution_count": 29,
   "metadata": {},
   "outputs": [],
   "source": [
    "dp.write_clear_data('_data.txt')"
   ]
  },
  {
   "cell_type": "code",
   "execution_count": 30,
   "metadata": {},
   "outputs": [
    {
     "data": {
      "text/html": [
       "<div>\n",
       "<style scoped>\n",
       "    .dataframe tbody tr th:only-of-type {\n",
       "        vertical-align: middle;\n",
       "    }\n",
       "\n",
       "    .dataframe tbody tr th {\n",
       "        vertical-align: top;\n",
       "    }\n",
       "\n",
       "    .dataframe thead th {\n",
       "        text-align: right;\n",
       "    }\n",
       "</style>\n",
       "<table border=\"1\" class=\"dataframe\">\n",
       "  <thead>\n",
       "    <tr style=\"text-align: right;\">\n",
       "      <th></th>\n",
       "      <th>Quote</th>\n",
       "      <th>Clear</th>\n",
       "    </tr>\n",
       "  </thead>\n",
       "  <tbody>\n",
       "    <tr>\n",
       "      <th>0</th>\n",
       "      <td>\" Обычно,  когда люди говорят о теории \" проса...</td>\n",
       "      <td>обычно когда люди говорят о теории просачивани...</td>\n",
       "    </tr>\n",
       "    <tr>\n",
       "      <th>1</th>\n",
       "      <td>Ничто так не способствует успокоению ума,  как...</td>\n",
       "      <td>ничто так не способствует успокоению ума как у...</td>\n",
       "    </tr>\n",
       "    <tr>\n",
       "      <th>2</th>\n",
       "      <td>Никогда не тратьте впустую время на что-то важ...</td>\n",
       "      <td>никогда не тратьте впустую время на что-то важ...</td>\n",
       "    </tr>\n",
       "    <tr>\n",
       "      <th>3</th>\n",
       "      <td>\" Что делает телевидение,  и есть причина,  по...</td>\n",
       "      <td>что делает телевидение и есть причина по котор...</td>\n",
       "    </tr>\n",
       "    <tr>\n",
       "      <th>4</th>\n",
       "      <td>\" Иногда потеря домашнего животного более боле...</td>\n",
       "      <td>иногда потеря домашнего животного более болезн...</td>\n",
       "    </tr>\n",
       "  </tbody>\n",
       "</table>\n",
       "</div>"
      ],
      "text/plain": [
       "                                               Quote  \\\n",
       "0  \" Обычно,  когда люди говорят о теории \" проса...   \n",
       "1  Ничто так не способствует успокоению ума,  как...   \n",
       "2  Никогда не тратьте впустую время на что-то важ...   \n",
       "3  \" Что делает телевидение,  и есть причина,  по...   \n",
       "4  \" Иногда потеря домашнего животного более боле...   \n",
       "\n",
       "                                               Clear  \n",
       "0  обычно когда люди говорят о теории просачивани...  \n",
       "1  ничто так не способствует успокоению ума как у...  \n",
       "2  никогда не тратьте впустую время на что-то важ...  \n",
       "3  что делает телевидение и есть причина по котор...  \n",
       "4  иногда потеря домашнего животного более болезн...  "
      ]
     },
     "execution_count": 30,
     "metadata": {},
     "output_type": "execute_result"
    }
   ],
   "source": [
    "data = pd.read_csv('data/clear_data.csv')\n",
    "data.head()"
   ]
  },
  {
   "cell_type": "code",
   "execution_count": 31,
   "metadata": {},
   "outputs": [
    {
     "data": {
      "text/html": [
       "<div>\n",
       "<style scoped>\n",
       "    .dataframe tbody tr th:only-of-type {\n",
       "        vertical-align: middle;\n",
       "    }\n",
       "\n",
       "    .dataframe tbody tr th {\n",
       "        vertical-align: top;\n",
       "    }\n",
       "\n",
       "    .dataframe thead th {\n",
       "        text-align: right;\n",
       "    }\n",
       "</style>\n",
       "<table border=\"1\" class=\"dataframe\">\n",
       "  <thead>\n",
       "    <tr style=\"text-align: right;\">\n",
       "      <th></th>\n",
       "      <th>Quote</th>\n",
       "      <th>Clear</th>\n",
       "      <th>CountWords</th>\n",
       "    </tr>\n",
       "  </thead>\n",
       "  <tbody>\n",
       "    <tr>\n",
       "      <th>0</th>\n",
       "      <td>\" Обычно,  когда люди говорят о теории \" проса...</td>\n",
       "      <td>обычно когда люди говорят о теории просачивани...</td>\n",
       "      <td>54</td>\n",
       "    </tr>\n",
       "    <tr>\n",
       "      <th>1</th>\n",
       "      <td>Ничто так не способствует успокоению ума,  как...</td>\n",
       "      <td>ничто так не способствует успокоению ума как у...</td>\n",
       "      <td>9</td>\n",
       "    </tr>\n",
       "    <tr>\n",
       "      <th>2</th>\n",
       "      <td>Никогда не тратьте впустую время на что-то важ...</td>\n",
       "      <td>никогда не тратьте впустую время на что-то важ...</td>\n",
       "      <td>18</td>\n",
       "    </tr>\n",
       "    <tr>\n",
       "      <th>3</th>\n",
       "      <td>\" Что делает телевидение,  и есть причина,  по...</td>\n",
       "      <td>что делает телевидение и есть причина по котор...</td>\n",
       "      <td>42</td>\n",
       "    </tr>\n",
       "    <tr>\n",
       "      <th>4</th>\n",
       "      <td>\" Иногда потеря домашнего животного более боле...</td>\n",
       "      <td>иногда потеря домашнего животного более болезн...</td>\n",
       "      <td>22</td>\n",
       "    </tr>\n",
       "  </tbody>\n",
       "</table>\n",
       "</div>"
      ],
      "text/plain": [
       "                                               Quote  \\\n",
       "0  \" Обычно,  когда люди говорят о теории \" проса...   \n",
       "1  Ничто так не способствует успокоению ума,  как...   \n",
       "2  Никогда не тратьте впустую время на что-то важ...   \n",
       "3  \" Что делает телевидение,  и есть причина,  по...   \n",
       "4  \" Иногда потеря домашнего животного более боле...   \n",
       "\n",
       "                                               Clear  CountWords  \n",
       "0  обычно когда люди говорят о теории просачивани...          54  \n",
       "1  ничто так не способствует успокоению ума как у...           9  \n",
       "2  никогда не тратьте впустую время на что-то важ...          18  \n",
       "3  что делает телевидение и есть причина по котор...          42  \n",
       "4  иногда потеря домашнего животного более болезн...          22  "
      ]
     },
     "execution_count": 31,
     "metadata": {},
     "output_type": "execute_result"
    }
   ],
   "source": [
    "data['CountWords'] = data['Clear'].str.split().apply(len)\n",
    "data.head()"
   ]
  },
  {
   "cell_type": "markdown",
   "metadata": {},
   "source": [
    "## Анализ данных"
   ]
  },
  {
   "cell_type": "code",
   "execution_count": 32,
   "metadata": {},
   "outputs": [
    {
     "name": "stdout",
     "output_type": "stream",
     "text": [
      "<class 'pandas.core.frame.DataFrame'>\n",
      "RangeIndex: 2210 entries, 0 to 2209\n",
      "Data columns (total 3 columns):\n",
      " #   Column      Non-Null Count  Dtype \n",
      "---  ------      --------------  ----- \n",
      " 0   Quote       2210 non-null   object\n",
      " 1   Clear       2210 non-null   object\n",
      " 2   CountWords  2210 non-null   int64 \n",
      "dtypes: int64(1), object(2)\n",
      "memory usage: 51.9+ KB\n"
     ]
    }
   ],
   "source": [
    "data.info()"
   ]
  },
  {
   "cell_type": "code",
   "execution_count": 33,
   "metadata": {},
   "outputs": [
    {
     "data": {
      "text/html": [
       "<div>\n",
       "<style scoped>\n",
       "    .dataframe tbody tr th:only-of-type {\n",
       "        vertical-align: middle;\n",
       "    }\n",
       "\n",
       "    .dataframe tbody tr th {\n",
       "        vertical-align: top;\n",
       "    }\n",
       "\n",
       "    .dataframe thead th {\n",
       "        text-align: right;\n",
       "    }\n",
       "</style>\n",
       "<table border=\"1\" class=\"dataframe\">\n",
       "  <thead>\n",
       "    <tr style=\"text-align: right;\">\n",
       "      <th></th>\n",
       "      <th>CountWords</th>\n",
       "    </tr>\n",
       "  </thead>\n",
       "  <tbody>\n",
       "    <tr>\n",
       "      <th>count</th>\n",
       "      <td>2210.000000</td>\n",
       "    </tr>\n",
       "    <tr>\n",
       "      <th>mean</th>\n",
       "      <td>22.794118</td>\n",
       "    </tr>\n",
       "    <tr>\n",
       "      <th>std</th>\n",
       "      <td>14.648242</td>\n",
       "    </tr>\n",
       "    <tr>\n",
       "      <th>min</th>\n",
       "      <td>2.000000</td>\n",
       "    </tr>\n",
       "    <tr>\n",
       "      <th>25%</th>\n",
       "      <td>12.000000</td>\n",
       "    </tr>\n",
       "    <tr>\n",
       "      <th>50%</th>\n",
       "      <td>18.000000</td>\n",
       "    </tr>\n",
       "    <tr>\n",
       "      <th>75%</th>\n",
       "      <td>30.000000</td>\n",
       "    </tr>\n",
       "    <tr>\n",
       "      <th>max</th>\n",
       "      <td>78.000000</td>\n",
       "    </tr>\n",
       "  </tbody>\n",
       "</table>\n",
       "</div>"
      ],
      "text/plain": [
       "        CountWords\n",
       "count  2210.000000\n",
       "mean     22.794118\n",
       "std      14.648242\n",
       "min       2.000000\n",
       "25%      12.000000\n",
       "50%      18.000000\n",
       "75%      30.000000\n",
       "max      78.000000"
      ]
     },
     "execution_count": 33,
     "metadata": {},
     "output_type": "execute_result"
    }
   ],
   "source": [
    "data.describe()"
   ]
  },
  {
   "cell_type": "code",
   "execution_count": 34,
   "metadata": {},
   "outputs": [
    {
     "data": {
      "text/html": [
       "<div>\n",
       "<style scoped>\n",
       "    .dataframe tbody tr th:only-of-type {\n",
       "        vertical-align: middle;\n",
       "    }\n",
       "\n",
       "    .dataframe tbody tr th {\n",
       "        vertical-align: top;\n",
       "    }\n",
       "\n",
       "    .dataframe thead th {\n",
       "        text-align: right;\n",
       "    }\n",
       "</style>\n",
       "<table border=\"1\" class=\"dataframe\">\n",
       "  <thead>\n",
       "    <tr style=\"text-align: right;\">\n",
       "      <th></th>\n",
       "      <th>Quote</th>\n",
       "      <th>Clear</th>\n",
       "    </tr>\n",
       "  </thead>\n",
       "  <tbody>\n",
       "    <tr>\n",
       "      <th>count</th>\n",
       "      <td>2210</td>\n",
       "      <td>2210</td>\n",
       "    </tr>\n",
       "    <tr>\n",
       "      <th>unique</th>\n",
       "      <td>2210</td>\n",
       "      <td>2210</td>\n",
       "    </tr>\n",
       "    <tr>\n",
       "      <th>top</th>\n",
       "      <td>\" Обычно,  когда люди говорят о теории \" проса...</td>\n",
       "      <td>обычно когда люди говорят о теории просачивани...</td>\n",
       "    </tr>\n",
       "    <tr>\n",
       "      <th>freq</th>\n",
       "      <td>1</td>\n",
       "      <td>1</td>\n",
       "    </tr>\n",
       "  </tbody>\n",
       "</table>\n",
       "</div>"
      ],
      "text/plain": [
       "                                                    Quote  \\\n",
       "count                                                2210   \n",
       "unique                                               2210   \n",
       "top     \" Обычно,  когда люди говорят о теории \" проса...   \n",
       "freq                                                    1   \n",
       "\n",
       "                                                    Clear  \n",
       "count                                                2210  \n",
       "unique                                               2210  \n",
       "top     обычно когда люди говорят о теории просачивани...  \n",
       "freq                                                    1  "
      ]
     },
     "execution_count": 34,
     "metadata": {},
     "output_type": "execute_result"
    }
   ],
   "source": [
    "data.describe(include=['O'])"
   ]
  },
  {
   "cell_type": "markdown",
   "metadata": {},
   "source": [
    "Выводы: Благодаря ручному переводу удалось избавиться от пустых строчек, цитат в одно слово, а также повторений(в исходном датасете они были). Единственный недостаток, который пока можно отметить - это большой объем длинных цитат.  "
   ]
  },
  {
   "cell_type": "markdown",
   "metadata": {},
   "source": [
    "### Анализ количества слов в цитатах"
   ]
  },
  {
   "cell_type": "code",
   "execution_count": 35,
   "metadata": {},
   "outputs": [
    {
     "data": {
      "text/html": [
       "<div>\n",
       "<style scoped>\n",
       "    .dataframe tbody tr th:only-of-type {\n",
       "        vertical-align: middle;\n",
       "    }\n",
       "\n",
       "    .dataframe tbody tr th {\n",
       "        vertical-align: top;\n",
       "    }\n",
       "\n",
       "    .dataframe thead th {\n",
       "        text-align: right;\n",
       "    }\n",
       "</style>\n",
       "<table border=\"1\" class=\"dataframe\">\n",
       "  <thead>\n",
       "    <tr style=\"text-align: right;\">\n",
       "      <th></th>\n",
       "      <th>CountWords</th>\n",
       "    </tr>\n",
       "  </thead>\n",
       "  <tbody>\n",
       "    <tr>\n",
       "      <th>count</th>\n",
       "      <td>2210.000000</td>\n",
       "    </tr>\n",
       "    <tr>\n",
       "      <th>mean</th>\n",
       "      <td>22.794118</td>\n",
       "    </tr>\n",
       "    <tr>\n",
       "      <th>std</th>\n",
       "      <td>14.648242</td>\n",
       "    </tr>\n",
       "    <tr>\n",
       "      <th>min</th>\n",
       "      <td>2.000000</td>\n",
       "    </tr>\n",
       "    <tr>\n",
       "      <th>25%</th>\n",
       "      <td>12.000000</td>\n",
       "    </tr>\n",
       "    <tr>\n",
       "      <th>50%</th>\n",
       "      <td>18.000000</td>\n",
       "    </tr>\n",
       "    <tr>\n",
       "      <th>75%</th>\n",
       "      <td>30.000000</td>\n",
       "    </tr>\n",
       "    <tr>\n",
       "      <th>max</th>\n",
       "      <td>78.000000</td>\n",
       "    </tr>\n",
       "  </tbody>\n",
       "</table>\n",
       "</div>"
      ],
      "text/plain": [
       "        CountWords\n",
       "count  2210.000000\n",
       "mean     22.794118\n",
       "std      14.648242\n",
       "min       2.000000\n",
       "25%      12.000000\n",
       "50%      18.000000\n",
       "75%      30.000000\n",
       "max      78.000000"
      ]
     },
     "execution_count": 35,
     "metadata": {},
     "output_type": "execute_result"
    }
   ],
   "source": [
    "data.describe()"
   ]
  },
  {
   "cell_type": "markdown",
   "metadata": {},
   "source": [
    "Посмотрим на цитаты с малым количеством слов:"
   ]
  },
  {
   "cell_type": "code",
   "execution_count": 36,
   "metadata": {},
   "outputs": [
    {
     "data": {
      "text/html": [
       "<div>\n",
       "<style scoped>\n",
       "    .dataframe tbody tr th:only-of-type {\n",
       "        vertical-align: middle;\n",
       "    }\n",
       "\n",
       "    .dataframe tbody tr th {\n",
       "        vertical-align: top;\n",
       "    }\n",
       "\n",
       "    .dataframe thead th {\n",
       "        text-align: right;\n",
       "    }\n",
       "</style>\n",
       "<table border=\"1\" class=\"dataframe\">\n",
       "  <thead>\n",
       "    <tr style=\"text-align: right;\">\n",
       "      <th></th>\n",
       "      <th>Clear</th>\n",
       "      <th>CountWords</th>\n",
       "    </tr>\n",
       "  </thead>\n",
       "  <tbody>\n",
       "    <tr>\n",
       "      <th>55</th>\n",
       "      <td>знайте историю великих предков</td>\n",
       "      <td>4</td>\n",
       "    </tr>\n",
       "    <tr>\n",
       "      <th>177</th>\n",
       "      <td>я страстный ученик</td>\n",
       "      <td>3</td>\n",
       "    </tr>\n",
       "    <tr>\n",
       "      <th>209</th>\n",
       "      <td>бессмертно только истина</td>\n",
       "      <td>3</td>\n",
       "    </tr>\n",
       "    <tr>\n",
       "      <th>215</th>\n",
       "      <td>удивление это семя знания</td>\n",
       "      <td>4</td>\n",
       "    </tr>\n",
       "    <tr>\n",
       "      <th>327</th>\n",
       "      <td>я чувствую себя бесконечной</td>\n",
       "      <td>4</td>\n",
       "    </tr>\n",
       "    <tr>\n",
       "      <th>349</th>\n",
       "      <td>никогда не говори никогда</td>\n",
       "      <td>4</td>\n",
       "    </tr>\n",
       "    <tr>\n",
       "      <th>353</th>\n",
       "      <td>это забавный старый мир</td>\n",
       "      <td>4</td>\n",
       "    </tr>\n",
       "    <tr>\n",
       "      <th>372</th>\n",
       "      <td>у бога нет религии</td>\n",
       "      <td>4</td>\n",
       "    </tr>\n",
       "    <tr>\n",
       "      <th>551</th>\n",
       "      <td>надежда это сон наяву</td>\n",
       "      <td>4</td>\n",
       "    </tr>\n",
       "    <tr>\n",
       "      <th>735</th>\n",
       "      <td>когда сомневаешься выбирай жить</td>\n",
       "      <td>4</td>\n",
       "    </tr>\n",
       "    <tr>\n",
       "      <th>799</th>\n",
       "      <td>заткнись и пиши</td>\n",
       "      <td>3</td>\n",
       "    </tr>\n",
       "    <tr>\n",
       "      <th>817</th>\n",
       "      <td>ненавидь грех люби грешника</td>\n",
       "      <td>4</td>\n",
       "    </tr>\n",
       "    <tr>\n",
       "      <th>838</th>\n",
       "      <td>счастье это свежий цветок</td>\n",
       "      <td>4</td>\n",
       "    </tr>\n",
       "    <tr>\n",
       "      <th>861</th>\n",
       "      <td>надеждой можно сломить человека</td>\n",
       "      <td>4</td>\n",
       "    </tr>\n",
       "    <tr>\n",
       "      <th>1010</th>\n",
       "      <td>радость это источник молодости</td>\n",
       "      <td>4</td>\n",
       "    </tr>\n",
       "    <tr>\n",
       "      <th>1014</th>\n",
       "      <td>ключевое слово воображаемые</td>\n",
       "      <td>3</td>\n",
       "    </tr>\n",
       "    <tr>\n",
       "      <th>1038</th>\n",
       "      <td>мой разум мое царство</td>\n",
       "      <td>4</td>\n",
       "    </tr>\n",
       "    <tr>\n",
       "      <th>1181</th>\n",
       "      <td>космос это дыхание искусства</td>\n",
       "      <td>4</td>\n",
       "    </tr>\n",
       "    <tr>\n",
       "      <th>1332</th>\n",
       "      <td>вдохновляюще видеть улыбку умирающего</td>\n",
       "      <td>4</td>\n",
       "    </tr>\n",
       "    <tr>\n",
       "      <th>1395</th>\n",
       "      <td>кретин жиртрест странность хитрость</td>\n",
       "      <td>4</td>\n",
       "    </tr>\n",
       "    <tr>\n",
       "      <th>1427</th>\n",
       "      <td>теперь ты моя жизнь</td>\n",
       "      <td>4</td>\n",
       "    </tr>\n",
       "    <tr>\n",
       "      <th>1581</th>\n",
       "      <td>мужчины не картошка</td>\n",
       "      <td>3</td>\n",
       "    </tr>\n",
       "    <tr>\n",
       "      <th>1648</th>\n",
       "      <td>только безнадежный любит бога</td>\n",
       "      <td>4</td>\n",
       "    </tr>\n",
       "    <tr>\n",
       "      <th>1682</th>\n",
       "      <td>кто будучи любимым беден</td>\n",
       "      <td>4</td>\n",
       "    </tr>\n",
       "    <tr>\n",
       "      <th>1831</th>\n",
       "      <td>надежда это сердцебиение души</td>\n",
       "      <td>4</td>\n",
       "    </tr>\n",
       "    <tr>\n",
       "      <th>1837</th>\n",
       "      <td>контролируйте свой разум</td>\n",
       "      <td>3</td>\n",
       "    </tr>\n",
       "    <tr>\n",
       "      <th>1908</th>\n",
       "      <td>фальшивка отстой</td>\n",
       "      <td>2</td>\n",
       "    </tr>\n",
       "    <tr>\n",
       "      <th>1944</th>\n",
       "      <td>ну это злая улыбка</td>\n",
       "      <td>4</td>\n",
       "    </tr>\n",
       "    <tr>\n",
       "      <th>2022</th>\n",
       "      <td>импрессионизм это газета души</td>\n",
       "      <td>4</td>\n",
       "    </tr>\n",
       "    <tr>\n",
       "      <th>2062</th>\n",
       "      <td>осуждение это негативная частота</td>\n",
       "      <td>4</td>\n",
       "    </tr>\n",
       "    <tr>\n",
       "      <th>2177</th>\n",
       "      <td>все дело в улыбках</td>\n",
       "      <td>4</td>\n",
       "    </tr>\n",
       "    <tr>\n",
       "      <th>2184</th>\n",
       "      <td>мы мудрее чем думаем</td>\n",
       "      <td>4</td>\n",
       "    </tr>\n",
       "  </tbody>\n",
       "</table>\n",
       "</div>"
      ],
      "text/plain": [
       "                                      Clear  CountWords\n",
       "55           знайте историю великих предков           4\n",
       "177                      я страстный ученик           3\n",
       "209                бессмертно только истина           3\n",
       "215               удивление это семя знания           4\n",
       "327             я чувствую себя бесконечной           4\n",
       "349               никогда не говори никогда           4\n",
       "353                 это забавный старый мир           4\n",
       "372                      у бога нет религии           4\n",
       "551                   надежда это сон наяву           4\n",
       "735         когда сомневаешься выбирай жить           4\n",
       "799                         заткнись и пиши           3\n",
       "817             ненавидь грех люби грешника           4\n",
       "838               счастье это свежий цветок           4\n",
       "861         надеждой можно сломить человека           4\n",
       "1010         радость это источник молодости           4\n",
       "1014            ключевое слово воображаемые           3\n",
       "1038                  мой разум мое царство           4\n",
       "1181           космос это дыхание искусства           4\n",
       "1332  вдохновляюще видеть улыбку умирающего           4\n",
       "1395    кретин жиртрест странность хитрость           4\n",
       "1427                    теперь ты моя жизнь           4\n",
       "1581                    мужчины не картошка           3\n",
       "1648          только безнадежный любит бога           4\n",
       "1682               кто будучи любимым беден           4\n",
       "1831          надежда это сердцебиение души           4\n",
       "1837               контролируйте свой разум           3\n",
       "1908                       фальшивка отстой           2\n",
       "1944                     ну это злая улыбка           4\n",
       "2022          импрессионизм это газета души           4\n",
       "2062       осуждение это негативная частота           4\n",
       "2177                     все дело в улыбках           4\n",
       "2184                   мы мудрее чем думаем           4"
      ]
     },
     "execution_count": 36,
     "metadata": {},
     "output_type": "execute_result"
    }
   ],
   "source": [
    "data[['Clear', 'CountWords']][data['CountWords'] <=4]"
   ]
  },
  {
   "cell_type": "markdown",
   "metadata": {},
   "source": [
    "Прочитав данные цитаты, понимаешь, что в них самый сок. Поэтому удалять их не будем"
   ]
  },
  {
   "cell_type": "markdown",
   "metadata": {},
   "source": [
    "Также из описания видно, что максимальное количество слов в цитате - 78. Проанализируем процент длинных цитат. Для этого разабьем длину на группы: 1-10, 11-20, 21-30 и т.д."
   ]
  },
  {
   "cell_type": "code",
   "execution_count": 37,
   "metadata": {},
   "outputs": [
    {
     "data": {
      "text/html": [
       "<div>\n",
       "<style scoped>\n",
       "    .dataframe tbody tr th:only-of-type {\n",
       "        vertical-align: middle;\n",
       "    }\n",
       "\n",
       "    .dataframe tbody tr th {\n",
       "        vertical-align: top;\n",
       "    }\n",
       "\n",
       "    .dataframe thead th {\n",
       "        text-align: right;\n",
       "    }\n",
       "</style>\n",
       "<table border=\"1\" class=\"dataframe\">\n",
       "  <thead>\n",
       "    <tr style=\"text-align: right;\">\n",
       "      <th></th>\n",
       "      <th>CountWords</th>\n",
       "    </tr>\n",
       "    <tr>\n",
       "      <th>Groups</th>\n",
       "      <th></th>\n",
       "    </tr>\n",
       "  </thead>\n",
       "  <tbody>\n",
       "    <tr>\n",
       "      <th>1 - 10</th>\n",
       "      <td>343</td>\n",
       "    </tr>\n",
       "    <tr>\n",
       "      <th>11 - 20</th>\n",
       "      <td>840</td>\n",
       "    </tr>\n",
       "    <tr>\n",
       "      <th>21 - 30</th>\n",
       "      <td>447</td>\n",
       "    </tr>\n",
       "    <tr>\n",
       "      <th>31 - 40</th>\n",
       "      <td>254</td>\n",
       "    </tr>\n",
       "    <tr>\n",
       "      <th>41 - 50</th>\n",
       "      <td>168</td>\n",
       "    </tr>\n",
       "    <tr>\n",
       "      <th>51 - 60</th>\n",
       "      <td>101</td>\n",
       "    </tr>\n",
       "    <tr>\n",
       "      <th>61 - 70</th>\n",
       "      <td>49</td>\n",
       "    </tr>\n",
       "    <tr>\n",
       "      <th>71 - 80</th>\n",
       "      <td>8</td>\n",
       "    </tr>\n",
       "  </tbody>\n",
       "</table>\n",
       "</div>"
      ],
      "text/plain": [
       "         CountWords\n",
       "Groups             \n",
       "1 - 10          343\n",
       "11 - 20         840\n",
       "21 - 30         447\n",
       "31 - 40         254\n",
       "41 - 50         168\n",
       "51 - 60         101\n",
       "61 - 70          49\n",
       "71 - 80           8"
      ]
     },
     "execution_count": 37,
     "metadata": {},
     "output_type": "execute_result"
    }
   ],
   "source": [
    "def get_interval(x):\n",
    "    left = x // 10 *10 + 1\n",
    "    return f'{left} - {left-1+10}'\n",
    "\n",
    "data['Groups'] = data['CountWords'].apply(get_interval)\n",
    "groups_df = data[['CountWords', 'Groups']].groupby(['Groups']).count()\n",
    "groups_df"
   ]
  },
  {
   "cell_type": "code",
   "execution_count": 38,
   "metadata": {},
   "outputs": [
    {
     "data": {
      "image/png": "[encoded data removed]",
      "text/plain": [
       "<Figure size 1400x600 with 2 Axes>"
      ]
     },
     "metadata": {},
     "output_type": "display_data"
    }
   ],
   "source": [
    "groups = groups_df.index.values\n",
    "values = groups_df.values.flatten()\n",
    "\n",
    "fig, (ax1, ax2) = plt.subplots(1, 2, figsize=(14, 6))\n",
    "ax1.bar(groups, values)\n",
    "ax2.pie(values, autopct='%1.1f%%')\n",
    "ax2.legend(groups, title='Groups')\n",
    "\n",
    "plt.show()"
   ]
  },
  {
   "cell_type": "markdown",
   "metadata": {},
   "source": [
    "Так как я не обладаю хорошими вычислительными мощностями, мной было принято решение удалить группы в диапазоне 25-80. Потери составляют чуть больше 27%"
   ]
  },
  {
   "cell_type": "code",
   "execution_count": 39,
   "metadata": {},
   "outputs": [
    {
     "data": {
      "text/html": [
       "<div>\n",
       "<style scoped>\n",
       "    .dataframe tbody tr th:only-of-type {\n",
       "        vertical-align: middle;\n",
       "    }\n",
       "\n",
       "    .dataframe tbody tr th {\n",
       "        vertical-align: top;\n",
       "    }\n",
       "\n",
       "    .dataframe thead th {\n",
       "        text-align: right;\n",
       "    }\n",
       "</style>\n",
       "<table border=\"1\" class=\"dataframe\">\n",
       "  <thead>\n",
       "    <tr style=\"text-align: right;\">\n",
       "      <th></th>\n",
       "      <th>Quote</th>\n",
       "      <th>Clear</th>\n",
       "      <th>CountWords</th>\n",
       "      <th>Groups</th>\n",
       "    </tr>\n",
       "  </thead>\n",
       "  <tbody>\n",
       "    <tr>\n",
       "      <th>1</th>\n",
       "      <td>Ничто так не способствует успокоению ума,  как...</td>\n",
       "      <td>ничто так не способствует успокоению ума как у...</td>\n",
       "      <td>9</td>\n",
       "      <td>1 - 10</td>\n",
       "    </tr>\n",
       "    <tr>\n",
       "      <th>2</th>\n",
       "      <td>Никогда не тратьте впустую время на что-то важ...</td>\n",
       "      <td>никогда не тратьте впустую время на что-то важ...</td>\n",
       "      <td>18</td>\n",
       "      <td>11 - 20</td>\n",
       "    </tr>\n",
       "    <tr>\n",
       "      <th>4</th>\n",
       "      <td>\" Иногда потеря домашнего животного более боле...</td>\n",
       "      <td>иногда потеря домашнего животного более болезн...</td>\n",
       "      <td>22</td>\n",
       "      <td>21 - 30</td>\n",
       "    </tr>\n",
       "    <tr>\n",
       "      <th>5</th>\n",
       "      <td>\" То,  что лежит позади вас и что лежит перед ...</td>\n",
       "      <td>то что лежит позади вас и что лежит перед вами...</td>\n",
       "      <td>19</td>\n",
       "      <td>11 - 20</td>\n",
       "    </tr>\n",
       "    <tr>\n",
       "      <th>8</th>\n",
       "      <td>Прелесть сотрудничества между старшим и младши...</td>\n",
       "      <td>прелесть сотрудничества между старшим и младши...</td>\n",
       "      <td>22</td>\n",
       "      <td>21 - 30</td>\n",
       "    </tr>\n",
       "  </tbody>\n",
       "</table>\n",
       "</div>"
      ],
      "text/plain": [
       "                                               Quote  \\\n",
       "1  Ничто так не способствует успокоению ума,  как...   \n",
       "2  Никогда не тратьте впустую время на что-то важ...   \n",
       "4  \" Иногда потеря домашнего животного более боле...   \n",
       "5  \" То,  что лежит позади вас и что лежит перед ...   \n",
       "8  Прелесть сотрудничества между старшим и младши...   \n",
       "\n",
       "                                               Clear  CountWords   Groups  \n",
       "1  ничто так не способствует успокоению ума как у...           9   1 - 10  \n",
       "2  никогда не тратьте впустую время на что-то важ...          18  11 - 20  \n",
       "4  иногда потеря домашнего животного более болезн...          22  21 - 30  \n",
       "5  то что лежит позади вас и что лежит перед вами...          19  11 - 20  \n",
       "8  прелесть сотрудничества между старшим и младши...          22  21 - 30  "
      ]
     },
     "execution_count": 39,
     "metadata": {},
     "output_type": "execute_result"
    }
   ],
   "source": [
    "data = data[data['CountWords'] <= 24]\n",
    "data.head()"
   ]
  },
  {
   "cell_type": "code",
   "execution_count": 40,
   "metadata": {},
   "outputs": [
    {
     "data": {
      "text/html": [
       "<div>\n",
       "<style scoped>\n",
       "    .dataframe tbody tr th:only-of-type {\n",
       "        vertical-align: middle;\n",
       "    }\n",
       "\n",
       "    .dataframe tbody tr th {\n",
       "        vertical-align: top;\n",
       "    }\n",
       "\n",
       "    .dataframe thead th {\n",
       "        text-align: right;\n",
       "    }\n",
       "</style>\n",
       "<table border=\"1\" class=\"dataframe\">\n",
       "  <thead>\n",
       "    <tr style=\"text-align: right;\">\n",
       "      <th></th>\n",
       "      <th>CountWords</th>\n",
       "    </tr>\n",
       "  </thead>\n",
       "  <tbody>\n",
       "    <tr>\n",
       "      <th>count</th>\n",
       "      <td>1428.000000</td>\n",
       "    </tr>\n",
       "    <tr>\n",
       "      <th>mean</th>\n",
       "      <td>13.810924</td>\n",
       "    </tr>\n",
       "    <tr>\n",
       "      <th>std</th>\n",
       "      <td>5.289049</td>\n",
       "    </tr>\n",
       "    <tr>\n",
       "      <th>min</th>\n",
       "      <td>2.000000</td>\n",
       "    </tr>\n",
       "    <tr>\n",
       "      <th>25%</th>\n",
       "      <td>10.000000</td>\n",
       "    </tr>\n",
       "    <tr>\n",
       "      <th>50%</th>\n",
       "      <td>13.000000</td>\n",
       "    </tr>\n",
       "    <tr>\n",
       "      <th>75%</th>\n",
       "      <td>18.000000</td>\n",
       "    </tr>\n",
       "    <tr>\n",
       "      <th>max</th>\n",
       "      <td>24.000000</td>\n",
       "    </tr>\n",
       "  </tbody>\n",
       "</table>\n",
       "</div>"
      ],
      "text/plain": [
       "        CountWords\n",
       "count  1428.000000\n",
       "mean     13.810924\n",
       "std       5.289049\n",
       "min       2.000000\n",
       "25%      10.000000\n",
       "50%      13.000000\n",
       "75%      18.000000\n",
       "max      24.000000"
      ]
     },
     "execution_count": 40,
     "metadata": {},
     "output_type": "execute_result"
    }
   ],
   "source": [
    "data.describe()"
   ]
  },
  {
   "cell_type": "code",
   "execution_count": 41,
   "metadata": {},
   "outputs": [
    {
     "data": {
      "image/png": "[encoded data removed]",
      "text/plain": [
       "<Figure size 640x480 with 1 Axes>"
      ]
     },
     "metadata": {},
     "output_type": "display_data"
    }
   ],
   "source": [
    "# Проанализируем распределение\n",
    "ax = data.plot.bar(x=None, y='CountWords')\n",
    "\n",
    "ax.set_xticklabels([])\n",
    "ax.set_yticklabels([])\n",
    "\n",
    "plt.show()"
   ]
  },
  {
   "cell_type": "markdown",
   "metadata": {},
   "source": [
    "Выводы по анализу количества слов: Удалось снизить среднее значение количества слов, без значительных потерь. 75% Данных лежат в диапазоне до 18 слов. При этом std и график распределения говорят о разнообразности набора.  "
   ]
  },
  {
   "cell_type": "code",
   "execution_count": 42,
   "metadata": {},
   "outputs": [],
   "source": [
    "data[['Quote', 'Clear']].to_csv(f'data/clear_data_up_to_24.csv', index=False)"
   ]
  },
  {
   "cell_type": "markdown",
   "metadata": {},
   "source": [
    "### Анализ самих слов в цитатах "
   ]
  },
  {
   "cell_type": "code",
   "execution_count": 4,
   "metadata": {},
   "outputs": [
    {
     "data": {
      "text/html": [
       "<div>\n",
       "<style scoped>\n",
       "    .dataframe tbody tr th:only-of-type {\n",
       "        vertical-align: middle;\n",
       "    }\n",
       "\n",
       "    .dataframe tbody tr th {\n",
       "        vertical-align: top;\n",
       "    }\n",
       "\n",
       "    .dataframe thead th {\n",
       "        text-align: right;\n",
       "    }\n",
       "</style>\n",
       "<table border=\"1\" class=\"dataframe\">\n",
       "  <thead>\n",
       "    <tr style=\"text-align: right;\">\n",
       "      <th></th>\n",
       "      <th>Quote</th>\n",
       "      <th>Clear</th>\n",
       "    </tr>\n",
       "  </thead>\n",
       "  <tbody>\n",
       "    <tr>\n",
       "      <th>0</th>\n",
       "      <td>Ничто так не способствует успокоению ума,  как...</td>\n",
       "      <td>ничто так не способствует успокоению ума как у...</td>\n",
       "    </tr>\n",
       "    <tr>\n",
       "      <th>1</th>\n",
       "      <td>Никогда не тратьте впустую время на что-то важ...</td>\n",
       "      <td>никогда не тратьте впустую время на что-то важ...</td>\n",
       "    </tr>\n",
       "    <tr>\n",
       "      <th>2</th>\n",
       "      <td>\" Иногда потеря домашнего животного более боле...</td>\n",
       "      <td>иногда потеря домашнего животного более болезн...</td>\n",
       "    </tr>\n",
       "    <tr>\n",
       "      <th>3</th>\n",
       "      <td>\" То,  что лежит позади вас и что лежит перед ...</td>\n",
       "      <td>то что лежит позади вас и что лежит перед вами...</td>\n",
       "    </tr>\n",
       "    <tr>\n",
       "      <th>4</th>\n",
       "      <td>Прелесть сотрудничества между старшим и младши...</td>\n",
       "      <td>прелесть сотрудничества между старшим и младши...</td>\n",
       "    </tr>\n",
       "  </tbody>\n",
       "</table>\n",
       "</div>"
      ],
      "text/plain": [
       "                                               Quote  \\\n",
       "0  Ничто так не способствует успокоению ума,  как...   \n",
       "1  Никогда не тратьте впустую время на что-то важ...   \n",
       "2  \" Иногда потеря домашнего животного более боле...   \n",
       "3  \" То,  что лежит позади вас и что лежит перед ...   \n",
       "4  Прелесть сотрудничества между старшим и младши...   \n",
       "\n",
       "                                               Clear  \n",
       "0  ничто так не способствует успокоению ума как у...  \n",
       "1  никогда не тратьте впустую время на что-то важ...  \n",
       "2  иногда потеря домашнего животного более болезн...  \n",
       "3  то что лежит позади вас и что лежит перед вами...  \n",
       "4  прелесть сотрудничества между старшим и младши...  "
      ]
     },
     "execution_count": 4,
     "metadata": {},
     "output_type": "execute_result"
    }
   ],
   "source": [
    "data = pd.read_csv('data/clear_data_up_to_24.csv')\n",
    "data.head()"
   ]
  },
  {
   "cell_type": "code",
   "execution_count": 5,
   "metadata": {},
   "outputs": [
    {
     "data": {
      "text/plain": [
       "6316"
      ]
     },
     "metadata": {},
     "output_type": "display_data"
    },
    {
     "data": {
      "text/html": [
       "<div>\n",
       "<style scoped>\n",
       "    .dataframe tbody tr th:only-of-type {\n",
       "        vertical-align: middle;\n",
       "    }\n",
       "\n",
       "    .dataframe tbody tr th {\n",
       "        vertical-align: top;\n",
       "    }\n",
       "\n",
       "    .dataframe thead th {\n",
       "        text-align: right;\n",
       "    }\n",
       "</style>\n",
       "<table border=\"1\" class=\"dataframe\">\n",
       "  <thead>\n",
       "    <tr style=\"text-align: right;\">\n",
       "      <th></th>\n",
       "      <th>Word</th>\n",
       "      <th>count</th>\n",
       "    </tr>\n",
       "  </thead>\n",
       "  <tbody>\n",
       "    <tr>\n",
       "      <th>0</th>\n",
       "      <td>и</td>\n",
       "      <td>502</td>\n",
       "    </tr>\n",
       "    <tr>\n",
       "      <th>1</th>\n",
       "      <td>не</td>\n",
       "      <td>493</td>\n",
       "    </tr>\n",
       "    <tr>\n",
       "      <th>2</th>\n",
       "      <td>в</td>\n",
       "      <td>441</td>\n",
       "    </tr>\n",
       "    <tr>\n",
       "      <th>3</th>\n",
       "      <td>что</td>\n",
       "      <td>405</td>\n",
       "    </tr>\n",
       "    <tr>\n",
       "      <th>4</th>\n",
       "      <td>это</td>\n",
       "      <td>397</td>\n",
       "    </tr>\n",
       "    <tr>\n",
       "      <th>5</th>\n",
       "      <td>я</td>\n",
       "      <td>351</td>\n",
       "    </tr>\n",
       "    <tr>\n",
       "      <th>6</th>\n",
       "      <td>на</td>\n",
       "      <td>179</td>\n",
       "    </tr>\n",
       "    <tr>\n",
       "      <th>7</th>\n",
       "      <td>как</td>\n",
       "      <td>175</td>\n",
       "    </tr>\n",
       "    <tr>\n",
       "      <th>8</th>\n",
       "      <td>ты</td>\n",
       "      <td>169</td>\n",
       "    </tr>\n",
       "    <tr>\n",
       "      <th>9</th>\n",
       "      <td>вы</td>\n",
       "      <td>162</td>\n",
       "    </tr>\n",
       "  </tbody>\n",
       "</table>\n",
       "</div>"
      ],
      "text/plain": [
       "  Word  count\n",
       "0    и    502\n",
       "1   не    493\n",
       "2    в    441\n",
       "3  что    405\n",
       "4  это    397\n",
       "5    я    351\n",
       "6   на    179\n",
       "7  как    175\n",
       "8   ты    169\n",
       "9   вы    162"
      ]
     },
     "execution_count": 5,
     "metadata": {},
     "output_type": "execute_result"
    }
   ],
   "source": [
    "word_counts = pd.Series(' '.join(data['Clear']).split()).value_counts()\n",
    "word_counts_df = word_counts.reset_index().rename(columns={'index': 'Word'})\n",
    "display(word_counts.shape[0])\n",
    "word_counts_df.head(10)"
   ]
  },
  {
   "cell_type": "code",
   "execution_count": 6,
   "metadata": {},
   "outputs": [
    {
     "data": {
      "text/html": [
       "<div>\n",
       "<style scoped>\n",
       "    .dataframe tbody tr th:only-of-type {\n",
       "        vertical-align: middle;\n",
       "    }\n",
       "\n",
       "    .dataframe tbody tr th {\n",
       "        vertical-align: top;\n",
       "    }\n",
       "\n",
       "    .dataframe thead th {\n",
       "        text-align: right;\n",
       "    }\n",
       "</style>\n",
       "<table border=\"1\" class=\"dataframe\">\n",
       "  <thead>\n",
       "    <tr style=\"text-align: right;\">\n",
       "      <th></th>\n",
       "      <th>Word</th>\n",
       "      <th>count</th>\n",
       "      <th>LenWord</th>\n",
       "    </tr>\n",
       "  </thead>\n",
       "  <tbody>\n",
       "    <tr>\n",
       "      <th>0</th>\n",
       "      <td>и</td>\n",
       "      <td>502</td>\n",
       "      <td>1</td>\n",
       "    </tr>\n",
       "    <tr>\n",
       "      <th>4093</th>\n",
       "      <td>н</td>\n",
       "      <td>1</td>\n",
       "      <td>1</td>\n",
       "    </tr>\n",
       "    <tr>\n",
       "      <th>2773</th>\n",
       "      <td>л</td>\n",
       "      <td>1</td>\n",
       "      <td>1</td>\n",
       "    </tr>\n",
       "    <tr>\n",
       "      <th>1092</th>\n",
       "      <td>1</td>\n",
       "      <td>2</td>\n",
       "      <td>1</td>\n",
       "    </tr>\n",
       "    <tr>\n",
       "      <th>1107</th>\n",
       "      <td>-</td>\n",
       "      <td>2</td>\n",
       "      <td>1</td>\n",
       "    </tr>\n",
       "    <tr>\n",
       "      <th>...</th>\n",
       "      <td>...</td>\n",
       "      <td>...</td>\n",
       "      <td>...</td>\n",
       "    </tr>\n",
       "    <tr>\n",
       "      <th>5727</th>\n",
       "      <td>антиинтеллектуализм</td>\n",
       "      <td>1</td>\n",
       "      <td>19</td>\n",
       "    </tr>\n",
       "    <tr>\n",
       "      <th>5263</th>\n",
       "      <td>конкурентоспособность</td>\n",
       "      <td>1</td>\n",
       "      <td>21</td>\n",
       "    </tr>\n",
       "    <tr>\n",
       "      <th>4274</th>\n",
       "      <td>причинно-следственной</td>\n",
       "      <td>1</td>\n",
       "      <td>21</td>\n",
       "    </tr>\n",
       "    <tr>\n",
       "      <th>3531</th>\n",
       "      <td>институционализированное</td>\n",
       "      <td>1</td>\n",
       "      <td>24</td>\n",
       "    </tr>\n",
       "    <tr>\n",
       "      <th>2300</th>\n",
       "      <td>христиане-фундаменталисты</td>\n",
       "      <td>1</td>\n",
       "      <td>25</td>\n",
       "    </tr>\n",
       "  </tbody>\n",
       "</table>\n",
       "<p>6316 rows × 3 columns</p>\n",
       "</div>"
      ],
      "text/plain": [
       "                           Word  count  LenWord\n",
       "0                             и    502        1\n",
       "4093                          н      1        1\n",
       "2773                          л      1        1\n",
       "1092                          1      2        1\n",
       "1107                          -      2        1\n",
       "...                         ...    ...      ...\n",
       "5727        антиинтеллектуализм      1       19\n",
       "5263      конкурентоспособность      1       21\n",
       "4274      причинно-следственной      1       21\n",
       "3531   институционализированное      1       24\n",
       "2300  христиане-фундаменталисты      1       25\n",
       "\n",
       "[6316 rows x 3 columns]"
      ]
     },
     "execution_count": 6,
     "metadata": {},
     "output_type": "execute_result"
    }
   ],
   "source": [
    "word_counts_df['LenWord'] = word_counts_df['Word'].str.len()\n",
    "word_counts_df.sort_values(['LenWord'])"
   ]
  },
  {
   "cell_type": "markdown",
   "metadata": {},
   "source": [
    "Проанализируем странные слова длиной 1"
   ]
  },
  {
   "cell_type": "code",
   "execution_count": 7,
   "metadata": {},
   "outputs": [
    {
     "data": {
      "text/html": [
       "<div>\n",
       "<style scoped>\n",
       "    .dataframe tbody tr th:only-of-type {\n",
       "        vertical-align: middle;\n",
       "    }\n",
       "\n",
       "    .dataframe tbody tr th {\n",
       "        vertical-align: top;\n",
       "    }\n",
       "\n",
       "    .dataframe thead th {\n",
       "        text-align: right;\n",
       "    }\n",
       "</style>\n",
       "<table border=\"1\" class=\"dataframe\">\n",
       "  <thead>\n",
       "    <tr style=\"text-align: right;\">\n",
       "      <th></th>\n",
       "      <th>Word</th>\n",
       "      <th>count</th>\n",
       "      <th>LenWord</th>\n",
       "    </tr>\n",
       "  </thead>\n",
       "  <tbody>\n",
       "    <tr>\n",
       "      <th>0</th>\n",
       "      <td>и</td>\n",
       "      <td>502</td>\n",
       "      <td>1</td>\n",
       "    </tr>\n",
       "    <tr>\n",
       "      <th>2</th>\n",
       "      <td>в</td>\n",
       "      <td>441</td>\n",
       "      <td>1</td>\n",
       "    </tr>\n",
       "    <tr>\n",
       "      <th>5</th>\n",
       "      <td>я</td>\n",
       "      <td>351</td>\n",
       "      <td>1</td>\n",
       "    </tr>\n",
       "    <tr>\n",
       "      <th>10</th>\n",
       "      <td>с</td>\n",
       "      <td>143</td>\n",
       "      <td>1</td>\n",
       "    </tr>\n",
       "    <tr>\n",
       "      <th>19</th>\n",
       "      <td>у</td>\n",
       "      <td>92</td>\n",
       "      <td>1</td>\n",
       "    </tr>\n",
       "    <tr>\n",
       "      <th>21</th>\n",
       "      <td>а</td>\n",
       "      <td>88</td>\n",
       "      <td>1</td>\n",
       "    </tr>\n",
       "    <tr>\n",
       "      <th>22</th>\n",
       "      <td>к</td>\n",
       "      <td>87</td>\n",
       "      <td>1</td>\n",
       "    </tr>\n",
       "    <tr>\n",
       "      <th>30</th>\n",
       "      <td>о</td>\n",
       "      <td>71</td>\n",
       "      <td>1</td>\n",
       "    </tr>\n",
       "    <tr>\n",
       "      <th>738</th>\n",
       "      <td>ж</td>\n",
       "      <td>3</td>\n",
       "      <td>1</td>\n",
       "    </tr>\n",
       "    <tr>\n",
       "      <th>1092</th>\n",
       "      <td>1</td>\n",
       "      <td>2</td>\n",
       "      <td>1</td>\n",
       "    </tr>\n",
       "    <tr>\n",
       "      <th>1107</th>\n",
       "      <td>-</td>\n",
       "      <td>2</td>\n",
       "      <td>1</td>\n",
       "    </tr>\n",
       "    <tr>\n",
       "      <th>1647</th>\n",
       "      <td>5</td>\n",
       "      <td>2</td>\n",
       "      <td>1</td>\n",
       "    </tr>\n",
       "    <tr>\n",
       "      <th>2103</th>\n",
       "      <td>6</td>\n",
       "      <td>1</td>\n",
       "      <td>1</td>\n",
       "    </tr>\n",
       "    <tr>\n",
       "      <th>2538</th>\n",
       "      <td>б</td>\n",
       "      <td>1</td>\n",
       "      <td>1</td>\n",
       "    </tr>\n",
       "    <tr>\n",
       "      <th>2773</th>\n",
       "      <td>л</td>\n",
       "      <td>1</td>\n",
       "      <td>1</td>\n",
       "    </tr>\n",
       "    <tr>\n",
       "      <th>3417</th>\n",
       "      <td>г</td>\n",
       "      <td>1</td>\n",
       "      <td>1</td>\n",
       "    </tr>\n",
       "    <tr>\n",
       "      <th>4093</th>\n",
       "      <td>н</td>\n",
       "      <td>1</td>\n",
       "      <td>1</td>\n",
       "    </tr>\n",
       "  </tbody>\n",
       "</table>\n",
       "</div>"
      ],
      "text/plain": [
       "     Word  count  LenWord\n",
       "0       и    502        1\n",
       "2       в    441        1\n",
       "5       я    351        1\n",
       "10      с    143        1\n",
       "19      у     92        1\n",
       "21      а     88        1\n",
       "22      к     87        1\n",
       "30      о     71        1\n",
       "738     ж      3        1\n",
       "1092    1      2        1\n",
       "1107    -      2        1\n",
       "1647    5      2        1\n",
       "2103    6      1        1\n",
       "2538    б      1        1\n",
       "2773    л      1        1\n",
       "3417    г      1        1\n",
       "4093    н      1        1"
      ]
     },
     "execution_count": 7,
     "metadata": {},
     "output_type": "execute_result"
    }
   ],
   "source": [
    "word_counts_df[word_counts_df['LenWord'] == 1]"
   ]
  },
  {
   "cell_type": "code",
   "execution_count": 8,
   "metadata": {},
   "outputs": [
    {
     "data": {
      "text/plain": [
       "array(['ж', '1', '-', '5', '6', 'б', 'л', 'г', 'н'], dtype=object)"
      ]
     },
     "execution_count": 8,
     "metadata": {},
     "output_type": "execute_result"
    }
   ],
   "source": [
    "str_words = word_counts_df[(word_counts_df['LenWord'] == 1) & (word_counts_df['count'] < 10)]['Word'].values\n",
    "str_words"
   ]
  },
  {
   "cell_type": "code",
   "execution_count": 9,
   "metadata": {},
   "outputs": [
    {
     "data": {
      "text/plain": [
       "' ж '"
      ]
     },
     "metadata": {},
     "output_type": "display_data"
    },
    {
     "name": "stdout",
     "output_type": "stream",
     "text": [
      "['что ж я безусловно усвоил урок и надеюсь двигаться дальше и безусловно два года тюрьмы были ужасным наказанием'\n",
      " 'что ж я просто надеюсь что у нас может быть мир и я надеюсь что это принесет какую-то пользу'\n",
      " 'ну что ж я просто подумал что если бы ты умер я бы пригласил тебя разделить со мной туалет']\n"
     ]
    },
    {
     "data": {
      "text/plain": [
       "' 1 '"
      ]
     },
     "metadata": {},
     "output_type": "display_data"
    },
    {
     "name": "stdout",
     "output_type": "stream",
     "text": [
      "['о научи меня как я должен забыть думать 1 1 224']\n"
     ]
    },
    {
     "data": {
      "text/plain": [
       "' - '"
      ]
     },
     "metadata": {},
     "output_type": "display_data"
    },
    {
     "name": "stdout",
     "output_type": "stream",
     "text": [
      "[]\n"
     ]
    },
    {
     "data": {
      "text/plain": [
       "' 5 '"
      ]
     },
     "metadata": {},
     "output_type": "display_data"
    },
    {
     "name": "stdout",
     "output_type": "stream",
     "text": [
      "['избитые женщины 5 избитые женщины более хрустящие'\n",
      " 'что я надеваю в постель почему шанель 5 конечно']\n"
     ]
    },
    {
     "data": {
      "text/plain": [
       "' 6 '"
      ]
     },
     "metadata": {},
     "output_type": "display_data"
    },
    {
     "name": "stdout",
     "output_type": "stream",
     "text": [
      "['есть 6 причин по которым человек делает что-либо любовь вера жадность скука страх месть']\n"
     ]
    },
    {
     "data": {
      "text/plain": [
       "' б '"
      ]
     },
     "metadata": {},
     "output_type": "display_data"
    },
    {
     "name": "stdout",
     "output_type": "stream",
     "text": [
      "['нет причин иметь план б потому что это отвлекает от плана а']\n"
     ]
    },
    {
     "data": {
      "text/plain": [
       "' л '"
      ]
     },
     "metadata": {},
     "output_type": "display_data"
    },
    {
     "name": "stdout",
     "output_type": "stream",
     "text": [
      "['кира ты знаешь что такое яблоки боги смертельной любви л черт бы тебя побрал кира']\n"
     ]
    },
    {
     "data": {
      "text/plain": [
       "' г '"
      ]
     },
     "metadata": {},
     "output_type": "display_data"
    },
    {
     "name": "stdout",
     "output_type": "stream",
     "text": [
      "[]\n"
     ]
    },
    {
     "data": {
      "text/plain": [
       "' н '"
      ]
     },
     "metadata": {},
     "output_type": "display_data"
    },
    {
     "name": "stdout",
     "output_type": "stream",
     "text": [
      "[]\n"
     ]
    }
   ],
   "source": [
    "def find_word(word):\n",
    "    return data[data['Clear'].str.contains(word)]['Clear']\n",
    "\n",
    "for word in str_words:\n",
    "    display(f' {word} ')\n",
    "    print(find_word(f' {word} ').values)"
   ]
  },
  {
   "cell_type": "markdown",
   "metadata": {},
   "source": [
    "Странно, что некоторых вхождений нет... А так все нормально"
   ]
  },
  {
   "cell_type": "markdown",
   "metadata": {},
   "source": [
    "Выводы: удалось сократить максимальную длину предложения до 24 слов. Уникальных слов 6316, можно попробовать использовать токенизацию по словам или embedding"
   ]
  },
  {
   "cell_type": "markdown",
   "metadata": {},
   "source": [
    "## Подготовка данных под обучение (токенизация и векторизация)"
   ]
  },
  {
   "cell_type": "code",
   "execution_count": 95,
   "metadata": {},
   "outputs": [
    {
     "data": {
      "text/html": [
       "<div>\n",
       "<style scoped>\n",
       "    .dataframe tbody tr th:only-of-type {\n",
       "        vertical-align: middle;\n",
       "    }\n",
       "\n",
       "    .dataframe tbody tr th {\n",
       "        vertical-align: top;\n",
       "    }\n",
       "\n",
       "    .dataframe thead th {\n",
       "        text-align: right;\n",
       "    }\n",
       "</style>\n",
       "<table border=\"1\" class=\"dataframe\">\n",
       "  <thead>\n",
       "    <tr style=\"text-align: right;\">\n",
       "      <th></th>\n",
       "      <th>Quote</th>\n",
       "      <th>Clear</th>\n",
       "    </tr>\n",
       "  </thead>\n",
       "  <tbody>\n",
       "    <tr>\n",
       "      <th>0</th>\n",
       "      <td>Ничто так не способствует успокоению ума,  как...</td>\n",
       "      <td>ничто так не способствует успокоению ума как у...</td>\n",
       "    </tr>\n",
       "    <tr>\n",
       "      <th>1</th>\n",
       "      <td>Никогда не тратьте впустую время на что-то важ...</td>\n",
       "      <td>никогда не тратьте впустую время на что-то важ...</td>\n",
       "    </tr>\n",
       "    <tr>\n",
       "      <th>2</th>\n",
       "      <td>\" Иногда потеря домашнего животного более боле...</td>\n",
       "      <td>иногда потеря домашнего животного более болезн...</td>\n",
       "    </tr>\n",
       "    <tr>\n",
       "      <th>3</th>\n",
       "      <td>\" То,  что лежит позади вас и что лежит перед ...</td>\n",
       "      <td>то что лежит позади вас и что лежит перед вами...</td>\n",
       "    </tr>\n",
       "    <tr>\n",
       "      <th>4</th>\n",
       "      <td>Прелесть сотрудничества между старшим и младши...</td>\n",
       "      <td>прелесть сотрудничества между старшим и младши...</td>\n",
       "    </tr>\n",
       "  </tbody>\n",
       "</table>\n",
       "</div>"
      ],
      "text/plain": [
       "                                               Quote  \\\n",
       "0  Ничто так не способствует успокоению ума,  как...   \n",
       "1  Никогда не тратьте впустую время на что-то важ...   \n",
       "2  \" Иногда потеря домашнего животного более боле...   \n",
       "3  \" То,  что лежит позади вас и что лежит перед ...   \n",
       "4  Прелесть сотрудничества между старшим и младши...   \n",
       "\n",
       "                                               Clear  \n",
       "0  ничто так не способствует успокоению ума как у...  \n",
       "1  никогда не тратьте впустую время на что-то важ...  \n",
       "2  иногда потеря домашнего животного более болезн...  \n",
       "3  то что лежит позади вас и что лежит перед вами...  \n",
       "4  прелесть сотрудничества между старшим и младши...  "
      ]
     },
     "execution_count": 95,
     "metadata": {},
     "output_type": "execute_result"
    }
   ],
   "source": [
    "data = pd.read_csv('data/clear_data_up_to_24.csv')\n",
    "data.head()"
   ]
  },
  {
   "cell_type": "code",
   "execution_count": 96,
   "metadata": {},
   "outputs": [
    {
     "data": {
      "text/html": [
       "<div>\n",
       "<style scoped>\n",
       "    .dataframe tbody tr th:only-of-type {\n",
       "        vertical-align: middle;\n",
       "    }\n",
       "\n",
       "    .dataframe tbody tr th {\n",
       "        vertical-align: top;\n",
       "    }\n",
       "\n",
       "    .dataframe thead th {\n",
       "        text-align: right;\n",
       "    }\n",
       "</style>\n",
       "<table border=\"1\" class=\"dataframe\">\n",
       "  <thead>\n",
       "    <tr style=\"text-align: right;\">\n",
       "      <th></th>\n",
       "      <th>Clear</th>\n",
       "    </tr>\n",
       "  </thead>\n",
       "  <tbody>\n",
       "    <tr>\n",
       "      <th>0</th>\n",
       "      <td>ничто так не способствует успокоению ума как у...</td>\n",
       "    </tr>\n",
       "    <tr>\n",
       "      <th>1</th>\n",
       "      <td>никогда не тратьте впустую время на что-то важ...</td>\n",
       "    </tr>\n",
       "    <tr>\n",
       "      <th>2</th>\n",
       "      <td>иногда потеря домашнего животного более болезн...</td>\n",
       "    </tr>\n",
       "    <tr>\n",
       "      <th>3</th>\n",
       "      <td>то что лежит позади вас и что лежит перед вами...</td>\n",
       "    </tr>\n",
       "    <tr>\n",
       "      <th>4</th>\n",
       "      <td>прелесть сотрудничества между старшим и младши...</td>\n",
       "    </tr>\n",
       "  </tbody>\n",
       "</table>\n",
       "</div>"
      ],
      "text/plain": [
       "                                               Clear\n",
       "0  ничто так не способствует успокоению ума как у...\n",
       "1  никогда не тратьте впустую время на что-то важ...\n",
       "2  иногда потеря домашнего животного более болезн...\n",
       "3  то что лежит позади вас и что лежит перед вами...\n",
       "4  прелесть сотрудничества между старшим и младши..."
      ]
     },
     "execution_count": 96,
     "metadata": {},
     "output_type": "execute_result"
    }
   ],
   "source": [
    "corpus = pd.DataFrame(data['Clear'])\n",
    "corpus.head()"
   ]
  },
  {
   "cell_type": "code",
   "execution_count": 97,
   "metadata": {},
   "outputs": [
    {
     "name": "stdout",
     "output_type": "stream",
     "text": [
      "{3: '-', 4: '1', 5: '10', 6: '100', 7: '101', 8: '14', 9: '1856', 10: '19', 11: '1982', 12: '2005', 13: '2012', 14: '21', 15: '224', 16: '5', 17: '6', 18: '60', 19: 'а', 20: 'абсолютно', 21: 'абсолютной', 22: 'абсолютным', 23: 'автобус', 24: 'автор', 25: 'авторе', 26: 'авторов', 27: 'авторучкой', 28: 'авторы', 29: 'агония', 30: 'ад', 31: 'ада', 32: 'адалах', 33: 'администрацией', 34: 'адониса', 35: 'адская', 36: 'акан', 37: 'акин', 38: 'аккорды', 39: 'акрона', 40: 'акт', 41: 'актерский', 42: 'аку', 43: 'акулам', 44: 'акцентом', 45: 'алаган', 46: 'алан', 47: 'алкоголем', 48: 'алтаря', 49: 'альма-матер', 50: 'альтернативы', 51: 'амазонки', 52: 'амбиции', 53: 'аменхотеп', 54: 'америка', 55: 'американское', 56: 'американской', 57: 'американцев', 58: 'америку', 59: 'аморальной', 60: 'анархизм', 61: 'анархическим', 62: 'анг', 63: 'ангел', 64: 'ангел-тусовщица', 65: 'ангелов', 66: 'ангелы', 67: 'английский', 68: 'андерес', 69: 'анды', 70: 'антиинтеллектуализм', 71: 'антузиазм', 72: 'апатии', 73: 'аплодирую', 74: 'аргумент', 75: 'аргументов', 76: 'аргументом', 77: 'аристотель', 78: 'артистка', 79: 'атеизм', 80: 'атеиста', 81: 'атмосфера', 82: 'атомы', 83: 'аудиокниги', 84: 'аудитории', 85: 'аутсайдерах', 86: 'ах', 87: 'аэропортах', 88: 'б', 89: 'бабагузл', 90: 'бабочка', 91: 'бабушкины', 92: 'бадминтон', 93: 'бадминтона', 94: 'базовые', 95: 'баки', 96: 'баллов', 97: 'банальное', 98: 'банкротство', 99: 'баночке', 100: 'бассейн', 101: 'батарейки', 102: 'бахкан', 103: 'бегали', 104: 'бегущее', 105: 'беден', 106: 'бедной', 107: 'бедности', 108: 'бедностью', 109: 'бедствия', 110: 'беду', 111: 'без', 112: 'безбрачия', 113: 'безвыходной', 114: 'безгранична', 115: 'безграничном', 116: 'безграничны', 117: 'безграничными', 118: 'бездельничать', 119: 'бездомных', 120: 'бездумен', 121: 'безмерное', 122: 'безмолвия', 123: 'безнадежный', 124: 'безнадежным', 125: 'безобидное', 126: 'безопаснее', 127: 'безопасно', 128: 'безопасности', 129: 'безрадостным', 130: 'безразличны', 131: 'безрассудно', 132: 'безрассудство', 133: 'безумие', 134: 'безумно', 135: 'безумному', 136: 'безумцев', 137: 'безусловная', 138: 'безусловно', 139: 'бей', 140: 'бейсболистов', 141: 'белая', 142: 'белла', 143: 'берег', 144: 'беременный', 145: 'берпутар', 146: 'берущий', 147: 'бесконечно', 148: 'бесконечной', 149: 'бесконечную', 150: 'бесконечными', 151: 'бескорыстии', 152: 'бесплатной', 153: 'бесплатную', 154: 'беспокоился', 155: 'беспокоит', 156: 'беспокоитесь', 157: 'беспокоиться', 158: 'беспокойство', 159: 'беспокойся', 160: 'беспокоятся', 161: 'беспорядок', 162: 'бессильные', 163: 'бессмертие', 164: 'бессмертия', 165: 'бессмертно', 166: 'бессмертного', 167: 'бессмертную', 168: 'бессмысленная', 169: 'бессмыслица', 170: 'бесстрашная', 171: 'бесстрашным', 172: 'бесстыдно', 173: 'бесформенному', 174: 'бесчисленной', 175: 'библии', 176: 'библиотека', 177: 'библиотеки', 178: 'библия', 179: 'бизнес', 180: 'бизнеса', 181: 'бизнесе', 182: 'биса', 183: 'битва', 184: 'благо', 185: 'благоговейно', 186: 'благодарности', 187: 'благодарны', 188: 'благодаря', 189: 'благодати', 190: 'благородный', 191: 'благородства', 192: 'благословения', 193: 'блаженства', 194: 'блаженство', 195: 'блаженством', 196: 'блеск', 197: 'ближайшем', 198: 'ближайшую', 199: 'близки', 200: 'близок', 201: 'блинами', 202: 'блоки', 203: 'блокируется', 204: 'блуждать', 205: 'боб', 206: 'боба', 207: 'бобрицу', 208: 'бог', 209: 'бога', 210: 'богами', 211: 'богат', 212: 'богатства', 213: 'богатство', 214: 'богатым', 215: 'боге', 216: 'боги', 217: 'богов', 218: 'богом', 219: 'богу', 220: 'боже', 221: 'божественного', 222: 'божественной', 223: 'божий', 224: 'божье', 225: 'божьего', 226: 'божьей', 227: 'божью', 228: 'боитесь', 229: 'боится', 230: 'боишься', 231: 'бойся', 232: 'бойтесь', 233: 'бокал', 234: 'бокалом', 235: 'боксерские', 236: 'более', 237: 'болезней', 238: 'болезненна', 239: 'болезненная', 240: 'болезненное', 241: 'болезни', 242: 'болезнь', 243: 'боли', 244: 'болотного', 245: 'боль', 246: 'больнее', 247: 'больничных', 248: 'больно', 249: 'больное', 250: 'больны', 251: 'больше', 252: 'большего', 253: 'большей', 254: 'большем', 255: 'большие', 256: 'большим', 257: 'большинства', 258: 'большинство', 259: 'большинству', 260: 'большого', 261: 'большое', 262: 'большой', 263: 'большом', 264: 'болью', 265: 'бородавка', 266: 'боролся', 267: 'бороться', 268: 'борьба', 269: 'борьбы', 270: 'борюсь', 271: 'борясь', 272: 'боюсь', 273: 'боя', 274: 'боялся', 275: 'боятся', 276: 'бояться', 277: 'брак', 278: 'брасс', 279: 'брата', 280: 'братство', 281: 'бриллиантами', 282: 'бродить', 283: 'броманс', 284: 'бросаем', 285: 'бросает', 286: 'бросаются', 287: 'будем', 288: 'будет', 289: 'будете', 290: 'будешь', 291: 'будто', 292: 'буду', 293: 'будут', 294: 'будучи', 295: 'будущего', 296: 'будущее', 297: 'будущем', 298: 'будущему', 299: 'будущим', 300: 'будь', 301: 'будьте', 302: 'букан', 303: 'буквально', 304: 'буквы', 305: 'булавок', 306: 'бульон', 307: 'бумага', 308: 'бурю', 309: 'бусидо', 310: 'буша-старшего', 311: 'бушующего', 312: 'бъдещето', 313: 'бы', 314: 'бывает', 315: 'бывают', 316: 'бывшего', 317: 'бывшему', 318: 'бык', 319: 'был', 320: 'была', 321: 'были', 322: 'было', 323: 'быстрее', 324: 'быстро', 325: 'быть', 326: 'бьет', 327: 'бьющимся', 328: 'в', 329: 'важен', 330: 'важная', 331: 'важнее', 332: 'важнейшие', 333: 'важнейшими', 334: 'важно', 335: 'важное', 336: 'важной', 337: 'важном', 338: 'важности', 339: 'важны', 340: 'важными', 341: 'вазу', 342: 'вайсс', 343: 'вайсст', 344: 'валанг', 345: 'валентина', 346: 'валяющихся', 347: 'вам', 348: 'вами', 349: 'вампирах', 350: 'вампиры', 351: 'ванны', 352: 'вариантах', 353: 'варианты', 354: 'вариации', 355: 'варю', 356: 'вас', 357: 'ваш', 358: 'ваша', 359: 'ваше', 360: 'вашего', 361: 'вашей', 362: 'вашем', 363: 'вашему', 364: 'ваши', 365: 'вашим', 366: 'вашими', 367: 'вашу', 368: 'вверх', 369: 'вдохновение', 370: 'вдохновит', 371: 'вдохновляет', 372: 'вдохновляли', 373: 'вдохновлять', 374: 'вдохновляющая', 375: 'вдохновляюще', 376: 'вдохновляющий', 377: 'вдохновляющими', 378: 'вдыхаешь', 379: 'вегасе', 380: 'вегетарианцем', 381: 'ведет', 382: 'ведете', 383: 'ведут', 384: 'ведущий', 385: 'вежливость', 386: 'везде', 387: 'веками', 388: 'веке', 389: 'великая', 390: 'великие', 391: 'великий', 392: 'великим', 393: 'великих', 394: 'великое', 395: 'великой', 396: 'великолепной', 397: 'великолепную', 398: 'великолепный', 399: 'великолепных', 400: 'великую', 401: 'величайшее', 402: 'величайший', 403: 'величайших', 404: 'величественна', 405: 'величественно', 406: 'величие', 407: 'величина', 408: 'венеция', 409: 'венн', 410: 'вера', 411: 'вере', 412: 'верил', 413: 'верила', 414: 'верили', 415: 'верит', 416: 'верите', 417: 'верить', 418: 'вернешься', 419: 'верно', 420: 'верность', 421: 'вернув', 422: 'вернулся', 423: 'вернуть', 424: 'вернуться', 425: 'верный', 426: 'верным', 427: 'верными', 428: 'верой', 429: 'вероятно', 430: 'веру', 431: 'веры', 432: 'верь', 433: 'верю', 434: 'верят', 435: 'весело', 436: 'веселость', 437: 'весит', 438: 'весну', 439: 'весны', 440: 'вести', 441: 'вестники', 442: 'вестником', 443: 'весь', 444: 'ветви', 445: 'ветра', 446: 'ветром', 447: 'ветру', 448: 'вечеринке', 449: 'вечером', 450: 'вечна', 451: 'вечно', 452: 'вечности', 453: 'вечность', 454: 'вечны', 455: 'вещам', 456: 'вещами', 457: 'вещах', 458: 'вещей', 459: 'вещи', 460: 'вещь', 461: 'вещью', 462: 'взаимностью', 463: 'взаимосвязи', 464: 'взвешивать', 465: 'взгляда', 466: 'взглядом', 467: 'вздохнула', 468: 'вздремни', 469: 'вздремнуть', 470: 'взлеты', 471: 'взобраться', 472: 'взывает', 473: 'взять', 474: 'вид', 475: 'вида', 476: 'видел', 477: 'видели', 478: 'видение', 479: 'видеть', 480: 'видим', 481: 'видимая', 482: 'видит', 483: 'видите', 484: 'видишь', 485: 'видно', 486: 'видов', 487: 'виду', 488: 'видят', 489: 'вижу', 490: 'вините', 491: 'вино', 492: 'вины', 493: 'виню', 494: 'випассана', 495: 'виртуальная', 496: 'вклада', 497: 'вкладывает', 498: 'вкладываешь', 499: 'вкладывать', 500: 'включая', 501: 'вкус', 502: 'вкуса', 503: 'вкусы', 504: 'влад', 505: 'владеет', 506: 'владея', 507: 'власти', 508: 'власть', 509: 'влияет', 510: 'влияние', 511: 'влиянием', 512: 'влияния', 513: 'влиять', 514: 'вложена', 515: 'влюбится', 516: 'влюблен', 517: 'влюбленного', 518: 'влюбленный', 519: 'влюбленным', 520: 'влюбленных', 521: 'влюбляться', 522: 'влюбляюсь', 523: 'влюбляются', 524: 'вместе', 525: 'вместо', 526: 'внезапно', 527: 'внезапными', 528: 'внести', 529: 'внешнее', 530: 'внешним', 531: 'внешних', 532: 'вниз', 533: 'внимание', 534: 'внутреннее', 535: 'внутренний', 536: 'внутренним', 537: 'внутреннюю', 538: 'внутренняя', 539: 'внутри', 540: 'внутрь', 541: 'во', 542: 'вовлечение', 543: 'вовне', 544: 'вовсе', 545: 'вода', 546: 'водитель', 547: 'воду', 548: 'воды', 549: 'воедино', 550: 'возбуждения', 551: 'возвращает', 552: 'возвращаться', 553: 'возвращаюсь', 554: 'возвращения', 555: 'возвращены', 556: 'возвышенного', 557: 'возвышенной', 558: 'возвышенные', 559: 'воздух', 560: 'воздушном', 561: 'возможно', 562: 'возможного', 563: 'возможностей', 564: 'возможности', 565: 'возможность', 566: 'возможностью', 567: 'возможные', 568: 'возможным', 569: 'возможных', 570: 'вознаграждает', 571: 'возникает', 572: 'возрадовался', 573: 'возраст', 574: 'возраста', 575: 'возрастов', 576: 'возродиться', 577: 'возрождений', 578: 'возьми', 579: 'возьмите', 580: 'возьму', 581: 'воин', 582: 'воина', 583: 'война', 584: 'войне', 585: 'войну', 586: 'войны', 587: 'войти', 588: 'вокруг', 589: 'волдеморт', 590: 'воле', 591: 'волей', 592: 'воли', 593: 'волн', 594: 'волнует', 595: 'волнуют', 596: 'волос', 597: 'волшебный', 598: 'волю', 599: 'воля', 600: 'воображаемые', 601: 'воображение', 602: 'воображению', 603: 'воображения', 604: 'вообще', 605: 'воплощение', 606: 'вопреки', 607: 'вопрос', 608: 'вопроса', 609: 'вопросах', 610: 'вопросе', 611: 'вопросов', 612: 'вопросы', 613: 'вопрошающий', 614: 'восемь', 615: 'восклицательные', 616: 'воспарить', 617: 'воспитывайте', 618: 'воспитывать', 619: 'воспользовался', 620: 'воспоминание', 621: 'воспоминания', 622: 'воспринимаемые', 623: 'воспринимать', 624: 'восприятие', 625: 'восстановления', 626: 'восторженной', 627: 'восхищаюсь', 628: 'восхищение', 629: 'восхищения', 630: 'восход', 631: 'вот', 632: 'воткнешь', 633: 'впервые', 634: 'вперед', 635: 'впереди', 636: 'впечатление', 637: 'впечатления', 638: 'впитываешь', 639: 'вправе', 640: 'впустую', 641: 'враг', 642: 'врага', 643: 'врагами', 644: 'враги', 645: 'врагов', 646: 'врагом', 647: 'вращалось', 648: 'времена', 649: 'временами', 650: 'временем', 651: 'временен', 652: 'времени', 653: 'временная', 654: 'временную', 655: 'время', 656: 'вручаю', 657: 'вручную', 658: 'вряд', 659: 'все', 660: 'всегда', 661: 'всего', 662: 'всей', 663: 'вселенная', 664: 'вселенной', 665: 'вселенную', 666: 'вселенским', 667: 'всем', 668: 'всеми', 669: 'всемирная', 670: 'всему', 671: 'всепроникающий', 672: 'всепрощающая', 673: 'всепрощающей', 674: 'всех', 675: 'вскоре', 676: 'вслух', 677: 'вспышка', 678: 'вставай', 679: 'встает', 680: 'встаете', 681: 'встали', 682: 'встанет', 683: 'встретит', 684: 'встретить', 685: 'встречаем', 686: 'встречается', 687: 'встречались', 688: 'встречался', 689: 'встречаются', 690: 'вступите', 691: 'вступительная', 692: 'всю', 693: 'вся', 694: 'всякий', 695: 'всякой', 696: 'всякую', 697: 'вт', 698: 'вторая', 699: 'вторникам', 700: 'второй', 701: 'вудс', 702: 'вуду', 703: 'вузов', 704: 'вулкан', 705: 'вчера', 706: 'вчерашний', 707: 'вшил', 708: 'вы', 709: 'выберите', 710: 'выбирает', 711: 'выбирай', 712: 'выбирайте', 713: 'выбирал', 714: 'выбирать', 715: 'выбор', 716: 'выбора', 717: 'выбрать', 718: 'выбраться', 719: 'выбросить', 720: 'выводы', 721: 'выглядел', 722: 'выглядишь', 723: 'выглядят', 724: 'выдыхаешь', 725: 'выживанию', 726: 'выживания', 727: 'вызвать', 728: 'вызов', 729: 'вызывает', 730: 'вызывающе', 731: 'вызывающую', 732: 'выигрывает', 733: 'выйти', 734: 'выкованы', 735: 'вымышленные', 736: 'вымышленным', 737: 'вынести', 738: 'выполнена', 739: 'выполнение', 740: 'выполнил', 741: 'выпускаю', 742: 'выпутывается', 743: 'выработать', 744: 'выравнивает', 745: 'выражает', 746: 'выражение', 747: 'выразить', 748: 'вырастет', 749: 'вырасти', 750: 'выращивает', 751: 'вырос', 752: 'высказывать', 753: 'высказывают', 754: 'выслушал', 755: 'высмеивать', 756: 'высоко', 757: 'высокое', 758: 'высокой', 759: 'высоты', 760: 'выстрел', 761: 'выступать', 762: 'выступление', 763: 'высшая', 764: 'высшее', 765: 'высшей', 766: 'высшим', 767: 'вытер', 768: 'вытесняет', 769: 'выть', 770: 'выход', 771: 'выхода', 772: 'выходи', 773: 'выходит', 774: 'выше', 775: 'вышел', 776: 'вышла', 777: 'выяснить', 778: 'г', 779: 'гага', 780: 'гагал', 781: 'газа', 782: 'газета', 783: 'гамитин', 784: 'гарантировано', 785: 'гарлема', 786: 'гармонии', 787: 'гармонию', 788: 'гарнир', 789: 'гасит', 790: 'гвоздь', 791: 'где', 792: 'где-либо', 793: 'где-нибудь', 794: 'где-то', 795: 'гевальт', 796: 'гейб', 797: 'гена', 798: 'генератором', 799: 'гением', 800: 'генитальный', 801: 'гения', 802: 'герое', 803: 'героев', 804: 'героика', 805: 'героями', 806: 'герпес', 807: 'гибким', 808: 'гибнет', 809: 'гигантскую', 810: 'гильотина', 811: 'гитары', 812: 'глава', 813: 'главное', 814: 'главной', 815: 'главы', 816: 'глаз', 817: 'глаза', 818: 'глазам', 819: 'глазами', 820: 'глазах', 821: 'глобальное', 822: 'глобальные', 823: 'глубина', 824: 'глубине', 825: 'глубиной', 826: 'глубину', 827: 'глубокие', 828: 'глубокий', 829: 'глубоко', 830: 'глубокого', 831: 'глубокое', 832: 'глубокой', 833: 'глубокую', 834: 'глупец', 835: 'глупого', 836: 'глупой', 837: 'глупости', 838: 'глупость', 839: 'глупца', 840: 'глупцами', 841: 'гнезда', 842: 'гнезде', 843: 'гностические', 844: 'го', 845: 'гоббс', 846: 'говори', 847: 'говорил', 848: 'говорили', 849: 'говорим', 850: 'говорит', 851: 'говорите', 852: 'говорить', 853: 'говоришь', 854: 'говорю', 855: 'говоря', 856: 'говорят', 857: 'года', 858: 'годы', 859: 'голая', 860: 'голова', 861: 'головой', 862: 'голову', 863: 'головы', 864: 'голоден', 865: 'голодных', 866: 'голос', 867: 'голосов', 868: 'голосование', 869: 'голыми', 870: 'голышом', 871: 'гонками', 872: 'гоняюсь', 873: 'гораздо', 874: 'гордиться', 875: 'гордость', 876: 'горе', 877: 'горела', 878: 'горечь', 879: 'горит', 880: 'город', 881: 'городе', 882: 'городов', 883: 'городу', 884: 'горой', 885: 'горы', 886: 'горячих', 887: 'горячо', 888: 'господа', 889: 'господи', 890: 'господня', 891: 'гостеприимства', 892: 'гостиная', 893: 'гостиничного', 894: 'государства', 895: 'государственные', 896: 'государство', 897: 'готов', 898: 'готовит', 899: 'готовить', 900: 'готовишься', 901: 'готовлю', 902: 'готовы', 903: 'готовый', 904: 'грабить', 905: 'гравитации', 906: 'граждане', 907: 'грамматический', 908: 'грандиозный', 909: 'границ', 910: 'границы', 911: 'граф', 912: 'грацию', 913: 'грация', 914: 'гребаный', 915: 'греков', 916: 'грех', 917: 'грешить', 918: 'грешника', 919: 'грозами', 920: 'грубую', 921: 'груда', 922: 'грудой', 923: 'груз', 924: 'группах', 925: 'группы', 926: 'грустить', 927: 'грустной', 928: 'грустную', 929: 'грязному', 930: 'губ', 931: 'губах', 932: 'губы', 933: 'гуманен', 934: 'гуру', 935: 'гуще', 936: 'да', 937: 'да-е-ну', 938: 'давай', 939: 'давайте', 940: 'давать', 941: 'давит', 942: 'давно', 943: 'давным-давно', 944: 'дает', 945: 'даже', 946: 'дай', 947: 'дайте', 948: 'дал', 949: 'далам', 950: 'далее', 951: 'далеки', 952: 'далеко', 953: 'далекой', 954: 'дальше', 955: 'дамблдор', 956: 'дамы', 957: 'дан', 958: 'данный', 959: 'даны', 960: 'дар', 961: 'дара', 962: 'дарипада', 963: 'дассу', 964: 'дать', 965: 'дают', 966: 'дающие', 967: 'два', 968: 'двадцати', 969: 'дважды', 970: 'две', 971: 'двенадцать', 972: 'двери', 973: 'дверной', 974: 'дверцы', 975: 'дверь', 976: 'двигаешься', 977: 'двигаться', 978: 'движение', 979: 'движению', 980: 'двое', 981: 'двоих', 982: 'двумя', 983: 'двусмысленностями', 984: 'двух', 985: 'девочка', 986: 'девочке', 987: 'девушек', 988: 'девушка', 989: 'девушки', 990: 'девчонки', 991: 'девять', 992: 'дедушка', 993: 'дезориентирован', 994: 'деймон', 995: 'действии', 996: 'действительно', 997: 'действиями', 998: 'действовать', 999: 'действует', 1000: 'действуете', 1001: 'действуйте', 1002: 'действуют', 1003: 'декларация', 1004: 'дела', 1005: 'делаем', 1006: 'делает', 1007: 'делаете', 1008: 'делаешь', 1009: 'делай', 1010: 'делайте', 1011: 'делали', 1012: 'делать', 1013: 'делаю', 1014: 'делают', 1015: 'делая', 1016: 'деле', 1017: 'делитесь', 1018: 'дело', 1019: 'делось', 1020: 'делятся', 1021: 'деми', 1022: 'демократичным', 1023: 'демократия', 1024: 'демонстрировать', 1025: 'денег', 1026: 'день', 1027: 'деньгами', 1028: 'деньган', 1029: 'деньги', 1030: 'депрессивный', 1031: 'дерден', 1032: 'дерево', 1033: 'деревья', 1034: 'деревьях', 1035: 'держал', 1036: 'держать', 1037: 'держаться', 1038: 'держи', 1039: 'дерзкая', 1040: 'дерьма', 1041: 'дерьмовая', 1042: 'дерьму', 1043: 'десять', 1044: 'деталях', 1045: 'детей', 1046: 'детектив', 1047: 'дети', 1048: 'детских', 1049: 'детстве', 1050: 'детьми', 1051: 'детям', 1052: 'дешевая', 1053: 'дешевые', 1054: 'деятели', 1055: 'джасна', 1056: 'джентльмен', 1057: 'джереми', 1058: 'джерри', 1059: 'джефф', 1060: 'джиллиан', 1061: 'джимбо', 1062: 'джонас', 1063: 'джонни', 1064: 'джорджа', 1065: 'джулиуса', 1066: 'дзирт', 1067: 'диалог', 1068: 'диалоги', 1069: 'диалогическое', 1070: 'диалогом', 1071: 'дидоронг', 1072: 'диета', 1073: 'диетах', 1074: 'диккенса', 1075: 'диктант', 1076: 'диктует', 1077: 'динамитная', 1078: 'диоталлеви', 1079: 'дипломатии', 1080: 'дири', 1081: 'дислексиком', 1082: 'диснея', 1083: 'дисциплиной', 1084: 'дитунтун', 1085: 'дитя', 1086: 'длинными', 1087: 'для', 1088: 'дне', 1089: 'днем', 1090: 'дни', 1091: 'дно', 1092: 'дню', 1093: 'дня', 1094: 'днях', 1095: 'до', 1096: 'добавила', 1097: 'добавить', 1098: 'добби', 1099: 'доберемся', 1100: 'доберешься', 1101: 'добиваемся', 1102: 'добивается', 1103: 'добивался', 1104: 'добиться', 1105: 'добр', 1106: 'добрался', 1107: 'добро', 1108: 'добровольно', 1109: 'добровольной', 1110: 'доброго', 1111: 'добродетели', 1112: 'добродетель', 1113: 'добродетельным', 1114: 'добродушными', 1115: 'доброе', 1116: 'доброжелательно', 1117: 'добром', 1118: 'доброта', 1119: 'добрые', 1120: 'добывай', 1121: 'добьетесь', 1122: 'добьется', 1123: 'доверившись', 1124: 'доверие', 1125: 'доверия', 1126: 'доверчивости', 1127: 'доверяй', 1128: 'доверяйте', 1129: 'доверять', 1130: 'доволен', 1131: 'довольно', 1132: 'довольным', 1133: 'довольствуюсь', 1134: 'догмы', 1135: 'дождем', 1136: 'докажет', 1137: 'доказательств', 1138: 'доказательства', 1139: 'доказать', 1140: 'доказывает', 1141: 'доказывать', 1142: 'докинз', 1143: 'докопается', 1144: 'докопаться', 1145: 'доктор', 1146: 'документа', 1147: 'долго', 1148: 'долгосрочной', 1149: 'долей', 1150: 'должен', 1151: 'должна', 1152: 'должно', 1153: 'должны', 1154: 'доли', 1155: 'долины', 1156: 'долларовые', 1157: 'дольше', 1158: 'дом', 1159: 'дома', 1160: 'домашнего', 1161: 'домашним', 1162: 'доме', 1163: 'домой', 1164: 'домом', 1165: 'дому', 1166: 'донести', 1167: 'допоздна', 1168: 'дориан', 1169: 'дорога', 1170: 'дорогам', 1171: 'дорогая', 1172: 'дороге', 1173: 'дорого', 1174: 'дорогостоящего', 1175: 'дорогу', 1176: 'дорожи', 1177: 'дорожили', 1178: 'дорожите', 1179: 'доставку', 1180: 'доставлены', 1181: 'доставлять', 1182: 'достаточно', 1183: 'достиг', 1184: 'достигла', 1185: 'достигнет', 1186: 'достижение', 1187: 'достижений', 1188: 'достижению', 1189: 'достижения', 1190: 'достичь', 1191: 'достоинством', 1192: 'доступен', 1193: 'доступна', 1194: 'доходит', 1195: 'доходят', 1196: 'дочерью', 1197: 'дочь', 1198: 'драгоценного', 1199: 'драке', 1200: 'драки', 1201: 'драматург', 1202: 'древняя', 1203: 'друг', 1204: 'друга', 1205: 'другая', 1206: 'другие', 1207: 'другим', 1208: 'другими', 1209: 'других', 1210: 'другого', 1211: 'другое', 1212: 'другой', 1213: 'другом', 1214: 'другому', 1215: 'другу', 1216: 'другую', 1217: 'дружба', 1218: 'дружбе', 1219: 'дружбой', 1220: 'дружбу', 1221: 'дружбы', 1222: 'друзей', 1223: 'друзья', 1224: 'друзьям', 1225: 'друзьями', 1226: 'думаем', 1227: 'думает', 1228: 'думаете', 1229: 'думаешь', 1230: 'думай', 1231: 'думайте', 1232: 'думал', 1233: 'думать', 1234: 'думаю', 1235: 'думают', 1236: 'дурак', 1237: 'дурака', 1238: 'дураки', 1239: 'дураков', 1240: 'дух', 1241: 'духа', 1242: 'духовная', 1243: 'духовности', 1244: 'духовность', 1245: 'душа', 1246: 'душами', 1247: 'душе', 1248: 'души', 1249: 'душой', 1250: 'душу', 1251: 'дыхание', 1252: 'дыханию', 1253: 'дышать', 1254: 'дышащая', 1255: 'дыши', 1256: 'дьявол', 1257: 'дьяволом', 1258: 'дьявольски', 1259: 'дьявольской', 1260: 'дю', 1261: 'дядя', 1262: 'еврейский', 1263: 'еврейском', 1264: 'его', 1265: 'едва', 1266: 'единение', 1267: 'единения', 1268: 'единодушно', 1269: 'единорогах', 1270: 'единорогов', 1271: 'единственная', 1272: 'единственное', 1273: 'единственной', 1274: 'единственный', 1275: 'единственным', 1276: 'едой', 1277: 'ее', 1278: 'ежедневное', 1279: 'ей', 1280: 'ем', 1281: 'ему', 1282: 'если', 1283: 'естественен', 1284: 'естественны', 1285: 'естественные', 1286: 'естественный', 1287: 'есть', 1288: 'еще', 1289: 'ею', 1290: 'ж', 1291: 'жадность', 1292: 'жалел', 1293: 'жалею', 1294: 'жалкие', 1295: 'жалким', 1296: 'жалкой', 1297: 'жалуемся', 1298: 'жанр', 1299: 'жанрах', 1300: 'жанры', 1301: 'жаргоном', 1302: 'ждать', 1303: 'ждем', 1304: 'ждет', 1305: 'ждете', 1306: 'жди', 1307: 'же', 1308: 'желаемое', 1309: 'желаемые', 1310: 'желает', 1311: 'желание', 1312: 'желанию', 1313: 'желания', 1314: 'желать', 1315: 'желая', 1316: 'желтый', 1317: 'жемчужинами', 1318: 'жене', 1319: 'женись', 1320: 'женится', 1321: 'женщин', 1322: 'женщина', 1323: 'женщинам', 1324: 'женщине', 1325: 'женщиной', 1326: 'женщину', 1327: 'женщины', 1328: 'женятся', 1329: 'жертвы', 1330: 'жеста', 1331: 'жесткой', 1332: 'жестоко', 1333: 'жив', 1334: 'живая', 1335: 'живеейки', 1336: 'живем', 1337: 'живет', 1338: 'живете', 1339: 'живешь', 1340: 'живи', 1341: 'живите', 1342: 'живого', 1343: 'живое', 1344: 'живой', 1345: 'живопись', 1346: 'животного', 1347: 'животному', 1348: 'животные', 1349: 'животным', 1350: 'живу', 1351: 'живут', 1352: 'живы', 1353: 'живых', 1354: 'жидкости', 1355: 'жизненному', 1356: 'жизненные', 1357: 'жизненный', 1358: 'жизненных', 1359: 'жизнерадостный', 1360: 'жизни', 1361: 'жизнь', 1362: 'жизнью', 1363: 'жил', 1364: 'жила', 1365: 'жиртрест', 1366: 'жить', 1367: 'журнала', 1368: 'жуткие', 1369: 'за', 1370: 'забавный', 1371: 'забвение', 1372: 'забираешь', 1373: 'заблудиться', 1374: 'заблуждении', 1375: 'забот', 1376: 'заботится', 1377: 'заботу', 1378: 'забочусь', 1379: 'забудь', 1380: 'забываем', 1381: 'забывает', 1382: 'забывается', 1383: 'забывай', 1384: 'забывайте', 1385: 'забывал', 1386: 'забывать', 1387: 'забывчивых', 1388: 'забыл', 1389: 'забытых', 1390: 'забыть', 1391: 'заведение', 1392: 'заверить', 1393: 'завеса', 1394: 'завесой', 1395: 'завести', 1396: 'завещания', 1397: 'завидным', 1398: 'завидую', 1399: 'зависимостями', 1400: 'зависит', 1401: 'заводит', 1402: 'заводить', 1403: 'завоевать', 1404: 'завтра', 1405: 'завтрашний', 1406: 'заглавные', 1407: 'заглушить', 1408: 'заглянуть', 1409: 'заговор', 1410: 'задавай', 1411: 'задавайте', 1412: 'задавая', 1413: 'задаешь', 1414: 'заданные', 1415: 'задач', 1416: 'задают', 1417: 'задевает', 1418: 'задействованы', 1419: 'задним', 1420: 'заднице', 1421: 'задницу', 1422: 'задницы', 1423: 'задумано', 1424: 'задуматься', 1425: 'зажечь', 1426: 'зажигаются', 1427: 'займет', 1428: 'займусь', 1429: 'закалены', 1430: 'закалки', 1431: 'заканчиваете', 1432: 'заканчивается', 1433: 'заканчивался', 1434: 'заканчивать', 1435: 'заканчиваются', 1436: 'закат', 1437: 'закате', 1438: 'заключает', 1439: 'заключается', 1440: 'заключалась', 1441: 'заключающая', 1442: 'заключить', 1443: 'закон', 1444: 'законов', 1445: 'закону', 1446: 'закончатся', 1447: 'закончилось', 1448: 'закончится', 1449: 'закончиться', 1450: 'закончишь', 1451: 'закрываете', 1452: 'закрытой', 1453: 'закрытыми', 1454: 'заложены', 1455: 'заманчиво', 1456: 'замаскирован', 1457: 'замаскирована', 1458: 'замедлиться', 1459: 'замена', 1460: 'заменить', 1461: 'заменяем', 1462: 'заменяет', 1463: 'заметил', 1464: 'заметит', 1465: 'заметок', 1466: 'замечаем', 1467: 'замечайте', 1468: 'замечательно', 1469: 'замечательный', 1470: 'замечать', 1471: 'замечают', 1472: 'замешательству', 1473: 'замке', 1474: 'замуж', 1475: 'замысла', 1476: 'замысловатого', 1477: 'занимаетесь', 1478: 'заниматься', 1479: 'занимаюсь', 1480: 'заново', 1481: 'занят', 1482: 'занятие', 1483: 'занятии', 1484: 'занятия', 1485: 'занятые', 1486: 'запасом', 1487: 'запах', 1488: 'записывать', 1489: 'запиши', 1490: 'запланировали', 1491: 'заплатить', 1492: 'заполните', 1493: 'заполняли', 1494: 'заполучить', 1495: 'запоминается', 1496: 'запоминать', 1497: 'запомнился', 1498: 'запомните', 1499: 'запора', 1500: 'заправку', 1501: 'запрудера', 1502: 'запугать', 1503: 'запутался', 1504: 'запутанные', 1505: 'зарабатывании', 1506: 'зарабатывать', 1507: 'заржавеет', 1508: 'заслуги', 1509: 'заслуживает', 1510: 'засранцем-любителем', 1511: 'заставил', 1512: 'заставили', 1513: 'заставило', 1514: 'заставит', 1515: 'заставить', 1516: 'заставляет', 1517: 'заставляешь', 1518: 'заставлять', 1519: 'заставляют', 1520: 'заставь', 1521: 'застенчив', 1522: 'застенчивость', 1523: 'засунуть', 1524: 'затем', 1525: 'заткнись', 1526: 'заткнулись', 1527: 'затронуты', 1528: 'затылка', 1529: 'захватывает', 1530: 'захолустье', 1531: 'захоронений', 1532: 'захотел', 1533: 'захотели', 1534: 'захотеть', 1535: 'захочешь', 1536: 'зацикленности', 1537: 'зацикливайтесь', 1538: 'зачем', 1539: 'зашел', 1540: 'защитить', 1541: 'заявить', 1542: 'звездам', 1543: 'звездами', 1544: 'звездную', 1545: 'звезды', 1546: 'звонит', 1547: 'звонок', 1548: 'звук', 1549: 'звуки', 1550: 'звучит', 1551: 'здание', 1552: 'здесь', 1553: 'здороваетесь', 1554: 'здоровым', 1555: 'здоровье', 1556: 'здоровью', 1557: 'здоровья', 1558: 'здравомыслие', 1559: 'земле', 1560: 'земли', 1561: 'землю', 1562: 'земля', 1563: 'зеркала', 1564: 'зеркало', 1565: 'зимбабве', 1566: 'зимнее', 1567: 'зимний', 1568: 'зимы', 1569: 'зла', 1570: 'злая', 1571: 'злоба', 1572: 'знаем', 1573: 'знает', 1574: 'знаете', 1575: 'знаешь', 1576: 'знайте', 1577: 'знак', 1578: 'знаки', 1579: 'знакомств', 1580: 'знакомятся', 1581: 'знал', 1582: 'знала', 1583: 'знали', 1584: 'знаменательное', 1585: 'знаменит', 1586: 'знание', 1587: 'знанием', 1588: 'знания', 1589: 'знаниям', 1590: 'знаниями', 1591: 'знаниях', 1592: 'знать', 1593: 'значение', 1594: 'значимости', 1595: 'значит', 1596: 'знаю', 1597: 'знают', 1598: 'зная', 1599: 'золото', 1600: 'золотом', 1601: 'зрелости', 1602: 'зрелость', 1603: 'зрелые', 1604: 'зрения', 1605: 'зубы', 1606: 'зуд', 1607: 'и', 1608: 'ибис', 1609: 'ибо', 1610: 'игнорировать', 1611: 'игнорирует', 1612: 'иголок', 1613: 'игр', 1614: 'игра', 1615: 'играем', 1616: 'играет', 1617: 'играть', 1618: 'игре', 1619: 'игровое', 1620: 'игру', 1621: 'игры', 1622: 'идеал', 1623: 'идеален', 1624: 'идеально', 1625: 'идеальное', 1626: 'идеальной', 1627: 'идеальные', 1628: 'идеальным', 1629: 'идеей', 1630: 'идеи', 1631: 'идей', 1632: 'идентичность', 1633: 'идет', 1634: 'идете', 1635: 'идея', 1636: 'иди', 1637: 'идиот', 1638: 'идиоты', 1639: 'идите', 1640: 'идти', 1641: 'идут', 1642: 'идущее', 1643: 'из', 1644: 'из-за', 1645: 'избавьтесь', 1646: 'избегать', 1647: 'избегающий', 1648: 'избежал', 1649: 'избежало', 1650: 'избежать', 1651: 'избитые', 1652: 'избранности', 1653: 'извергнуться', 1654: 'извините', 1655: 'извиняться', 1656: 'извлекаем', 1657: 'извлекать', 1658: 'извращение', 1659: 'изгоем', 1660: 'издавать', 1661: 'издания', 1662: 'изложенным', 1663: 'излучать', 1664: 'измене', 1665: 'изменению', 1666: 'изменения', 1667: 'измени', 1668: 'изменила', 1669: 'изменилась', 1670: 'изменит', 1671: 'измените', 1672: 'изменить', 1673: 'измениться', 1674: 'изменчивом', 1675: 'изменятся', 1676: 'изменяя', 1677: 'измеряет', 1678: 'измеряется', 1679: 'изнасилования', 1680: 'изнутри', 1681: 'изобилии', 1682: 'изображаете', 1683: 'изображены', 1684: 'изобрел', 1685: 'изобрести', 1686: 'изобретать', 1687: 'изучаете', 1688: 'изысканно', 1689: 'изысканной', 1690: 'икринок', 1691: 'или', 1692: 'иллюзорен', 1693: 'им', 1694: 'имеем', 1695: 'имеет', 1696: 'имей', 1697: 'имел', 1698: 'именем', 1699: 'имени', 1700: 'именно', 1701: 'иметь', 1702: 'имею', 1703: 'имеют', 1704: 'ими', 1705: 'импрессионизм', 1706: 'импровизированной', 1707: 'импровизировать', 1708: 'имя', 1709: 'иначе', 1710: 'ингин', 1711: 'индеец', 1712: 'индейки', 1713: 'индивидуальную', 1714: 'индивидуальных', 1715: 'индии', 1716: 'инициируют', 1717: 'иногда', 1718: 'иной', 1719: 'инопланетянина', 1720: 'инстинктам', 1721: 'инстинкты', 1722: 'институционализированное', 1723: 'инструкции', 1724: 'инструмент', 1725: 'инструменте', 1726: 'интеграции', 1727: 'интеллект', 1728: 'интеллекта', 1729: 'интеллектуал', 1730: 'интеллектуально', 1731: 'интеллектуальное', 1732: 'интеллектуальность', 1733: 'интенсивно', 1734: 'интерес', 1735: 'интересна', 1736: 'интереснее', 1737: 'интересно', 1738: 'интересными', 1739: 'интересных', 1740: 'интересовались', 1741: 'интересует', 1742: 'интриганкой', 1743: 'интуиции', 1744: 'информации', 1745: 'информацию', 1746: 'ипангако', 1747: 'ирландии', 1748: 'иррациональными', 1749: 'искажает', 1750: 'искажать', 1751: 'искал', 1752: 'искатель', 1753: 'искать', 1754: 'исключением', 1755: 'исключительной', 1756: 'исключить', 1757: 'искренне', 1758: 'искреннюю', 1759: 'искры', 1760: 'искупимые', 1761: 'искусства', 1762: 'искусстве', 1763: 'искусственными', 1764: 'искусство', 1765: 'искусствоведы', 1766: 'искусством', 1767: 'искусству', 1768: 'искушение', 1769: 'искушения', 1770: 'испанское', 1771: 'исполняешь', 1772: 'использование', 1773: 'использованием', 1774: 'использовать', 1775: 'использует', 1776: 'используй', 1777: 'используют', 1778: 'используя', 1779: 'испортить', 1780: 'исправить', 1781: 'исправляет', 1782: 'испытать', 1783: 'испытываем', 1784: 'испытывает', 1785: 'иссиня-черным', 1786: 'исследование', 1787: 'исследований', 1788: 'истеблишменту', 1789: 'истина', 1790: 'истине', 1791: 'истинная', 1792: 'истинно', 1793: 'истинного', 1794: 'истинное', 1795: 'истинной', 1796: 'истинность', 1797: 'истинную', 1798: 'истинный', 1799: 'истинным', 1800: 'истиной', 1801: 'истину', 1802: 'истины', 1803: 'историей', 1804: 'истории', 1805: 'историй', 1806: 'историю', 1807: 'история', 1808: 'источник', 1809: 'исчезает', 1810: 'исчезнет', 1811: 'исчерпают', 1812: 'исчисляется', 1813: 'итак', 1814: 'итог', 1815: 'итоге', 1816: 'их', 1817: 'ищет', 1818: 'ищете', 1819: 'ищешь', 1820: 'ищи', 1821: 'ищите', 1822: 'ищу', 1823: 'ищут', 1824: 'к', 1825: 'каждая', 1826: 'каждого', 1827: 'каждое', 1828: 'каждой', 1829: 'каждом', 1830: 'каждому', 1831: 'каждую', 1832: 'каждый', 1833: 'каждым', 1834: 'кажется', 1835: 'кажутся', 1836: 'казалось', 1837: 'казаться', 1838: 'как', 1839: 'какая', 1840: 'какие', 1841: 'какие-нибудь', 1842: 'каким', 1843: 'какими-либо', 1844: 'какова', 1845: 'какого', 1846: 'какое-то', 1847: 'какой', 1848: 'какой-либо', 1849: 'какой-нибудь', 1850: 'какой-то', 1851: 'каком-то', 1852: 'какому-то', 1853: 'какую', 1854: 'какую-то', 1855: 'каменное', 1856: 'каменным', 1857: 'камень', 1858: 'камина', 1859: 'камне', 1860: 'камней', 1861: 'кампания', 1862: 'канату', 1863: 'каннибализма', 1864: 'капель', 1865: 'капитан', 1866: 'капитолия', 1867: 'каплей', 1868: 'капля', 1869: 'кармане', 1870: 'карманного', 1871: 'картинге', 1872: 'картину', 1873: 'картонном', 1874: 'картошка', 1875: 'карьерой', 1876: 'касается', 1877: 'кататься', 1878: 'качества', 1879: 'качестве', 1880: 'качество', 1881: 'квалификации', 1882: 'квантовой', 1883: 'квиррелл', 1884: 'кеберадаанку', 1885: 'кевина', 1886: 'келлер', 1887: 'кем', 1888: 'кем-либо', 1889: 'кем-то', 1890: 'кемпинг', 1891: 'кино', 1892: 'кира', 1893: 'кирпич', 1894: 'киску', 1895: 'кислородом', 1896: 'кита', 1897: 'китайские', 1898: 'кишит', 1899: 'кишки', 1900: 'кладбище', 1901: 'клетками', 1902: 'клетки', 1903: 'клеток', 1904: 'клиент', 1905: 'клизму', 1906: 'клоном', 1907: 'клоун', 1908: 'клочков', 1909: 'клубе', 1910: 'клэри', 1911: 'ключ', 1912: 'ключе', 1913: 'ключевое', 1914: 'ключей', 1915: 'ключом', 1916: 'книг', 1917: 'книга', 1918: 'книгами', 1919: 'книгах', 1920: 'книги', 1921: 'книгой', 1922: 'книгу', 1923: 'ко', 1924: 'коварном', 1925: 'ковбоя', 1926: 'когда', 1927: 'когда-либо', 1928: 'когда-нибудь', 1929: 'когда-то', 1930: 'кого', 1931: 'кого-то', 1932: 'код', 1933: 'колеблемая', 1934: 'колином', 1935: 'количестве', 1936: 'количество', 1937: 'количеством', 1938: 'коллекциям', 1939: 'колыбельная', 1940: 'ком-то', 1941: 'команда', 1942: 'комбинацию', 1943: 'комедию', 1944: 'комедия', 1945: 'комики', 1946: 'комиксах', 1947: 'комментарии', 1948: 'коммерцию', 1949: 'коммерция', 1950: 'комнате', 1951: 'комнату', 1952: 'комнаты', 1953: 'компании', 1954: 'компаньоном', 1955: 'компенсацией', 1956: 'компонент', 1957: 'компост', 1958: 'компромисс', 1959: 'кому', 1960: 'кому-нибудь', 1961: 'кому-то', 1962: 'комфорту', 1963: 'конгресс', 1964: 'конгресса', 1965: 'конец', 1966: 'конечно', 1967: 'конечном', 1968: 'конкретное', 1969: 'конкурентоспособность', 1970: 'конкуренты', 1971: 'конкуренция', 1972: 'консерватизм', 1973: 'контролировать', 1974: 'контролируйте', 1975: 'контроль', 1976: 'контроля', 1977: 'конфликтов', 1978: 'конфронтация', 1979: 'конца', 1980: 'конце', 1981: 'концентрацией', 1982: 'концепция', 1983: 'концов', 1984: 'концом', 1985: 'концу', 1986: 'копируют', 1987: 'копию', 1988: 'копья', 1989: 'коренится', 1990: 'корень', 1991: 'корешки', 1992: 'корешок', 1993: 'кормление', 1994: 'корни', 1995: 'коробке', 1996: 'коробку', 1997: 'коробок', 1998: 'королева', 1999: 'королевство', 2000: 'король', 2001: 'короны', 2002: 'коротка', 2003: 'короткие', 2004: 'коротком', 2005: 'короче', 2006: 'корпоративной', 2007: 'кортни', 2008: 'косметики', 2009: 'космический', 2010: 'космическим', 2011: 'космическое', 2012: 'космическому', 2013: 'космос', 2014: 'космоса', 2015: 'коснуться', 2016: 'кости', 2017: 'костров', 2018: 'кот', 2019: 'которая', 2020: 'которого', 2021: 'которое', 2022: 'которой', 2023: 'котором', 2024: 'которому', 2025: 'которую', 2026: 'которые', 2027: 'который', 2028: 'которым', 2029: 'которыми', 2030: 'которых', 2031: 'кофе', 2032: 'кошек', 2033: 'кошки', 2034: 'коэльо', 2035: 'коэн', 2036: 'крадет', 2037: 'крадут', 2038: 'кража', 2039: 'крайней', 2040: 'крайностями', 2041: 'крали', 2042: 'красавцем', 2043: 'красиво', 2044: 'красивое', 2045: 'красивой', 2046: 'красивые', 2047: 'красивый', 2048: 'краски', 2049: 'красота', 2050: 'красоте', 2051: 'красотой', 2052: 'красоту', 2053: 'красоты', 2054: 'креативность', 2055: 'крему', 2056: 'кремы', 2057: 'крепкого', 2058: 'крепкой', 2059: 'крепкому', 2060: 'кретин', 2061: 'крикун', 2062: 'кристалла', 2063: 'критик', 2064: 'критики', 2065: 'критическим', 2066: 'критичности', 2067: 'кричать', 2068: 'кричит', 2069: 'кровавый', 2070: 'крови', 2071: 'кроль', 2072: 'кроме', 2073: 'кропотливой', 2074: 'кроу', 2075: 'кроули', 2076: 'круг', 2077: 'кругозор', 2078: 'круто', 2079: 'крутой', 2080: 'крылья', 2081: 'кстати', 2082: 'кто', 2083: 'кто-нибудь', 2084: 'кто-то', 2085: 'куда', 2086: 'куда-то', 2087: 'кукетахуи', 2088: 'куклу', 2089: 'культур', 2090: 'культуру', 2091: 'купите', 2092: 'куплет', 2093: 'купюры', 2094: 'кусочек', 2095: 'кусочки', 2096: 'кэлвин', 2097: 'кэмерон', 2098: 'кэмпбелл', 2099: 'кэтер', 2100: 'л', 2101: 'лабиринта', 2102: 'лабиринте', 2103: 'лава', 2104: 'лавка', 2105: 'лаги', 2106: 'ладно', 2107: 'ладони', 2108: 'лак', 2109: 'лалуку', 2110: 'лампа', 2111: 'ластик', 2112: 'лацканы', 2113: 'лая', 2114: 'лаял', 2115: 'лебих', 2116: 'левой', 2117: 'легкая', 2118: 'легко', 2119: 'легкого', 2120: 'легкости', 2121: 'легкость', 2122: 'легла', 2123: 'легче', 2124: 'леди', 2125: 'лежать', 2126: 'лежит', 2127: 'лекарство', 2128: 'лелеять', 2129: 'леонард', 2130: 'лесах', 2131: 'лестнице', 2132: 'лестницы', 2133: 'лет', 2134: 'летать', 2135: 'лете', 2136: 'лето', 2137: 'летят', 2138: 'лжет', 2139: 'лжецом', 2140: 'лжецы', 2141: 'лжи', 2142: 'ли', 2143: 'либо', 2144: 'лидеры', 2145: 'лингвистическая', 2146: 'линия', 2147: 'линкольн', 2148: 'листа', 2149: 'литература', 2150: 'литературе', 2151: 'литературном', 2152: 'литературный', 2153: 'лить', 2154: 'лифчик', 2155: 'лица', 2156: 'лицо', 2157: 'лицом', 2158: 'лицу', 2159: 'личного', 2160: 'личное', 2161: 'личной', 2162: 'личности', 2163: 'личность', 2164: 'личную', 2165: 'лишает', 2166: 'лишена', 2167: 'лишних', 2168: 'лишь', 2169: 'лови', 2170: 'ловить', 2171: 'ловушке', 2172: 'логике', 2173: 'логически', 2174: 'ложечки', 2175: 'ложки', 2176: 'ложно', 2177: 'ложь', 2178: 'лом', 2179: 'ломает', 2180: 'лонгдонга', 2181: 'лондона', 2182: 'лорд', 2183: 'лохмотьях', 2184: 'лохов', 2185: 'луизианская', 2186: 'луна', 2187: 'лунный', 2188: 'луной', 2189: 'луч', 2190: 'лучшая', 2191: 'лучше', 2192: 'лучшее', 2193: 'лучшем', 2194: 'лучшему', 2195: 'лучшие', 2196: 'лучший', 2197: 'лучшим', 2198: 'лучшими', 2199: 'лучших', 2200: 'любви', 2201: 'люби', 2202: 'любил', 2203: 'любила', 2204: 'любили', 2205: 'любило', 2206: 'любим', 2207: 'любимого', 2208: 'любимое', 2209: 'любимый', 2210: 'любимым', 2211: 'любит', 2212: 'любите', 2213: 'любители', 2214: 'любитель', 2215: 'любить', 2216: 'любишь', 2217: 'люблю', 2218: 'любовных', 2219: 'любовь', 2220: 'любовью', 2221: 'любого', 2222: 'любое', 2223: 'любой', 2224: 'любому', 2225: 'любопытно', 2226: 'любую', 2227: 'любые', 2228: 'любым', 2229: 'любых', 2230: 'любя', 2231: 'любят', 2232: 'любящая', 2233: 'людей', 2234: 'люди', 2235: 'людьми', 2236: 'людям', 2237: 'людях', 2238: 'магией', 2239: 'магическая', 2240: 'магия', 2241: 'магнетической', 2242: 'максимальное', 2243: 'макушку', 2244: 'малапит', 2245: 'маленькие', 2246: 'маленький', 2247: 'маленьким', 2248: 'маленького', 2249: 'маленькое', 2250: 'маленьком', 2251: 'мало', 2252: 'мальчик', 2253: 'мама', 2254: 'манго', 2255: 'манипулировать', 2256: 'мантиях', 2257: 'манусия', 2258: 'маньяков', 2259: 'маса', 2260: 'массовых', 2261: 'мастера', 2262: 'мастерства', 2263: 'математика', 2264: 'математике', 2265: 'математики', 2266: 'математикой', 2267: 'математические', 2268: 'матери', 2269: 'материала', 2270: 'матерью', 2271: 'матом', 2272: 'матрицу', 2273: 'мать', 2274: 'маффом', 2275: 'мгновение', 2276: 'мгновением', 2277: 'медитация', 2278: 'медицины', 2279: 'медленно', 2280: 'медузы', 2281: 'между', 2282: 'мейнстримом', 2283: 'меланхолией', 2284: 'меланхоличной', 2285: 'меланхоличны', 2286: 'меланхолию', 2287: 'мелодии', 2288: 'мелодия', 2289: 'мелочах', 2290: 'мелочи', 2291: 'меманусиакан', 2292: 'мембери', 2293: 'мемуары', 2294: 'менанггунг', 2295: 'менгерикан', 2296: 'мендахулуи', 2297: 'менджади', 2298: 'менее', 2299: 'менеманику', 2300: 'менерима', 2301: 'менкари', 2302: 'ментальные', 2303: 'менциптакан', 2304: 'меньше', 2305: 'меньшем', 2306: 'меня', 2307: 'меняет', 2308: 'меняете', 2309: 'меняется', 2310: 'менять', 2311: 'меняться', 2312: 'меняю', 2313: 'меняюсь', 2314: 'меняются', 2315: 'меняя', 2316: 'мердок', 2317: 'мере', 2318: 'мередит', 2319: 'меркнет', 2320: 'мерлина', 2321: 'мероприятие', 2322: 'мероприятии', 2323: 'мертв', 2324: 'мертвые', 2325: 'мертвый', 2326: 'мертвыми', 2327: 'мертвых', 2328: 'мерцает', 2329: 'мерцании', 2330: 'мерцающие', 2331: 'мест', 2332: 'места', 2333: 'местами', 2334: 'месте', 2335: 'место', 2336: 'местом', 2337: 'месть', 2338: 'метатрон', 2339: 'метод', 2340: 'метода', 2341: 'механики', 2342: 'меч', 2343: 'меча', 2344: 'мечтает', 2345: 'мечтам', 2346: 'мечтаний', 2347: 'мечтатель', 2348: 'мечтательницей', 2349: 'мечтать', 2350: 'мечтают', 2351: 'мечте', 2352: 'мечту', 2353: 'мечты', 2354: 'мешке', 2355: 'мигающие', 2356: 'микроволновку', 2357: 'микстуры', 2358: 'милая', 2359: 'миллиардов', 2360: 'миллион', 2361: 'миллионера', 2362: 'миллионов', 2363: 'миллионы', 2364: 'мило', 2365: 'милости', 2366: 'милые', 2367: 'милю', 2368: 'миналото', 2369: 'минималистичное', 2370: 'минуту', 2371: 'минуты', 2372: 'минхо', 2373: 'мир', 2374: 'мира', 2375: 'мире', 2376: 'мириться', 2377: 'мирке', 2378: 'мирными', 2379: 'миров', 2380: 'мировой', 2381: 'миром', 2382: 'миру', 2383: 'миры', 2384: 'миссия', 2385: 'мистер', 2386: 'мифы', 2387: 'младенцы', 2388: 'младшим', 2389: 'мне', 2390: 'мнение', 2391: 'мнений', 2392: 'мнению', 2393: 'мнениях', 2394: 'многие', 2395: 'многим', 2396: 'многих', 2397: 'много', 2398: 'многого', 2399: 'многократный', 2400: 'многом', 2401: 'множество', 2402: 'мной', 2403: 'мо', 2404: 'мобильный', 2405: 'мобильным', 2406: 'мог', 2407: 'могилу', 2408: 'могла', 2409: 'могли', 2410: 'могло', 2411: 'могу', 2412: 'могут', 2413: 'могучий', 2414: 'могущественными', 2415: 'мода', 2416: 'модель', 2417: 'мое', 2418: 'моего', 2419: 'моей', 2420: 'моем', 2421: 'моему', 2422: 'можем', 2423: 'может', 2424: 'можете', 2425: 'можешь', 2426: 'можно', 2427: 'мозг', 2428: 'мозга', 2429: 'мои', 2430: 'моим', 2431: 'моими', 2432: 'моих', 2433: 'мой', 2434: 'мокро', 2435: 'молитва', 2436: 'молитвами', 2437: 'молитве', 2438: 'молитву', 2439: 'молитвы', 2440: 'молнии', 2441: 'молод', 2442: 'молодая', 2443: 'молодежи', 2444: 'молодости', 2445: 'молодость', 2446: 'молодые', 2447: 'молодым', 2448: 'молодых', 2449: 'молоток', 2450: 'молчаливое', 2451: 'молчание', 2452: 'молчания', 2453: 'молчишь', 2454: 'молюсь', 2455: 'момент', 2456: 'момента', 2457: 'моменте', 2458: 'моменту', 2459: 'моменты', 2460: 'монаха', 2461: 'монг', 2462: 'монета', 2463: 'монетах', 2464: 'монеты', 2465: 'монстрами', 2466: 'мораль', 2467: 'моральный', 2468: 'моральными', 2469: 'моросящим', 2470: 'морщины', 2471: 'мост', 2472: 'мосту', 2473: 'мотив', 2474: 'мотивации', 2475: 'мотивация', 2476: 'мотивировать', 2477: 'мощного', 2478: 'мою', 2479: 'моя', 2480: 'мрачные', 2481: 'мрачный', 2482: 'мудр', 2483: 'мудрее', 2484: 'мудро', 2485: 'мудрого', 2486: 'мудрость', 2487: 'мудростью', 2488: 'мудрые', 2489: 'мудрый', 2490: 'мудрым', 2491: 'мужа', 2492: 'мужества', 2493: 'мужественную', 2494: 'мужество', 2495: 'мужчин', 2496: 'мужчина', 2497: 'мужчинам', 2498: 'мужчинами', 2499: 'мужчине', 2500: 'мужчину', 2501: 'мужчины', 2502: 'муза', 2503: 'музеях', 2504: 'музыка', 2505: 'музыкальных', 2506: 'музыкант', 2507: 'музыке', 2508: 'музыку', 2509: 'мусор', 2510: 'мусора', 2511: 'мусорные', 2512: 'мусорщик', 2513: 'мучается', 2514: 'мучениями', 2515: 'мучительно', 2516: 'мучить', 2517: 'мучо', 2518: 'мчитесь', 2519: 'мчится', 2520: 'мы', 2521: 'мыслей', 2522: 'мысли', 2523: 'мыслителю', 2524: 'мыслить', 2525: 'мысль', 2526: 'мыслями', 2527: 'мыслях', 2528: 'мыслящей', 2529: 'мэр', 2530: 'мэри', 2531: 'мягкие', 2532: 'мягко', 2533: 'мягкое', 2534: 'мягкой', 2535: 'н', 2536: 'на', 2537: 'наблюдаем', 2538: 'наблюдал', 2539: 'наблюдатель', 2540: 'наблюдают', 2541: 'наблюдение', 2542: 'набухая', 2543: 'наверное', 2544: 'наводит', 2545: 'навредить', 2546: 'навсегда', 2547: 'навстречу', 2548: 'навыки', 2549: 'навязчиво', 2550: 'наглая', 2551: 'над', 2552: 'надеваю', 2553: 'надеется', 2554: 'надеешься', 2555: 'надежда', 2556: 'надеждой', 2557: 'надежду', 2558: 'надежды', 2559: 'надейся', 2560: 'надела', 2561: 'наделенным', 2562: 'наделяя', 2563: 'надеть', 2564: 'надеюсь', 2565: 'надеялся', 2566: 'надеясь', 2567: 'надеяться', 2568: 'надо', 2569: 'надоедает', 2570: 'надолго', 2571: 'надрать', 2572: 'наедине', 2573: 'назад', 2574: 'название', 2575: 'назовут', 2576: 'называемая', 2577: 'называете', 2578: 'называется', 2579: 'наиболее', 2580: 'наименьшим', 2581: 'найди', 2582: 'найдут', 2583: 'найдя', 2584: 'найти', 2585: 'наказан', 2586: 'наказание', 2587: 'наказанием', 2588: 'наказания', 2589: 'накапливаются', 2590: 'накинутое', 2591: 'наклеят', 2592: 'наконец', 2593: 'наличие', 2594: 'налог', 2595: 'налоге', 2596: 'нам', 2597: 'намасте', 2598: 'нами', 2599: 'намного', 2600: 'наноботы', 2601: 'наоборот', 2602: 'нападать', 2603: 'нападая', 2604: 'написал', 2605: 'написана', 2606: 'написание', 2607: 'написанное', 2608: 'написано', 2609: 'написаны', 2610: 'написать', 2611: 'напишите', 2612: 'напишу', 2613: 'наполнена', 2614: 'наполненное', 2615: 'наполните', 2616: 'наполнить', 2617: 'наполняет', 2618: 'наполняется', 2619: 'наполовину', 2620: 'напоминают', 2621: 'направить', 2622: 'направление', 2623: 'направляет', 2624: 'направляетесь', 2625: 'направляешься', 2626: 'направляясь', 2627: 'наравне', 2628: 'нарисовать', 2629: 'наркоманами', 2630: 'наружу', 2631: 'нас', 2632: 'насиб', 2633: 'насилия', 2634: 'насильственная', 2635: 'насквозь', 2636: 'насколько', 2637: 'насладиться', 2638: 'наслаждаешься', 2639: 'наслаждайся', 2640: 'наслаждаться', 2641: 'наследственную', 2642: 'настойчивость', 2643: 'настолько', 2644: 'настоящая', 2645: 'настоящее', 2646: 'настоящей', 2647: 'настоящий', 2648: 'настоящим', 2649: 'настоящими', 2650: 'настоящую', 2651: 'настроем', 2652: 'настроение', 2653: 'настроении', 2654: 'наступит', 2655: 'наступить', 2656: 'насчет', 2657: 'насыщенную', 2658: 'натуре', 2659: 'натянутому', 2660: 'наук', 2661: 'наука', 2662: 'науки', 2663: 'науку', 2664: 'научи', 2665: 'научились', 2666: 'научился', 2667: 'научитесь', 2668: 'научить', 2669: 'научиться', 2670: 'научная', 2671: 'научные', 2672: 'научных', 2673: 'находил', 2674: 'находит', 2675: 'находитесь', 2676: 'находится', 2677: 'находить', 2678: 'находишь', 2679: 'находя', 2680: 'находятся', 2681: 'нахожу', 2682: 'нации', 2683: 'нацию', 2684: 'началась', 2685: 'начали', 2686: 'начать', 2687: 'начинаем', 2688: 'начинает', 2689: 'начинаете', 2690: 'начинается', 2691: 'начинай', 2692: 'начинался', 2693: 'начинать', 2694: 'начинаю', 2695: 'начинают', 2696: 'начинаются', 2697: 'начинающий', 2698: 'начните', 2699: 'наш', 2700: 'наша', 2701: 'наше', 2702: 'нашего', 2703: 'нашей', 2704: 'нашел', 2705: 'нашем', 2706: 'наши', 2707: 'нашим', 2708: 'нашими', 2709: 'наших', 2710: 'нашли', 2711: 'нашу', 2712: 'наяву', 2713: 'не', 2714: 'небе', 2715: 'небеса', 2716: 'небесах', 2717: 'небо', 2718: 'небольшие', 2719: 'небольшим', 2720: 'небольшого', 2721: 'небольшой', 2722: 'небом', 2723: 'невадское', 2724: 'неважно', 2725: 'невежества', 2726: 'невежество', 2727: 'невероятно', 2728: 'невероятное', 2729: 'невзгод', 2730: 'невзгоды', 2731: 'невинными', 2732: 'невозможно', 2733: 'невозможное', 2734: 'невозможным', 2735: 'невыносимой', 2736: 'невыносимыми', 2737: 'негативная', 2738: 'него', 2739: 'недолго', 2740: 'недооцененное', 2741: 'недостатка', 2742: 'недостаток', 2743: 'недостаточно', 2744: 'недостаточным', 2745: 'нее', 2746: 'нежелание', 2747: 'нежно', 2748: 'нежное', 2749: 'независимая', 2750: 'независимо', 2751: 'независимое', 2752: 'независимых', 2753: 'незамечена', 2754: 'нездоровы', 2755: 'незнакомцам', 2756: 'незнакомцев', 2757: 'незнакомцем', 2758: 'незначительную', 2759: 'незначительный', 2760: 'незрел', 2761: 'незрелые', 2762: 'незрелым', 2763: 'неизбежно', 2764: 'неизвестной', 2765: 'неизмеримо', 2766: 'неиспытанным', 2767: 'неиссякаемый', 2768: 'ней', 2769: 'нейл-арта', 2770: 'некормленный', 2771: 'некоторое', 2772: 'некотором', 2773: 'некоторую', 2774: 'некоторые', 2775: 'некоторым', 2776: 'некоторых', 2777: 'некрологу', 2778: 'нектаром', 2779: 'некуда', 2780: 'нелегко', 2781: 'нелепым', 2782: 'неловкий', 2783: 'неловкими', 2784: 'нельзя', 2785: 'нем', 2786: 'немногих', 2787: 'немного', 2788: 'нему', 2789: 'немыслимо', 2790: 'ненавидеть', 2791: 'ненавидь', 2792: 'ненавижу', 2793: 'ненавистник', 2794: 'ненавистники', 2795: 'ненависть', 2796: 'ненавязчивой', 2797: 'ненадолго', 2798: 'необузданности', 2799: 'необходим', 2800: 'необходима', 2801: 'необходимо', 2802: 'необходимое', 2803: 'необходимости', 2804: 'необходимостью', 2805: 'необходимую', 2806: 'необходимы', 2807: 'необходимые', 2808: 'необходимый', 2809: 'необычной', 2810: 'необычных', 2811: 'неограниченным', 2812: 'неожиданно', 2813: 'неожиданной', 2814: 'неопровержима', 2815: 'неосязаемость', 2816: 'неотвеченными', 2817: 'неотъемлемой', 2818: 'неохотно', 2819: 'неплохо', 2820: 'непобедимое', 2821: 'неповторимая', 2822: 'неподвластен', 2823: 'неподходящее', 2824: 'непоколебимым', 2825: 'неполноценным', 2826: 'непосредственно', 2827: 'непостоянно', 2828: 'непостоянство', 2829: 'непочтительность', 2830: 'неправильная', 2831: 'неправильно', 2832: 'неправильного', 2833: 'неправильное', 2834: 'неправильные', 2835: 'непревзойденную', 2836: 'непрерывная', 2837: 'непрерывный', 2838: 'непринужденно', 2839: 'неприятие', 2840: 'неприятии', 2841: 'неприятные', 2842: 'непростительное', 2843: 'непрофессионал', 2844: 'неразделенная', 2845: 'неразделимая', 2846: 'неразрешимыми', 2847: 'неразрывно', 2848: 'нервозности', 2849: 'неровным', 2850: 'несем', 2851: 'несешь', 2852: 'несколько', 2853: 'несмотря', 2854: 'несовершенна', 2855: 'несовершенстве', 2856: 'неспособный', 2857: 'нести', 2858: 'несущественное', 2859: 'несчастно', 2860: 'несчастные', 2861: 'несчастным', 2862: 'несчастье', 2863: 'несчастья', 2864: 'неся', 2865: 'нет', 2866: 'нетворкинг', 2867: 'неуверенность', 2868: 'неудач', 2869: 'неудача', 2870: 'неудаче', 2871: 'неудачей', 2872: 'неудачи', 2873: 'неудачники', 2874: 'неудачницей', 2875: 'неудачу', 2876: 'неудержимо', 2877: 'неудержимый', 2878: 'неудобных', 2879: 'неуместное', 2880: 'неумолима', 2881: 'неустанному', 2882: 'нефть', 2883: 'нехватки', 2884: 'нехорошо', 2885: 'нечего', 2886: 'нечто', 2887: 'ни', 2888: 'низкая', 2889: 'низкоуглеводных', 2890: 'никаким', 2891: 'никакого', 2892: 'никакое', 2893: 'никакой', 2894: 'никем', 2895: 'никкалс', 2896: 'никогда', 2897: 'никого', 2898: 'николай', 2899: 'никому', 2900: 'никто', 2901: 'никуда', 2902: 'ним', 2903: 'ниманд', 2904: 'ними', 2905: 'нирване', 2906: 'них', 2907: 'ничего', 2908: 'ничегонеделание', 2909: 'ничему', 2910: 'ничто', 2911: 'ничьих', 2912: 'нло', 2913: 'но', 2914: 'новая', 2915: 'новизне', 2916: 'ново', 2917: 'нового', 2918: 'новой', 2919: 'новорожденный', 2920: 'новости', 2921: 'новую', 2922: 'новы', 2923: 'новый', 2924: 'новых', 2925: 'ногтей', 2926: 'ножевую', 2927: 'ножницы', 2928: 'номенклатурой', 2929: 'номер', 2930: 'нос', 2931: 'носил', 2932: 'носить', 2933: 'носках', 2934: 'ночами', 2935: 'ночевкой', 2936: 'ночь', 2937: 'ночью', 2938: 'ношу', 2939: 'ноябрь', 2940: 'нравится', 2941: 'нравиться', 2942: 'нравятся', 2943: 'ну', 2944: 'нуждаемся', 2945: 'нуждается', 2946: 'нуждаются', 2947: 'нужен', 2948: 'нужна', 2949: 'нужно', 2950: 'нужны', 2951: 'нынешние', 2952: 'ныряние', 2953: 'ньютон', 2954: 'о', 2955: 'о-о-о', 2956: 'об', 2957: 'оба', 2958: 'обдумывая', 2959: 'обе', 2960: 'обеда', 2961: 'обезьяньей', 2962: 'обескураживать', 2963: 'обеспечивает', 2964: 'обеспечить', 2965: 'обеспокоенным', 2966: 'обет', 2967: 'обещает', 2968: 'обещал', 2969: 'обещание', 2970: 'обещанием', 2971: 'обещают', 2972: 'обжигает', 2973: 'обжигать', 2974: 'обитает', 2975: 'обитания', 2976: 'обитатели', 2977: 'обладаем', 2978: 'обладает', 2979: 'обладаешь', 2980: 'обладание', 2981: 'обладать', 2982: 'обладают', 2983: 'облаках', 2984: 'области', 2985: 'облегчения', 2986: 'облегчить', 2987: 'обложками', 2988: 'обложке', 2989: 'обложки', 2990: 'обмен', 2991: 'обнаженная', 2992: 'обнаружении', 2993: 'обнаруживает', 2994: 'обнаруживаете', 2995: 'обнаружил', 2996: 'обнаружите', 2997: 'обнаружить', 2998: 'обновления', 2999: 'обо', 3000: 'обоим', 3001: 'обоими', 3002: 'обоих', 3003: 'обостренное', 3004: 'образ', 3005: 'образа', 3006: 'образование', 3007: 'образования', 3008: 'образованный', 3009: 'образом', 3010: 'обратить', 3011: 'обратная', 3012: 'обратно', 3013: 'обратной', 3014: 'обращается', 3015: 'обращаться', 3016: 'обращен', 3017: 'обрести', 3018: 'обстоятельств', 3019: 'обсудить', 3020: 'обсуждают', 3021: 'обусловлены', 3022: 'обустраивать', 3023: 'обучать', 3024: 'обучающиеся', 3025: 'обучение', 3026: 'обучению', 3027: 'обучения', 3028: 'обход', 3029: 'общаться', 3030: 'общего', 3031: 'общее', 3032: 'общение', 3033: 'общения', 3034: 'общепринятом', 3035: 'общества', 3036: 'обществе', 3037: 'общественности', 3038: 'общественных', 3039: 'общество', 3040: 'общность', 3041: 'объединении', 3042: 'объективность', 3043: 'объяснения', 3044: 'объяснил', 3045: 'объяснит', 3046: 'объяснить', 3047: 'объяснять', 3048: 'обычно', 3049: 'обычного', 3050: 'обычной', 3051: 'обычному', 3052: 'обычные', 3053: 'обычный', 3054: 'обычным', 3055: 'обычных', 3056: 'обязан', 3057: 'обязана', 3058: 'обязанностью', 3059: 'обязательно', 3060: 'обязательными', 3061: 'овладевает', 3062: 'оглушительный', 3063: 'оглядываюсь', 3064: 'оглянуться', 3065: 'огнестрельное', 3066: 'огни', 3067: 'огня', 3068: 'огонь', 3069: 'ограбление', 3070: 'ограничен', 3071: 'ограниченным', 3072: 'ограничивать', 3073: 'ограничивающие', 3074: 'ограничивающих', 3075: 'огромному', 3076: 'огромным', 3077: 'одаренности', 3078: 'одержима', 3079: 'один', 3080: 'одинаково', 3081: 'одинаковы', 3082: 'одинаковые', 3083: 'одинок', 3084: 'одиноки', 3085: 'одинокий', 3086: 'одиноким', 3087: 'одиночестве', 3088: 'одиночество', 3089: 'одиночку', 3090: 'одиночного', 3091: 'одна', 3092: 'однажды', 3093: 'однако', 3094: 'одни', 3095: 'одним', 3096: 'одних', 3097: 'одно', 3098: 'одновременно', 3099: 'одного', 3100: 'одной', 3101: 'одном', 3102: 'одному', 3103: 'однообразие', 3104: 'одну', 3105: 'одобрено', 3106: 'одолжи', 3107: 'одурачить', 3108: 'ожесточается', 3109: 'оживают', 3110: 'оживит', 3111: 'ожидаешь', 3112: 'ожиданий', 3113: 'ожидания', 3114: 'ожиданиям', 3115: 'ожидать', 3116: 'ожидающие', 3117: 'ознакомления', 3118: 'означает', 3119: 'означала', 3120: 'означать', 3121: 'означают', 3122: 'ой', 3123: 'ока', 3124: 'окажется', 3125: 'оказалось', 3126: 'оказаться', 3127: 'оказывается', 3128: 'оказывать', 3129: 'океан', 3130: 'океане', 3131: 'океаном', 3132: 'океанского', 3133: 'окна', 3134: 'окно', 3135: 'окном', 3136: 'окопавшемуся', 3137: 'окоченевший', 3138: 'окрашивается', 3139: 'окружающей', 3140: 'окружающих', 3141: 'окутает', 3142: 'окутывает', 3143: 'оладьи', 3144: 'олег', 3145: 'олимпийской', 3146: 'он', 3147: 'она', 3148: 'они', 3149: 'оно', 3150: 'оооочень', 3151: 'опасен', 3152: 'опасно', 3153: 'опасного', 3154: 'опасной', 3155: 'опасности', 3156: 'опасны', 3157: 'опасным', 3158: 'опережает', 3159: 'описать', 3160: 'оплакивай', 3161: 'оплодотворенная', 3162: 'опоздаю', 3163: 'оппозицию', 3164: 'оправданием', 3165: 'оправдывает', 3166: 'оправдывать', 3167: 'оправдывающую', 3168: 'определение', 3169: 'определенно', 3170: 'определенном', 3171: 'определенному', 3172: 'определенные', 3173: 'определенный', 3174: 'определенным', 3175: 'определила', 3176: 'определите', 3177: 'определяет', 3178: 'определяется', 3179: 'определяешь', 3180: 'определять', 3181: 'опробован', 3182: 'оптимист', 3183: 'опубликовать', 3184: 'опускаться', 3185: 'опустились', 3186: 'опыт', 3187: 'опыте', 3188: 'орган', 3189: 'организованного', 3190: 'организованных', 3191: 'оригинальность', 3192: 'оригинальные', 3193: 'ориентированная', 3194: 'оружие', 3195: 'оружия', 3196: 'осаждаете', 3197: 'осваивают', 3198: 'освещает', 3199: 'освещать', 3200: 'освободиться', 3201: 'освобождает', 3202: 'освобождают', 3203: 'освобождение', 3204: 'освобождения', 3205: 'освобожденная', 3206: 'осколки', 3207: 'ослабленное', 3208: 'осмелимся', 3209: 'осмелиться', 3210: 'основа', 3211: 'основан', 3212: 'основана', 3213: 'основаны', 3214: 'основе', 3215: 'основном', 3216: 'основой', 3217: 'основополагающего', 3218: 'основываясь', 3219: 'особенно', 3220: 'особенный', 3221: 'осознавать', 3222: 'осознаете', 3223: 'осознается', 3224: 'осознание', 3225: 'осознании', 3226: 'осознания', 3227: 'осознанная', 3228: 'осознанности', 3229: 'осознанность', 3230: 'осознанным', 3231: 'оставался', 3232: 'оставаться', 3233: 'оставить', 3234: 'оставлен', 3235: 'оставленным', 3236: 'оставляет', 3237: 'оставляйте', 3238: 'оставляют', 3239: 'оставшейся', 3240: 'оставшийся', 3241: 'остается', 3242: 'остаешься', 3243: 'осталась', 3244: 'осталось', 3245: 'остался', 3246: 'остальное', 3247: 'остальной', 3248: 'остальному', 3249: 'остальную', 3250: 'остальные', 3251: 'остальных', 3252: 'останавливается', 3253: 'останетесь', 3254: 'остановим', 3255: 'остановить', 3256: 'остановлю', 3257: 'остаются', 3258: 'осторожнее', 3259: 'осторожно', 3260: 'осторожны', 3261: 'островов', 3262: 'остроумие', 3263: 'осуждение', 3264: 'осуждения', 3265: 'осуществляемый', 3266: 'от', 3267: 'отваливать', 3268: 'отваливаются', 3269: 'отвергают', 3270: 'отвернись', 3271: 'ответ', 3272: 'ответа', 3273: 'ответам', 3274: 'ответил', 3275: 'ответственность', 3276: 'ответы', 3277: 'ответь', 3278: 'отвечает', 3279: 'отвечал', 3280: 'отвисшей', 3281: 'отвлекает', 3282: 'отвращение', 3283: 'отговорка', 3284: 'отдавать', 3285: 'отдаем', 3286: 'отдает', 3287: 'отдаешь', 3288: 'отдаленных', 3289: 'отдать', 3290: 'отделить', 3291: 'отдельно', 3292: 'отдохнуть', 3293: 'отдушиной', 3294: 'отдыха', 3295: 'отец', 3296: 'отказаться', 3297: 'отказывается', 3298: 'отказываться', 3299: 'отказываются', 3300: 'откидываются', 3301: 'откладывает', 3302: 'откровение', 3303: 'откровения', 3304: 'откровенного', 3305: 'откроем', 3306: 'откроет', 3307: 'откроется', 3308: 'открывается', 3309: 'открывать', 3310: 'открыл', 3311: 'открытия', 3312: 'открыто', 3313: 'открытой', 3314: 'открытыми', 3315: 'открыть', 3316: 'открыться', 3317: 'откуда', 3318: 'отличает', 3319: 'отличается', 3320: 'отличаются', 3321: 'отличные', 3322: 'отлынивало', 3323: 'отметайте', 3324: 'отметить', 3325: 'относительно', 3326: 'относительной', 3327: 'относительную', 3328: 'относитесь', 3329: 'относится', 3330: 'относиться', 3331: 'отношение', 3332: 'отношений', 3333: 'отношения', 3334: 'отношениях', 3335: 'отнято', 3336: 'ото', 3337: 'отображение', 3338: 'отойти', 3339: 'оторванным', 3340: 'отпор', 3341: 'отправил', 3342: 'отправили', 3343: 'отправился', 3344: 'отправиться', 3345: 'отправной', 3346: 'отпускаете', 3347: 'отпуске', 3348: 'отпустить', 3349: 'отпущу', 3350: 'отражает', 3351: 'отражаться', 3352: 'отражение', 3353: 'отреагировать', 3354: 'отречение', 3355: 'отрицать', 3356: 'отрубает', 3357: 'отскакивают', 3358: 'отстает', 3359: 'отстаивать', 3360: 'отстой', 3361: 'отсутствие', 3362: 'отсутствием', 3363: 'отсутствия', 3364: 'отсутствуют', 3365: 'отсюда', 3366: 'оттого', 3367: 'отход', 3368: 'отцу', 3369: 'отчаиваются', 3370: 'отчаяния', 3371: 'отчаянно', 3372: 'отшельник', 3373: 'охватившее', 3374: 'охватит', 3375: 'охватывай', 3376: 'охвачен', 3377: 'оцениваем', 3378: 'оценят', 3379: 'очарование', 3380: 'очаровательная', 3381: 'очевидного', 3382: 'очевидными', 3383: 'очень', 3384: 'очередное', 3385: 'очередь', 3386: 'очередям', 3387: 'очищает', 3388: 'очищения', 3389: 'очищены', 3390: 'очки', 3391: 'ошеломляющей', 3392: 'ошибаемся', 3393: 'ошибается', 3394: 'ошибаться', 3395: 'ошибаюсь', 3396: 'ошибках', 3397: 'ошибки', 3398: 'ошибкой', 3399: 'ошибок', 3400: 'ошибочно', 3401: 'ощутите', 3402: 'ощущаемое', 3403: 'ощущать', 3404: 'ощущение', 3405: 'ощущений', 3406: 'ощущения', 3407: 'павлу', 3408: 'падаешь', 3409: 'падал', 3410: 'падают', 3411: 'падение', 3412: 'падения', 3413: 'пак', 3414: 'палиндромным', 3415: 'пальто', 3416: 'пальца', 3417: 'память', 3418: 'панцире', 3419: 'папа', 3420: 'папой', 3421: 'пара', 3422: 'парадокс', 3423: 'парадоксальным', 3424: 'парень', 3425: 'парить', 3426: 'парки', 3427: 'парней', 3428: 'парню', 3429: 'парня', 3430: 'партнеры', 3431: 'пасха', 3432: 'паузу', 3433: 'пауло', 3434: 'пациент', 3435: 'пацифизм', 3436: 'пацифиста', 3437: 'пемеран', 3438: 'пенгганти', 3439: 'пендауран', 3440: 'пенис', 3441: 'пеной', 3442: 'пентингня', 3443: 'пепел', 3444: 'первая', 3445: 'первейшей', 3446: 'первого', 3447: 'первой', 3448: 'первоклассно', 3449: 'первопроходцем', 3450: 'первую', 3451: 'первый', 3452: 'первыми', 3453: 'первых', 3454: 'перджаланан', 3455: 'переваривать', 3456: 'переводу', 3457: 'переводчику', 3458: 'перед', 3459: 'передавать', 3460: 'передает', 3461: 'передай', 3462: 'передать', 3463: 'передают', 3464: 'переделывайте', 3465: 'передумаешь', 3466: 'передумала', 3467: 'пережевывать', 3468: 'переживание', 3469: 'переживания', 3470: 'переживаниями', 3471: 'переживать', 3472: 'переизбытка', 3473: 'перекатегоризирует', 3474: 'переменах', 3475: 'перемены', 3476: 'перенаправляли', 3477: 'переносит', 3478: 'переодеться', 3479: 'переопределять', 3480: 'переоценивают', 3481: 'переплетены', 3482: 'переполняют', 3483: 'переработанных', 3484: 'пересечь', 3485: 'пересматривайте', 3486: 'пересмотреть', 3487: 'перестает', 3488: 'перестаете', 3489: 'перестала', 3490: 'перестанете', 3491: 'перестань', 3492: 'перестаньте', 3493: 'перестать', 3494: 'перестают', 3495: 'перестроил', 3496: 'перестройки', 3497: 'переулкам', 3498: 'перефразировать', 3499: 'перехитрить', 3500: 'переход', 3501: 'переходного', 3502: 'период', 3503: 'периода', 3504: 'перо', 3505: 'перси', 3506: 'персонажи', 3507: 'перспективе', 3508: 'перспективу', 3509: 'перспективы', 3510: 'перформанс', 3511: 'перчатки', 3512: 'перчаткой', 3513: 'песен', 3514: 'песимистик', 3515: 'песню', 3516: 'песня', 3517: 'пессимист', 3518: 'петра', 3519: 'петь', 3520: 'печали', 3521: 'печаль', 3522: 'печальна', 3523: 'печальное', 3524: 'печатной', 3525: 'печатные', 3526: 'печей', 3527: 'печенья', 3528: 'пикассо', 3529: 'пирог', 3530: 'писал', 3531: 'писателей', 3532: 'писатель', 3533: 'писательство', 3534: 'писателя', 3535: 'писать', 3536: 'пистолетный', 3537: 'письменной', 3538: 'письмо', 3539: 'письму', 3540: 'пишем', 3541: 'пишете', 3542: 'пишешь', 3543: 'пиши', 3544: 'пишите', 3545: 'пишу', 3546: 'пища', 3547: 'пищи', 3548: 'пищу', 3549: 'плавает', 3550: 'плавать', 3551: 'плавают', 3552: 'плавучий', 3553: 'плакать', 3554: 'пламя', 3555: 'план', 3556: 'плана', 3557: 'плане', 3558: 'планеты', 3559: 'планировал', 3560: 'планированием', 3561: 'планируйте', 3562: 'планирую', 3563: 'планов', 3564: 'планы', 3565: 'платим', 3566: 'платишь', 3567: 'плена', 3568: 'пленку', 3569: 'пленником', 3570: 'плодов', 3571: 'плоти', 3572: 'плохая', 3573: 'плохими', 3574: 'плохо', 3575: 'плохого', 3576: 'плохое', 3577: 'плохой', 3578: 'плыл', 3579: 'плюс', 3580: 'по', 3581: 'по-видимому', 3582: 'по-настоящему', 3583: 'по-прежнему', 3584: 'по-своему', 3585: 'по-старому', 3586: 'побег', 3587: 'победителей', 3588: 'победить', 3589: 'победы', 3590: 'побеждает', 3591: 'побеждать', 3592: 'побочный', 3593: 'побрал', 3594: 'побудит', 3595: 'побываешь', 3596: 'побыть', 3597: 'поведение', 3598: 'повезло', 3599: 'повел', 3600: 'поверить', 3601: 'повернитесь', 3602: 'поверх', 3603: 'поверхностна', 3604: 'повесился', 3605: 'повиновения', 3606: 'поводу', 3607: 'повторение', 3608: 'повторения', 3609: 'повторил', 3610: 'повторном', 3611: 'повторял', 3612: 'повторять', 3613: 'повторяться', 3614: 'повторяюсь', 3615: 'повышает', 3616: 'погасить', 3617: 'поглощает', 3618: 'поглощенными', 3619: 'поговорить', 3620: 'поговорка', 3621: 'погода', 3622: 'погоне', 3623: 'погруженная', 3624: 'погруженный', 3625: 'погрузился', 3626: 'погрузиться', 3627: 'погубил', 3628: 'под', 3629: 'подавляет', 3630: 'подарил', 3631: 'подарить', 3632: 'подарка', 3633: 'подарок', 3634: 'подбадриваю', 3635: 'подведу', 3636: 'подводит', 3637: 'подглядывайте', 3638: 'подготовить', 3639: 'подготовка', 3640: 'подготовку', 3641: 'поддаются', 3642: 'поддерживает', 3643: 'поддерживайте', 3644: 'поддерживала', 3645: 'поддерживать', 3646: 'поддерживают', 3647: 'подземному', 3648: 'подлинным', 3649: 'подлого', 3650: 'поднимает', 3651: 'поднимайся', 3652: 'поднимать', 3653: 'подниматься', 3654: 'поднимется', 3655: 'поднимешься', 3656: 'поднимите', 3657: 'подняться', 3658: 'подобен', 3659: 'подобна', 3660: 'подобная', 3661: 'подобно', 3662: 'подобного', 3663: 'подобны', 3664: 'подобным', 3665: 'подобострастия', 3666: 'подозревал', 3667: 'подозревающих', 3668: 'подозревая', 3669: 'подоходном', 3670: 'подоходный', 3671: 'подпирает', 3672: 'подпитывать', 3673: 'подражаете', 3674: 'подражать', 3675: 'подражают', 3676: 'подразумевает', 3677: 'подростками', 3678: 'подсказок', 3679: 'подсказывает', 3680: 'подслушивайте', 3681: 'подстерегают', 3682: 'подсчитайте', 3683: 'подтверждает', 3684: 'подумай', 3685: 'подумайте', 3686: 'подумал', 3687: 'подхватить', 3688: 'подходит', 3689: 'подходящего', 3690: 'подходящее', 3691: 'подчинились', 3692: 'подъем', 3693: 'поездка', 3694: 'поет', 3695: 'пожалуйста', 3696: 'пожелания', 3697: 'пожертвовать', 3698: 'пожинаем', 3699: 'пожирает', 3700: 'пожнете', 3701: 'позаботьтесь', 3702: 'позади', 3703: 'позаимствовать', 3704: 'позволите', 3705: 'позволить', 3706: 'позволь', 3707: 'позволяет', 3708: 'позволяй', 3709: 'позволяйте', 3710: 'позволят', 3711: 'позволяю', 3712: 'позвонил', 3713: 'поздно', 3714: 'позже', 3715: 'позитивно', 3716: 'позитивном', 3717: 'познакомилась', 3718: 'познакомились', 3719: 'познания', 3720: 'познать', 3721: 'поиски', 3722: 'поистине', 3723: 'пойдешь', 3724: 'поймете', 3725: 'пойте', 3726: 'пойти', 3727: 'пока', 3728: 'показателем', 3729: 'показатель', 3730: 'показать', 3731: 'показывает', 3732: 'покалывающее', 3733: 'покидающий', 3734: 'покинутым', 3735: 'поклонник', 3736: 'поклоняться', 3737: 'покой', 3738: 'поколении', 3739: 'поколениями', 3740: 'покончить', 3741: 'покоя', 3742: 'покрытие', 3743: 'покупают', 3744: 'полагаться', 3745: 'полагаю', 3746: 'поле', 3747: 'полезна', 3748: 'полезная', 3749: 'полезно', 3750: 'полезного', 3751: 'полезным', 3752: 'полет', 3753: 'политика', 3754: 'политическими', 3755: 'политического', 3756: 'политическом', 3757: 'политкорректно', 3758: 'полке', 3759: 'полковник', 3760: 'полного', 3761: 'полное', 3762: 'полной', 3763: 'полностью', 3764: 'полноценной', 3765: 'полную', 3766: 'полны', 3767: 'половина', 3768: 'половиной', 3769: 'положил', 3770: 'положительно', 3771: 'полпути', 3772: 'полу', 3773: 'получаем', 3774: 'получается', 3775: 'получать', 3776: 'получил', 3777: 'получилось', 3778: 'получите', 3779: 'получить', 3780: 'получишь', 3781: 'получу', 3782: 'получше', 3783: 'польза', 3784: 'пользоваться', 3785: 'пользу', 3786: 'пользуются', 3787: 'полюбили', 3788: 'полюбите', 3789: 'померкло', 3790: 'поместил', 3791: 'помешает', 3792: 'помешан', 3793: 'помешать', 3794: 'помни', 3795: 'помнить', 3796: 'помнишь', 3797: 'помню', 3798: 'помогает', 3799: 'помогать', 3800: 'помогают', 3801: 'помогающее', 3802: 'помоги', 3803: 'поможет', 3804: 'помочь', 3805: 'помощи', 3806: 'помощью', 3807: 'понадобятся', 3808: 'понарошку', 3809: 'понедельник', 3810: 'понемногу', 3811: 'понесло', 3812: 'понимает', 3813: 'понимаешь', 3814: 'понимал', 3815: 'понимали', 3816: 'понимание', 3817: 'пониманием', 3818: 'понимании', 3819: 'понимания', 3820: 'понимать', 3821: 'понимают', 3822: 'понял', 3823: 'понятиям', 3824: 'понято', 3825: 'понять', 3826: 'пообещать', 3827: 'поощрение', 3828: 'поощряет', 3829: 'поп-музыки', 3830: 'попав', 3831: 'попадает', 3832: 'попадания', 3833: 'попадет', 3834: 'попасть', 3835: 'попкорном', 3836: 'попробовать', 3837: 'попробуйте', 3838: 'попытаться', 3839: 'попытка', 3840: 'попытке', 3841: 'пор', 3842: 'поражает', 3843: 'поразительными', 3844: 'порочной', 3845: 'портрет', 3846: 'порядком', 3847: 'порядку', 3848: 'порядок', 3849: 'порядочный', 3850: 'посейте', 3851: 'посередине', 3852: 'посещения', 3853: 'поскольку', 3854: 'послание', 3855: 'посланник', 3856: 'после', 3857: 'последнее', 3858: 'последней', 3859: 'последние', 3860: 'последним', 3861: 'последняя', 3862: 'последовала', 3863: 'последовательное', 3864: 'послушай', 3865: 'послушание', 3866: 'послушных', 3867: 'посмотрел', 3868: 'посмотреть', 3869: 'посмотри', 3870: 'посмотрите', 3871: 'посредством', 3872: 'поставил', 3873: 'поставили', 3874: 'постановки', 3875: 'постарайся', 3876: 'постарайтесь', 3877: 'постель', 3878: 'постичь', 3879: 'постоянная', 3880: 'постоянно', 3881: 'постоянного', 3882: 'постоянное', 3883: 'постоянному', 3884: 'постоянный', 3885: 'построения', 3886: 'построить', 3887: 'поступай', 3888: 'поступать', 3889: 'поступаться', 3890: 'поступая', 3891: 'поступил', 3892: 'поступками', 3893: 'поступки', 3894: 'поступков', 3895: 'поступок', 3896: 'постучал', 3897: 'постучаться', 3898: 'постфактум', 3899: 'посудная', 3900: 'потворствуете', 3901: 'потенциала', 3902: 'потепление', 3903: 'потери', 3904: 'потерпел', 3905: 'потерпеть', 3906: 'потерпит', 3907: 'потеря', 3908: 'потеряет', 3909: 'потеряешь', 3910: 'потерял', 3911: 'потеряли', 3912: 'потерять', 3913: 'поток', 3914: 'потом', 3915: 'потому', 3916: 'потратил', 3917: 'потраченная', 3918: 'потребляют', 3919: 'потребность', 3920: 'потребовались', 3921: 'потребовалось', 3922: 'потренируетесь', 3923: 'потрогать', 3924: 'потрясен', 3925: 'потрясениям', 3926: 'потусоваться', 3927: 'поучительными', 3928: 'похитили', 3929: 'похищает', 3930: 'похожа', 3931: 'похоже', 3932: 'похожи', 3933: 'похожим', 3934: 'похожими', 3935: 'похоронить', 3936: 'похоть', 3937: 'поцеловала', 3938: 'поцелуем', 3939: 'поцелуи', 3940: 'поцелуй', 3941: 'поцелуя', 3942: 'почве', 3943: 'почему', 3944: 'почернела', 3945: 'почетна', 3946: 'почки', 3947: 'почти', 3948: 'почтой', 3949: 'почувствовал', 3950: 'почувствовать', 3951: 'почувствуете', 3952: 'почувствуешь', 3953: 'почувствуйте', 3954: 'пошевелился', 3955: 'пошел', 3956: 'пошла', 3957: 'пошли', 3958: 'поэзией', 3959: 'поэзии', 3960: 'поэзия', 3961: 'поэт', 3962: 'поэта', 3963: 'поэтом', 3964: 'поэтому', 3965: 'поэты', 3966: 'появится', 3967: 'появляется', 3968: 'прав', 3969: 'права', 3970: 'правда', 3971: 'правдив', 3972: 'правдивым', 3973: 'правдой', 3974: 'правду', 3975: 'правды', 3976: 'праведные', 3977: 'правила', 3978: 'правило', 3979: 'правильная', 3980: 'правильно', 3981: 'правильного', 3982: 'правильное', 3983: 'правильный', 3984: 'право', 3985: 'правомыслящим', 3986: 'правоту', 3987: 'правым', 3988: 'праздник', 3989: 'прайора', 3990: 'практика', 3991: 'практиковать', 3992: 'практикуют', 3993: 'практикующий', 3994: 'практически', 3995: 'пребывает', 3996: 'превозносит', 3997: 'превосходит', 3998: 'превратились', 3999: 'превратило', 4000: 'превратит', 4001: 'превратить', 4002: 'превратятся', 4003: 'превращает', 4004: 'превращается', 4005: 'превращаться', 4006: 'предавала', 4007: 'предает', 4008: 'предан', 4009: 'преданности', 4010: 'предварительно', 4011: 'предвестники', 4012: 'предела', 4013: 'пределами', 4014: 'пределах', 4015: 'пределы', 4016: 'предков', 4017: 'предлагаю', 4018: 'предложение', 4019: 'предложил', 4020: 'предмет', 4021: 'предметом', 4022: 'предназначение', 4023: 'предначертание', 4024: 'предоставить', 4025: 'предоставляет', 4026: 'предполагаем', 4027: 'предполагает', 4028: 'предполагали', 4029: 'предположениях', 4030: 'предположим', 4031: 'предположить', 4032: 'предпосылка', 4033: 'предпочел', 4034: 'предпочитаю', 4035: 'предпочтения', 4036: 'предпочтительнее', 4037: 'предпринятые', 4038: 'предприятием', 4039: 'предрассудков', 4040: 'предсказуема', 4041: 'предсказуемой', 4042: 'представить', 4043: 'представлял', 4044: 'представляла', 4045: 'предупредил', 4046: 'прежде', 4047: 'преждевременно', 4048: 'президент', 4049: 'президентские', 4050: 'презрением', 4051: 'прекрасен', 4052: 'прекрасна', 4053: 'прекрасная', 4054: 'прекрасно', 4055: 'прекрасного', 4056: 'прекрасное', 4057: 'прекрасной', 4058: 'прекрасный', 4059: 'прекратите', 4060: 'прекратить', 4061: 'прелесть', 4062: 'пренебрегайте', 4063: 'преображает', 4064: 'преобразить', 4065: 'преобразовать', 4066: 'преодолевать', 4067: 'преодолевая', 4068: 'преодоления', 4069: 'преодолеть', 4070: 'преподаватель', 4071: 'преподать', 4072: 'преподнести', 4073: 'прерваны', 4074: 'преследовать', 4075: 'престиж', 4076: 'преступник', 4077: 'при', 4078: 'прибыльной', 4079: 'привели', 4080: 'приверженность', 4081: 'привет', 4082: 'привилегий', 4083: 'привилегия', 4084: 'привлекательность', 4085: 'привлекут', 4086: 'привлечь', 4087: 'привнесут', 4088: 'привносит', 4089: 'приводит', 4090: 'приводят', 4091: 'привыкнешь', 4092: 'привычек', 4093: 'привычки', 4094: 'привычку', 4095: 'пригласил', 4096: 'приглашение', 4097: 'приготовьте', 4098: 'приготовьтесь', 4099: 'придает', 4100: 'придают', 4101: 'придерживаюсь', 4102: 'придержу', 4103: 'придет', 4104: 'придете', 4105: 'придется', 4106: 'приду', 4107: 'прием', 4108: 'приемлемой', 4109: 'приемлемым', 4110: 'прижат', 4111: 'призвание', 4112: 'приземление', 4113: 'призматические', 4114: 'призматический', 4115: 'признавался', 4116: 'признает', 4117: 'признаете', 4118: 'признак', 4119: 'признаком', 4120: 'признан', 4121: 'признание', 4122: 'признать', 4123: 'признаю', 4124: 'призрак', 4125: 'призраки', 4126: 'призраков', 4127: 'призраком', 4128: 'призывами', 4129: 'прикасаемся', 4130: 'прикасаться', 4131: 'приклеиваю', 4132: 'приключение', 4133: 'приключениями', 4134: 'прикосновение', 4135: 'прилагательных', 4136: 'приложил', 4137: 'приложить', 4138: 'применение', 4139: 'применяя', 4140: 'примера', 4141: 'примечание', 4142: 'прими', 4143: 'принадлежала', 4144: 'принадлежит', 4145: 'принесет', 4146: 'принесите', 4147: 'принести', 4148: 'принимает', 4149: 'принимали', 4150: 'принимать', 4151: 'приносит', 4152: 'приносят', 4153: 'принуждать', 4154: 'принуждение', 4155: 'принц', 4156: 'принцесса', 4157: 'принятие', 4158: 'принятии', 4159: 'принятое', 4160: 'принять', 4161: 'приобрести', 4162: 'приобретает', 4163: 'приоритетной', 4164: 'приостановить', 4165: 'приоткрылась', 4166: 'припадка', 4167: 'приписываю', 4168: 'природа', 4169: 'природой', 4170: 'прислушиваюсь', 4171: 'приснился', 4172: 'приступ', 4173: 'присутствие', 4174: 'присутствии', 4175: 'присутствия', 4176: 'притворяешься', 4177: 'притворялись', 4178: 'притворяются', 4179: 'притупление', 4180: 'притупляет', 4181: 'притязаниях', 4182: 'приударял', 4183: 'приучайте', 4184: 'приход', 4185: 'приходила', 4186: 'приходилось', 4187: 'приходит', 4188: 'приходится', 4189: 'приходу', 4190: 'приходят', 4191: 'прихоти', 4192: 'причин', 4193: 'причина', 4194: 'причинам', 4195: 'причине', 4196: 'причинить', 4197: 'причинно-следственной', 4198: 'причиной', 4199: 'причины', 4200: 'причинять', 4201: 'причиняют', 4202: 'пришел', 4203: 'пришли', 4204: 'пришлось', 4205: 'приятно', 4206: 'приятное', 4207: 'приятные', 4208: 'приятный', 4209: 'приятным', 4210: 'пробился', 4211: 'проблем', 4212: 'проблема', 4213: 'проблемами', 4214: 'проблемой', 4215: 'проблему', 4216: 'проблемы', 4217: 'проблески', 4218: 'пробормотала', 4219: 'пробудило', 4220: 'пробудился', 4221: 'пробудит', 4222: 'пробудите', 4223: 'пробудить', 4224: 'проведена', 4225: 'проведешь', 4226: 'проверить', 4227: 'проверкой', 4228: 'проводит', 4229: 'проводишь', 4230: 'проводят', 4231: 'провозглашает', 4232: 'провоцирующий', 4233: 'проглотить', 4234: 'программа', 4235: 'прогресса', 4236: 'прогрессу', 4237: 'прогуливаться', 4238: 'прогулки', 4239: 'прогуляться', 4240: 'продавали', 4241: 'продаются', 4242: 'продвигаются', 4243: 'продвижения', 4244: 'продвинула', 4245: 'продвинулся', 4246: 'продемонстрировать', 4247: 'продлится', 4248: 'продолжаете', 4249: 'продолжается', 4250: 'продолжай', 4251: 'продолжать', 4252: 'продолжениями', 4253: 'продолжительности', 4254: 'продолжительность', 4255: 'продолжу', 4256: 'продукт', 4257: 'проживайте', 4258: 'проживать', 4259: 'прожито', 4260: 'прожитой', 4261: 'прожить', 4262: 'прозес', 4263: 'проигравших', 4264: 'проиграете', 4265: 'проиграть', 4266: 'проигрывать', 4267: 'произведение', 4268: 'произведений', 4269: 'произведения', 4270: 'производители', 4271: 'производства', 4272: 'производят', 4273: 'произносить', 4274: 'произносящим', 4275: 'произношении', 4276: 'произношу', 4277: 'произойдет', 4278: 'произошло', 4279: 'проистекают', 4280: 'происходит', 4281: 'пройдешь', 4282: 'пройти', 4283: 'прокляни', 4284: 'промежутках', 4285: 'промолчать', 4286: 'проникает', 4287: 'проницательность', 4288: 'проповедую', 4289: 'пропорции', 4290: 'пропорциях', 4291: 'пропустить', 4292: 'просвети', 4293: 'просветлят', 4294: 'просвещает', 4295: 'просить', 4296: 'прославлять', 4297: 'просмотра', 4298: 'просмотри', 4299: 'проснись', 4300: 'проснитесь', 4301: 'проснулись', 4302: 'проснулся', 4303: 'проспали', 4304: 'проста', 4305: 'простая', 4306: 'прости', 4307: 'простить', 4308: 'просто', 4309: 'простое', 4310: 'пространство', 4311: 'простую', 4312: 'простые', 4313: 'простым', 4314: 'просыпаются', 4315: 'против', 4316: 'противник', 4317: 'противника', 4318: 'противоречить', 4319: 'противостоять', 4320: 'противоядие', 4321: 'протокола', 4322: 'прототипом', 4323: 'профессионалом', 4324: 'профессиональной', 4325: 'профессию', 4326: 'профессия', 4327: 'профессоров', 4328: 'проходит', 4329: 'процента', 4330: 'процентов', 4331: 'процесс', 4332: 'процессе', 4333: 'процессу', 4334: 'прочитав', 4335: 'прочитай', 4336: 'прочитал', 4337: 'прочно', 4338: 'прочного', 4339: 'прочным', 4340: 'прочтении', 4341: 'прочтения', 4342: 'прошептал', 4343: 'прошлого', 4344: 'прошлое', 4345: 'прошлой', 4346: 'прошлом', 4347: 'прошлую', 4348: 'прошлые', 4349: 'прошлым', 4350: 'прошлых', 4351: 'прошу', 4352: 'прощай', 4353: 'прощайте', 4354: 'прощальных', 4355: 'прощать', 4356: 'прощение', 4357: 'прощения', 4358: 'прощу', 4359: 'проявится', 4360: 'проявить', 4361: 'проявлением', 4362: 'проявляется', 4363: 'проявляться', 4364: 'проявляются', 4365: 'прыгать', 4366: 'прыгни', 4367: 'прыжка', 4368: 'прыжок', 4369: 'прямо', 4370: 'психологическим', 4371: 'птица', 4372: 'птицы', 4373: 'публика', 4374: 'публично', 4375: 'пугает', 4376: 'пугающим', 4377: 'пульсом', 4378: 'пульт', 4379: 'пуля', 4380: 'пусо', 4381: 'пустая', 4382: 'пустить', 4383: 'пусто', 4384: 'пустой', 4385: 'пустота', 4386: 'пустоты', 4387: 'пустыне', 4388: 'пусть', 4389: 'путаться', 4390: 'путем', 4391: 'путешественника', 4392: 'путешествие', 4393: 'путешествию', 4394: 'путешествия', 4395: 'путешествовать', 4396: 'пути', 4397: 'путь', 4398: 'пучине', 4399: 'пчела', 4400: 'пыль', 4401: 'пылью', 4402: 'пытаемся', 4403: 'пытается', 4404: 'пытайтесь', 4405: 'пытать', 4406: 'пытаться', 4407: 'пытка', 4408: 'пятерку', 4409: 'пятницу', 4410: 'пять', 4411: 'работа', 4412: 'работает', 4413: 'работаешь', 4414: 'работай', 4415: 'работайте', 4416: 'работал', 4417: 'работали', 4418: 'работать', 4419: 'работе', 4420: 'работу', 4421: 'работы', 4422: 'равнине', 4423: 'равно', 4424: 'равновесие', 4425: 'равнодушны', 4426: 'равносилен', 4427: 'равны', 4428: 'равными', 4429: 'рад', 4430: 'ради', 4431: 'радоваться', 4432: 'радости', 4433: 'радость', 4434: 'радостью', 4435: 'радостями', 4436: 'радугу', 4437: 'раз', 4438: 'разбей', 4439: 'разбиваются', 4440: 'разбито', 4441: 'разбитое', 4442: 'разбить', 4443: 'разбросанные', 4444: 'разбуди', 4445: 'разваливается', 4446: 'разве', 4447: 'развита', 4448: 'развитие', 4449: 'развитое', 4450: 'развлекать', 4451: 'развлекают', 4452: 'развлекли', 4453: 'развлечений', 4454: 'развод', 4455: 'разворачивающихся', 4456: 'разгадать', 4457: 'разгар', 4458: 'разговариваем', 4459: 'разговаривай', 4460: 'разговаривали', 4461: 'разговаривать', 4462: 'разговоры', 4463: 'раздатчик', 4464: 'разделительная', 4465: 'разделить', 4466: 'разделяет', 4467: 'раздражают', 4468: 'разжигают', 4469: 'различий', 4470: 'различных', 4471: 'размера', 4472: 'размере', 4473: 'размножаться', 4474: 'размолвку', 4475: 'разном', 4476: 'разнообразные', 4477: 'разнообразными', 4478: 'разные', 4479: 'разным', 4480: 'разных', 4481: 'разовое', 4482: 'разоренных', 4483: 'разочарованием', 4484: 'разочарований', 4485: 'разочарованы', 4486: 'разочаровываешься', 4487: 'разрастутся', 4488: 'разрешения', 4489: 'разрешено', 4490: 'разрозненным', 4491: 'разрушает', 4492: 'разрушаешь', 4493: 'разрушено', 4494: 'разрушит', 4495: 'разрушительными', 4496: 'разрушить', 4497: 'разрывают', 4498: 'разум', 4499: 'разума', 4500: 'разумеющееся', 4501: 'разумеющейся', 4502: 'разумной', 4503: 'разумных', 4504: 'разумом', 4505: 'разуму', 4506: 'рай', 4507: 'рамки', 4508: 'ранит', 4509: 'ранний', 4510: 'рано', 4511: 'рану', 4512: 'раны', 4513: 'раньше', 4514: 'раса', 4515: 'раскинулся', 4516: 'раскованные', 4517: 'раскроет', 4518: 'раскрывать', 4519: 'раскрыл', 4520: 'раскрытия', 4521: 'раскрыть', 4522: 'расплескал', 4523: 'распределения', 4524: 'распространяется', 4525: 'распространяются', 4526: 'рассказе', 4527: 'рассказы', 4528: 'рассказывает', 4529: 'рассказывания', 4530: 'рассказывать', 4531: 'рассказывают', 4532: 'расслабиться', 4533: 'рассматривает', 4534: 'рассматривайте', 4535: 'рассматривать', 4536: 'рассматриваю', 4537: 'расстоянии', 4538: 'рассуждать', 4539: 'рассыплется', 4540: 'растапливают', 4541: 'растаяла', 4542: 'растет', 4543: 'расти', 4544: 'растрата', 4545: 'растрачена', 4546: 'расцветает', 4547: 'рацион', 4548: 'рациональность', 4549: 'рационе', 4550: 'рваная', 4551: 'рвением', 4552: 'реагируй', 4553: 'реакций', 4554: 'реализм', 4555: 'реализованы', 4556: 'реализуется', 4557: 'реально', 4558: 'реального', 4559: 'реальной', 4560: 'реальном', 4561: 'реальности', 4562: 'реальность', 4563: 'реальностью', 4564: 'реальны', 4565: 'реальным', 4566: 'ребенка', 4567: 'ребенком', 4568: 'ребенку', 4569: 'ребенок', 4570: 'ребята', 4571: 'ревновать', 4572: 'ревности', 4573: 'ревнуешь', 4574: 'революционная', 4575: 'революционным', 4576: 'революцию', 4577: 'редактора', 4578: 'редакторы', 4579: 'редкая', 4580: 'редкие', 4581: 'редкий', 4582: 'редкими', 4583: 'редко', 4584: 'результате', 4585: 'результаты', 4586: 'реквиеме', 4587: 'реке', 4588: 'рекламируйте', 4589: 'реконструкции', 4590: 'религии', 4591: 'религиозное', 4592: 'религия', 4593: 'репрезентация', 4594: 'репутация', 4595: 'ресторанах', 4596: 'ретт', 4597: 'реформатор', 4598: 'речи', 4599: 'речь', 4600: 'решаем', 4601: 'решение', 4602: 'решения', 4603: 'решили', 4604: 'решимости', 4605: 'решимость', 4606: 'решить', 4607: 'риверс', 4608: 'рингтоны', 4609: 'риска', 4610: 'рисковать', 4611: 'рискует', 4612: 'рискуйте', 4613: 'рисования', 4614: 'рисовать', 4615: 'рисует', 4616: 'ритм', 4617: 'ритмичное', 4618: 'рифмовки', 4619: 'рифму', 4620: 'ричарда', 4621: 'рода', 4622: 'родились', 4623: 'родился', 4624: 'родителям', 4625: 'родить', 4626: 'рождаемости', 4627: 'рождаемся', 4628: 'рождается', 4629: 'рождение', 4630: 'рождения', 4631: 'рождены', 4632: 'розового', 4633: 'рок-звезда', 4634: 'рок-н-ролл', 4635: 'рок-фанатов', 4636: 'рока', 4637: 'рокфеллер', 4638: 'роль', 4639: 'роман', 4640: 'романтика', 4641: 'романтическая', 4642: 'романтической', 4643: 'романы', 4644: 'рос', 4645: 'роскошь', 4646: 'роскошью', 4647: 'российский', 4648: 'рост', 4649: 'роста', 4650: 'ростом', 4651: 'рот', 4652: 'рты', 4653: 'рубежом', 4654: 'рубинами', 4655: 'ругаются', 4656: 'рук', 4657: 'рука', 4658: 'руками', 4659: 'руках', 4660: 'руке', 4661: 'руки', 4662: 'руководство', 4663: 'рукой', 4664: 'рукопожатие', 4665: 'рукопожатия', 4666: 'руку', 4667: 'рыбалка', 4668: 'рыболовную', 4669: 'рыдать', 4670: 'рядом', 4671: 'ряду', 4672: 'ряды', 4673: 'с', 4674: 'са', 4675: 'сабе', 4676: 'сад', 4677: 'садилось', 4678: 'сайо', 4679: 'сакитму', 4680: 'сам', 4681: 'сама', 4682: 'самая', 4683: 'сами', 4684: 'сами-знаете-ком', 4685: 'самим', 4686: 'самими', 4687: 'самих', 4688: 'само', 4689: 'самовыражения', 4690: 'самого', 4691: 'самодовольных', 4692: 'самое', 4693: 'самозабвенно', 4694: 'самой', 4695: 'самолюбия', 4696: 'самом', 4697: 'самому', 4698: 'самоотдача', 4699: 'самопознанию', 4700: 'самореализации', 4701: 'самосознание', 4702: 'самую', 4703: 'самые', 4704: 'самый', 4705: 'самым', 4706: 'самыми', 4707: 'самых', 4708: 'сарили', 4709: 'сарказм', 4710: 'саспенс', 4711: 'саспенса', 4712: 'сая', 4713: 'сбивающий', 4714: 'сближения', 4715: 'сбоку', 4716: 'сборище', 4717: 'сброшенным', 4718: 'сбудется', 4719: 'сбываются', 4720: 'сбылось', 4721: 'свежий', 4722: 'сверкают', 4723: 'свет', 4724: 'света', 4725: 'свете', 4726: 'светит', 4727: 'светить', 4728: 'светом', 4729: 'свету', 4730: 'свечей', 4731: 'свечи', 4732: 'свиданием', 4733: 'свидетелем', 4734: 'свидетельство', 4735: 'свиньи', 4736: 'свобода', 4737: 'свободен', 4738: 'свободна', 4739: 'свободного', 4740: 'свободной', 4741: 'свободой', 4742: 'свободу', 4743: 'свободы', 4744: 'сводится', 4745: 'сводном', 4746: 'свое', 4747: 'своевременное', 4748: 'своего', 4749: 'своей', 4750: 'своекорыстны', 4751: 'своекорыстными', 4752: 'своем', 4753: 'своему', 4754: 'свои', 4755: 'своим', 4756: 'своими', 4757: 'своих', 4758: 'свой', 4759: 'свойственно', 4760: 'свойство', 4761: 'свою', 4762: 'связан', 4763: 'связаны', 4764: 'связаться', 4765: 'связи', 4766: 'связывает', 4767: 'связывали', 4768: 'связь', 4769: 'святая', 4770: 'святого', 4771: 'священники', 4772: 'священное', 4773: 'священнослужители', 4774: 'сгоревших', 4775: 'сдается', 4776: 'сдвинулась', 4777: 'сделает', 4778: 'сделайте', 4779: 'сделала', 4780: 'сделали', 4781: 'сделано', 4782: 'сделать', 4783: 'се', 4784: 'себаньяк-баньякня', 4785: 'себе', 4786: 'себе-не-какашках', 4787: 'себя', 4788: 'сегодня', 4789: 'сегодняшний', 4790: 'седанг', 4791: 'седых', 4792: 'сеем', 4793: 'сезон', 4794: 'сейчас', 4795: 'сейшельских', 4796: 'секрет', 4797: 'секретаря-альбиноса', 4798: 'секретный', 4799: 'секреты', 4800: 'секс', 4801: 'сексом', 4802: 'сексуальной', 4803: 'сексуальную', 4804: 'сексуальные', 4805: 'сексуальными', 4806: 'сексуальных', 4807: 'семейного', 4808: 'семейной', 4809: 'семена', 4810: 'семечка', 4811: 'семуа', 4812: 'семьдесят', 4813: 'семьи', 4814: 'семью', 4815: 'семья', 4816: 'семя', 4817: 'семян', 4818: 'сени', 4819: 'сердец', 4820: 'сердечный', 4821: 'сердца', 4822: 'сердце', 4823: 'сердцебиение', 4824: 'сердцебиением', 4825: 'сердцем', 4826: 'сердцу', 4827: 'серое', 4828: 'серость', 4829: 'серые', 4830: 'серьезно', 4831: 'серьезным', 4832: 'серьезными', 4833: 'сесуату', 4834: 'сеть', 4835: 'сигарета', 4836: 'сидеть', 4837: 'сиди', 4838: 'сикап', 4839: 'сил', 4840: 'сила', 4841: 'силах', 4842: 'силен', 4843: 'силой', 4844: 'силу', 4845: 'силы', 4846: 'сильнее', 4847: 'сильно', 4848: 'сильное', 4849: 'сильной', 4850: 'сильную', 4851: 'сильный', 4852: 'сильным', 4853: 'сильными', 4854: 'символом', 4855: 'симметрию', 4856: 'симпатичных', 4857: 'синема', 4858: 'синим', 4859: 'ситуации', 4860: 'ситуацию', 4861: 'ситуациями', 4862: 'сих', 4863: 'сияла', 4864: 'скажем', 4865: 'скажи', 4866: 'скажите', 4867: 'сказал', 4868: 'сказала', 4869: 'сказано', 4870: 'сказать', 4871: 'сказка', 4872: 'сказки', 4873: 'скалы', 4874: 'скатологический', 4875: 'скачок', 4876: 'сквозь', 4877: 'складывается', 4878: 'склонен', 4879: 'склонности', 4880: 'склонность', 4881: 'склонны', 4882: 'склоняй', 4883: 'скользко', 4884: 'сколько', 4885: 'скорее', 4886: 'скоро', 4887: 'скорости', 4888: 'скорректированы', 4889: 'скрипку', 4890: 'скромность', 4891: 'скромные', 4892: 'скрывал', 4893: 'скрывают', 4894: 'скрытно', 4895: 'скрыты', 4896: 'скрытым', 4897: 'скрыться', 4898: 'скука', 4899: 'скуки', 4900: 'скуку', 4901: 'скучаете', 4902: 'скучающие', 4903: 'скучная', 4904: 'скучно', 4905: 'скучны', 4906: 'скучными', 4907: 'слабая', 4908: 'слабым', 4909: 'слабых', 4910: 'славе', 4911: 'славой', 4912: 'славу', 4913: 'сладости', 4914: 'сладостное', 4915: 'сладость', 4916: 'слегка', 4917: 'следовало', 4918: 'следовательно', 4919: 'следует', 4920: 'следуете', 4921: 'следуйте', 4922: 'следующее', 4923: 'следующий', 4924: 'слезинку', 4925: 'слезы', 4926: 'слепы', 4927: 'слитые', 4928: 'слишком', 4929: 'слов', 4930: 'слова', 4931: 'словами', 4932: 'словаре', 4933: 'словарным', 4934: 'словарь', 4935: 'словаря', 4936: 'словах', 4937: 'словно', 4938: 'слово', 4939: 'сложа', 4940: 'сложилось', 4941: 'сложна', 4942: 'сложно', 4943: 'сложное', 4944: 'сложность', 4945: 'сложную', 4946: 'сложны', 4947: 'сложным', 4948: 'сложными', 4949: 'сложных', 4950: 'слои', 4951: 'сломайте', 4952: 'сломаю', 4953: 'сломить', 4954: 'слоновой', 4955: 'слоняешься', 4956: 'слугами', 4957: 'служат', 4958: 'службы', 4959: 'служения', 4960: 'служи', 4961: 'служитель', 4962: 'служить', 4963: 'слух', 4964: 'случае', 4965: 'случаев', 4966: 'случается', 4967: 'случаи', 4968: 'случайно', 4969: 'случая', 4970: 'слушайте', 4971: 'слушал', 4972: 'слушать', 4973: 'слушаю', 4974: 'слышал', 4975: 'слышала', 4976: 'слышали', 4977: 'слышать', 4978: 'слышишь', 4979: 'смеется', 4980: 'смей', 4981: 'смелости', 4982: 'смертей', 4983: 'смертелен', 4984: 'смертельной', 4985: 'смертельную', 4986: 'смерти', 4987: 'смертного', 4988: 'смерть', 4989: 'смертью', 4990: 'смех', 4991: 'смеха', 4992: 'смехом', 4993: 'смешанные', 4994: 'смешиваешь', 4995: 'смешной', 4996: 'смешны', 4997: 'смешным', 4998: 'смеяться', 4999: 'смирение', 5000: 'смириться', 5001: 'смог', 5002: 'смогли', 5003: 'смогу', 5004: 'смогут', 5005: 'сможет', 5006: 'сможете', 5007: 'сможешь', 5008: 'смотрел', 5009: 'смотрела', 5010: 'смотреть', 5011: 'смотри', 5012: 'смотрите', 5013: 'смущающими', 5014: 'смывания', 5015: 'смысл', 5016: 'смысла', 5017: 'смысле', 5018: 'смыслы', 5019: 'сна', 5020: 'снаружи', 5021: 'сначала', 5022: 'сне', 5023: 'снимать', 5024: 'сниматься', 5025: 'снисхождение', 5026: 'снов', 5027: 'снова', 5028: 'сносной', 5029: 'сну', 5030: 'снять', 5031: 'со', 5032: 'собак', 5033: 'собака', 5034: 'собаке', 5035: 'собаки', 5036: 'собаку', 5037: 'собирает', 5038: 'собираетесь', 5039: 'собирается', 5040: 'собиралась', 5041: 'соблюдают', 5042: 'собой', 5043: 'собора', 5044: 'собранные', 5045: 'собственного', 5046: 'собственное', 5047: 'собственной', 5048: 'собственном', 5049: 'собственному', 5050: 'собственную', 5051: 'собственный', 5052: 'собственным', 5053: 'собственных', 5054: 'событие', 5055: 'событием', 5056: 'событий', 5057: 'события', 5058: 'сов', 5059: 'совершаемому', 5060: 'совершайте', 5061: 'совершали', 5062: 'совершать', 5063: 'совершают', 5064: 'совершающий', 5065: 'совершение', 5066: 'совершенная', 5067: 'совершенно', 5068: 'совершенной', 5069: 'совершенным', 5070: 'совершенства', 5071: 'совершенством', 5072: 'совершенству', 5073: 'совет', 5074: 'советник', 5075: 'современное', 5076: 'современном', 5077: 'совсем', 5078: 'согласен', 5079: 'согласиться', 5080: 'согласия', 5081: 'согласно', 5082: 'согласны', 5083: 'согласуется', 5084: 'соглашайтесь', 5085: 'соглашающийся', 5086: 'согревает', 5087: 'содержание', 5088: 'содержат', 5089: 'содержимое', 5090: 'соединяет', 5091: 'сожалеет', 5092: 'сожаление', 5093: 'сожалению', 5094: 'сожжения', 5095: 'создавал', 5096: 'создает', 5097: 'создайте', 5098: 'создал', 5099: 'создана', 5100: 'создания', 5101: 'созданы', 5102: 'создать', 5103: 'создаются', 5104: 'созерцает', 5105: 'созерцание', 5106: 'сознание', 5107: 'сознанием', 5108: 'сознания', 5109: 'сойти', 5110: 'сократится', 5111: 'сокровища', 5112: 'сокровище', 5113: 'сокровищем', 5114: 'сокрушает', 5115: 'солдата', 5116: 'соленую', 5117: 'соленые', 5118: 'соли', 5119: 'солисткой', 5120: 'солнечного', 5121: 'солнечный', 5122: 'солнца', 5123: 'солнце', 5124: 'солнцезащитному', 5125: 'солнцезащитные', 5126: 'солнцем', 5127: 'солнцу', 5128: 'сомневаешься', 5129: 'сомневался', 5130: 'сомнение', 5131: 'сомнением', 5132: 'сомнений', 5133: 'сомнения', 5134: 'сон', 5135: 'сообщество', 5136: 'соответствии', 5137: 'соответствовать', 5138: 'соответствует', 5139: 'соотношении', 5140: 'сопоставление', 5141: 'сопротивляется', 5142: 'соревнований', 5143: 'соревнуйтесь', 5144: 'сортируя', 5145: 'сосредотачиваемся', 5146: 'сосредоточиться', 5147: 'сосредоточьтесь', 5148: 'состав', 5149: 'составляют', 5150: 'составляющая', 5151: 'составляющими', 5152: 'состоит', 5153: 'состояние', 5154: 'состраданием', 5155: 'сострадания', 5156: 'сосуда', 5157: 'сотен', 5158: 'сотрудничества', 5159: 'сотрудничеством', 5160: 'сохранения', 5161: 'сохранил', 5162: 'сохранить', 5163: 'сохраняется', 5164: 'сохраняют', 5165: 'социальной', 5166: 'сочетаем', 5167: 'сочетание', 5168: 'сочувствию', 5169: 'сошел', 5170: 'союзник', 5171: 'спал', 5172: 'спала', 5173: 'спасает', 5174: 'спасаю', 5175: 'спасен', 5176: 'спасение', 5177: 'спасения', 5178: 'спасет', 5179: 'спасибо', 5180: 'спасителе', 5181: 'спасительное', 5182: 'спать', 5183: 'спектакль', 5184: 'спеть', 5185: 'специализированных', 5186: 'спешить', 5187: 'спим', 5188: 'спиной', 5189: 'спиртное', 5190: 'спит', 5191: 'спичек', 5192: 'спичечном', 5193: 'спичкой', 5194: 'сплю', 5195: 'спокоен', 5196: 'спокойствие', 5197: 'спокойствием', 5198: 'спортивный', 5199: 'способ', 5200: 'способа', 5201: 'способен', 5202: 'способная', 5203: 'способное', 5204: 'способной', 5205: 'способностей', 5206: 'способности', 5207: 'способность', 5208: 'способностями', 5209: 'способны', 5210: 'способов', 5211: 'способом', 5212: 'способствовать', 5213: 'способствует', 5214: 'справедлива', 5215: 'справедливо', 5216: 'справляться', 5217: 'спрашивает', 5218: 'спроецированной', 5219: 'спросил', 5220: 'спросила', 5221: 'спросили', 5222: 'спросите', 5223: 'спросить', 5224: 'спрятан', 5225: 'спрятана', 5226: 'спустя', 5227: 'сравнение', 5228: 'сравнению', 5229: 'сравнима', 5230: 'сравниться', 5231: 'сражайся', 5232: 'среде', 5233: 'среди', 5234: 'средний', 5235: 'средняя', 5236: 'средств', 5237: 'средства', 5238: 'средствам', 5239: 'средствами', 5240: 'средство', 5241: 'срезать', 5242: 'срок', 5243: 'сроки', 5244: 'срубить', 5245: 'ставит', 5246: 'стадии', 5247: 'стал', 5248: 'стала', 5249: 'сталкивается', 5250: 'сталкиваешься', 5251: 'сталкиваться', 5252: 'стало', 5253: 'стандарта', 5254: 'становился', 5255: 'становимся', 5256: 'становитесь', 5257: 'становится', 5258: 'становиться', 5259: 'становления', 5260: 'становясь', 5261: 'становятся', 5262: 'станок', 5263: 'стану', 5264: 'станут', 5265: 'станьте', 5266: 'старайся', 5267: 'старайтесь', 5268: 'старались', 5269: 'старался', 5270: 'старик', 5271: 'стариков', 5272: 'старой', 5273: 'старость', 5274: 'старше', 5275: 'старшим', 5276: 'старые', 5277: 'старый', 5278: 'старых', 5279: 'статистика', 5280: 'статус', 5281: 'стать', 5282: 'ствол', 5283: 'стейк', 5284: 'стене', 5285: 'стену', 5286: 'стены', 5287: 'степени', 5288: 'стервятник', 5289: 'стереть', 5290: 'стержень', 5291: 'стеснялся', 5292: 'стиль', 5293: 'стихи', 5294: 'стихов', 5295: 'сто', 5296: 'стоит', 5297: 'стоишь', 5298: 'стойким', 5299: 'стол', 5300: 'стопками', 5301: 'сторона', 5302: 'стороне', 5303: 'стороной', 5304: 'сторону', 5305: 'стороны', 5306: 'стоял', 5307: 'стояние', 5308: 'стоят', 5309: 'стоящего', 5310: 'стоящим', 5311: 'стр', 5312: 'страдает', 5313: 'страданий', 5314: 'страданию', 5315: 'страдания', 5316: 'страдать', 5317: 'страдающий', 5318: 'стран', 5319: 'страна', 5320: 'странице', 5321: 'страницы', 5322: 'странная', 5323: 'странницей', 5324: 'странно', 5325: 'странной', 5326: 'странности', 5327: 'странность', 5328: 'странную', 5329: 'странные', 5330: 'странным', 5331: 'страны', 5332: 'страсти', 5333: 'страстный', 5334: 'страсть', 5335: 'страстями', 5336: 'стратегия', 5337: 'страх', 5338: 'страха', 5339: 'страхе', 5340: 'страхом', 5341: 'страхуват', 5342: 'страшная', 5343: 'страшнее', 5344: 'страшно', 5345: 'стремимся', 5346: 'стремитесь', 5347: 'стремится', 5348: 'стремиться', 5349: 'стремление', 5350: 'стремлении', 5351: 'стремясь', 5352: 'стремятся', 5353: 'строго', 5354: 'строит', 5355: 'строить', 5356: 'струн', 5357: 'студент', 5358: 'ступать', 5359: 'стыдно', 5360: 'стэнфордском', 5361: 'суверенная', 5362: 'суда', 5363: 'судили', 5364: 'судите', 5365: 'судить', 5366: 'судьба', 5367: 'судьбе', 5368: 'судьбу', 5369: 'судьей', 5370: 'судья', 5371: 'судя', 5372: 'судят', 5373: 'суеверий', 5374: 'суждено', 5375: 'сука', 5376: 'сумасшедшей', 5377: 'суп', 5378: 'суперсила', 5379: 'супружеской', 5380: 'суслом', 5381: 'сути', 5382: 'суть', 5383: 'сухой', 5384: 'существ', 5385: 'существа', 5386: 'существо', 5387: 'существовала', 5388: 'существовало', 5389: 'существования', 5390: 'существовать', 5391: 'существом', 5392: 'существу', 5393: 'существует', 5394: 'существуешь', 5395: 'существуют', 5396: 'существующей', 5397: 'существующую', 5398: 'сущность', 5399: 'сущностью', 5400: 'сфере', 5401: 'схема', 5402: 'сходи', 5403: 'сцена', 5404: 'счастлив', 5405: 'счастлива', 5406: 'счастливее', 5407: 'счастливы', 5408: 'счастливые', 5409: 'счастливым', 5410: 'счастливыми', 5411: 'счастливых', 5412: 'счастье', 5413: 'счастью', 5414: 'счастья', 5415: 'счел', 5416: 'счет', 5417: 'счете', 5418: 'счетов', 5419: 'считаем', 5420: 'считаете', 5421: 'считается', 5422: 'считай', 5423: 'считала', 5424: 'считаться', 5425: 'считаю', 5426: 'считают', 5427: 'съесть', 5428: 'сэди', 5429: 'сэр', 5430: 'сюда', 5431: 'сюжет', 5432: 'та', 5433: 'таинственность', 5434: 'таинство', 5435: 'таится', 5436: 'тайлер', 5437: 'таймс', 5438: 'тайнами', 5439: 'тайную', 5440: 'так', 5441: 'такая', 5442: 'такбур', 5443: 'также', 5444: 'такие', 5445: 'таким', 5446: 'такими', 5447: 'таков', 5448: 'таковы', 5449: 'такого', 5450: 'такое', 5451: 'такой', 5452: 'таком', 5453: 'такую', 5454: 'талант', 5455: 'талантливы', 5456: 'талия', 5457: 'там', 5458: 'тангис', 5459: 'танцевала', 5460: 'танцорами', 5461: 'танцует', 5462: 'таонг', 5463: 'тара', 5464: 'таху', 5465: 'твердая', 5466: 'твердо', 5467: 'твердости', 5468: 'твое', 5469: 'твоего', 5470: 'твоей', 5471: 'твоему', 5472: 'твои', 5473: 'твоих', 5474: 'творение', 5475: 'творцом', 5476: 'творческий', 5477: 'творческого', 5478: 'творчества', 5479: 'творчество', 5480: 'твою', 5481: 'твоя', 5482: 'те', 5483: 'театр', 5484: 'театроведению', 5485: 'тебе', 5486: 'тебя', 5487: 'текста', 5488: 'текучем', 5489: 'тела', 5490: 'телами', 5491: 'телесного', 5492: 'телефон', 5493: 'телефонам', 5494: 'тело', 5495: 'телом', 5496: 'тем', 5497: 'теми', 5498: 'темно', 5499: 'темноте', 5500: 'темноты', 5501: 'темными', 5502: 'темных', 5503: 'темпе', 5504: 'темпераментом', 5505: 'тему', 5506: 'тени', 5507: 'тень', 5508: 'теологами', 5509: 'теоретический', 5510: 'теория', 5511: 'теперь', 5512: 'теплом', 5513: 'теплотой', 5514: 'терапевтично', 5515: 'тербанг', 5516: 'термина', 5517: 'терминологии', 5518: 'терпел', 5519: 'терпеливы', 5520: 'терпение', 5521: 'терпеть', 5522: 'терпим', 5523: 'терпимости', 5524: 'терпимость', 5525: 'терплю', 5526: 'терроризируют', 5527: 'теряет', 5528: 'тесла', 5529: 'тесно', 5530: 'тесной', 5531: 'тест', 5532: 'тесте', 5533: 'тефлоновое', 5534: 'тех', 5535: 'течение', 5536: 'течению', 5537: 'течь', 5538: 'тидак', 5539: 'титула', 5540: 'титулов', 5541: 'тихие', 5542: 'тихоня', 5543: 'тишина', 5544: 'тишине', 5545: 'тишины', 5546: 'ткался', 5547: 'ткацкий', 5548: 'ткется', 5549: 'то', 5550: 'тобой', 5551: 'тогда', 5552: 'того', 5553: 'тоже', 5554: 'той', 5555: 'толике', 5556: 'толкованию', 5557: 'толку', 5558: 'только', 5559: 'том', 5560: 'тому', 5561: 'тонких', 5562: 'тонкое', 5563: 'тоном', 5564: 'тонуть', 5565: 'торговли', 5566: 'торговый', 5567: 'торт', 5568: 'торчал', 5569: 'тоска', 5570: 'тоске', 5571: 'тот', 5572: 'точат', 5573: 'точка', 5574: 'точкой', 5575: 'точно', 5576: 'точного', 5577: 'точности', 5578: 'точностью', 5579: 'точь-в-точь', 5580: 'тошнит', 5581: 'трагедии', 5582: 'трагедия', 5583: 'трагедиями', 5584: 'трансформации', 5585: 'тратите', 5586: 'тратить', 5587: 'тратьте', 5588: 'трахая', 5589: 'требовательного', 5590: 'требует', 5591: 'требуется', 5592: 'треске', 5593: 'третий', 5594: 'три', 5595: 'тривиальные', 5596: 'тридцать', 5597: 'триллионы', 5598: 'тристан', 5599: 'триумф', 5600: 'трогает', 5601: 'троица', 5602: 'троне', 5603: 'тропам', 5604: 'тропических', 5605: 'тростинка', 5606: 'трубе', 5607: 'труд', 5608: 'трудится', 5609: 'трудная', 5610: 'труднее', 5611: 'трудно', 5612: 'трудное', 5613: 'трудностей', 5614: 'трудности', 5615: 'трудность', 5616: 'трудностях', 5617: 'трудные', 5618: 'трудным', 5619: 'трусики', 5620: 'ту', 5621: 'туалет', 5622: 'туда', 5623: 'туннелю', 5624: 'туннеля', 5625: 'туфлях', 5626: 'тщательно', 5627: 'ты', 5628: 'тыльной', 5629: 'тысяча', 5630: 'тысячи', 5631: 'тьму', 5632: 'тьмы', 5633: 'тюбике', 5634: 'тюрьма', 5635: 'тюрьму', 5636: 'тюрьмы', 5637: 'тяжела', 5638: 'тяжело', 5639: 'тяжелой', 5640: 'тяжелых', 5641: 'тяжести', 5642: 'тянет', 5643: 'у', 5644: 'убедитесь', 5645: 'убедится', 5646: 'убедиться', 5647: 'убеждать', 5648: 'убеждают', 5649: 'убежден', 5650: 'убеждение', 5651: 'убеждений', 5652: 'убеждения', 5653: 'убеждениями', 5654: 'убеждены', 5655: 'убивает', 5656: 'убивающий', 5657: 'убийцу', 5658: 'убито', 5659: 'убитый', 5660: 'убить', 5661: 'ублюдка', 5662: 'убьете', 5663: 'уважать', 5664: 'уважением', 5665: 'уважения', 5666: 'увеличение', 5667: 'уверен', 5668: 'уверенными', 5669: 'уверены', 5670: 'увечий', 5671: 'увидел', 5672: 'увидеть', 5673: 'увидим', 5674: 'увидит', 5675: 'увидишь', 5676: 'увлекательной', 5677: 'углом', 5678: 'углубления', 5679: 'углубляется', 5680: 'углубляя', 5681: 'угнетает', 5682: 'угнетала', 5683: 'угнетение', 5684: 'угодно', 5685: 'уголках', 5686: 'уголке', 5687: 'угрозу', 5688: 'угрозы', 5689: 'удается', 5690: 'удалена', 5691: 'удаленности', 5692: 'удалось', 5693: 'ударила', 5694: 'уделяя', 5695: 'удержавшись', 5696: 'удержаться', 5697: 'удивительна', 5698: 'удивительно', 5699: 'удивление', 5700: 'удобно', 5701: 'удобства', 5702: 'удовлетворен', 5703: 'удовлетворение', 5704: 'удовлетворенности', 5705: 'удовлетвориться', 5706: 'удовольствие', 5707: 'удовольствием', 5708: 'удовольствий', 5709: 'удовольствию', 5710: 'уединении', 5711: 'уехал', 5712: 'уехать', 5713: 'уж', 5714: 'ужасах', 5715: 'ужасе', 5716: 'ужасное', 5717: 'ужасной', 5718: 'ужасны', 5719: 'ужасным', 5720: 'ужасными', 5721: 'уже', 5722: 'узкая', 5723: 'узнаем', 5724: 'узнает', 5725: 'узнаете', 5726: 'узнаешь', 5727: 'узнал', 5728: 'узнать', 5729: 'узор', 5730: 'уильяма', 5731: 'уйдешь', 5732: 'уйти', 5733: 'указывает', 5734: 'указывать', 5735: 'укладывать', 5736: 'укоренился', 5737: 'украсим', 5738: 'украсть', 5739: 'укромных', 5740: 'укрыться', 5741: 'уланг', 5742: 'улетучиваются', 5743: 'улицу', 5744: 'уловить', 5745: 'уловка', 5746: 'улучшат', 5747: 'улучшение', 5748: 'улучшится', 5749: 'улыбайтесь', 5750: 'улыбающемуся', 5751: 'улыбка', 5752: 'улыбках', 5753: 'улыбки', 5754: 'улыбку', 5755: 'улыбнулась', 5756: 'ум', 5757: 'ума', 5758: 'уме', 5759: 'умеет', 5760: 'умении', 5761: 'уменьшается', 5762: 'уменьшали', 5763: 'уменьшение', 5764: 'умер', 5765: 'умереть', 5766: 'умею', 5767: 'умираем', 5768: 'умирает', 5769: 'умирать', 5770: 'умираю', 5771: 'умирают', 5772: 'умирающего', 5773: 'умирающих', 5774: 'умна', 5775: 'умница', 5776: 'умны', 5777: 'умный', 5778: 'умным', 5779: 'умных', 5780: 'умрет', 5781: 'умрете', 5782: 'умри', 5783: 'умрите', 5784: 'умру', 5785: 'умственными', 5786: 'уму', 5787: 'универсальным', 5788: 'универсальными', 5789: 'университет', 5790: 'университета', 5791: 'университете', 5792: 'унизят', 5793: 'уникальным', 5794: 'уничижительных', 5795: 'уничтожает', 5796: 'уничтожат', 5797: 'уничтожу', 5798: 'унтук', 5799: 'упадок', 5800: 'упадут', 5801: 'упало', 5802: 'упасть', 5803: 'уплыть', 5804: 'упоминании', 5805: 'упорно', 5806: 'упорствовать', 5807: 'управляет', 5808: 'управлять', 5809: 'упустишь', 5810: 'ура', 5811: 'уравновешенно', 5812: 'ураганом', 5813: 'урден', 5814: 'урезана', 5815: 'уровне', 5816: 'уровнем', 5817: 'уродливое', 5818: 'уродливыми', 5819: 'уродством', 5820: 'урок', 5821: 'уроки', 5822: 'усвоенное', 5823: 'усвоил', 5824: 'усвоить', 5825: 'усерднее', 5826: 'усердно', 5827: 'усердный', 5828: 'усилий', 5829: 'усилили', 5830: 'усилия', 5831: 'усилят', 5832: 'условие', 5833: 'условии', 5834: 'условиях', 5835: 'условно-досрочное', 5836: 'услышит', 5837: 'усовершенствованная', 5838: 'успеваемости', 5839: 'успех', 5840: 'успеха', 5841: 'успехе', 5842: 'успехи', 5843: 'успехом', 5844: 'успеху', 5845: 'успешные', 5846: 'успешным', 5847: 'успешных', 5848: 'успокоению', 5849: 'успокоится', 5850: 'устаем', 5851: 'устает', 5852: 'устал', 5853: 'устали', 5854: 'устанавливаем', 5855: 'установить', 5856: 'установлена', 5857: 'устаревшей', 5858: 'устойчивая', 5859: 'устойчивости', 5860: 'устраивайте', 5861: 'устремлению', 5862: 'устроен', 5863: 'утакпара', 5864: 'утверждаю', 5865: 'утверждение', 5866: 'утверждениями', 5867: 'утекает', 5868: 'утесах', 5869: 'утешение', 5870: 'утешения', 5871: 'утомлять', 5872: 'утонете', 5873: 'утра', 5874: 'утрате', 5875: 'утрачена', 5876: 'утро', 5877: 'утром', 5878: 'ухо', 5879: 'уход', 5880: 'уходил', 5881: 'уходило', 5882: 'уходит', 5883: 'уходят', 5884: 'участвовать', 5885: 'участвуем', 5886: 'учат', 5887: 'учебная', 5888: 'учебное', 5889: 'ученик', 5890: 'учеников', 5891: 'ученые', 5892: 'учили', 5893: 'учился', 5894: 'учимся', 5895: 'учит', 5896: 'учителей', 5897: 'учителем', 5898: 'учитель', 5899: 'учителя', 5900: 'учителям', 5901: 'учителями', 5902: 'учитесь', 5903: 'учится', 5904: 'учиться', 5905: 'ушел', 5906: 'уши', 5907: 'ушли', 5908: 'уэбба', 5909: 'уютно', 5910: 'уязвимости', 5911: 'факт', 5912: 'фактов', 5913: 'фактом', 5914: 'факты', 5915: 'фалвеллу', 5916: 'фальшивка', 5917: 'фальшивого', 5918: 'фамилия', 5919: 'фанат', 5920: 'фанатизму', 5921: 'фантастические', 5922: 'фарса', 5923: 'фатальным', 5924: 'февраля', 5925: 'федерация', 5926: 'феи', 5927: 'фениксы', 5928: 'фестивалей', 5929: 'фигура', 5930: 'физическая', 5931: 'физической', 5932: 'фикция', 5933: 'филистер', 5934: 'философ', 5935: 'философа', 5936: 'философии', 5937: 'философию', 5938: 'философия', 5939: 'философский', 5940: 'фильм', 5941: 'финансовым', 5942: 'финишную', 5943: 'флешмоб', 5944: 'флирт', 5945: 'форма', 5946: 'формальная', 5947: 'формат', 5948: 'форме', 5949: 'формирует', 5950: 'формируешь', 5951: 'формируют', 5952: 'формой', 5953: 'форму', 5954: 'формулы', 5955: 'формы', 5956: 'фосфоресценция', 5957: 'фосфоресцирование', 5958: 'фотограф', 5959: 'фотографа', 5960: 'фразировка', 5961: 'фразу', 5962: 'француз', 5963: 'фрески', 5964: 'фрэй', 5965: 'фундаментом', 5966: 'функции', 5967: 'хабанг-бухай', 5968: 'хабра', 5969: 'хайку', 5970: 'ханганг', 5971: 'хаоса', 5972: 'хаосом', 5973: 'характер', 5974: 'характера', 5975: 'характеризуются', 5976: 'харапан', 5977: 'харфан', 5978: 'хватает', 5979: 'хватит', 5980: 'херта', 5981: 'хидуп', 5982: 'хидупла', 5983: 'хип-хоп', 5984: 'хип-хопа', 5985: 'хитра', 5986: 'хитрость', 5987: 'хлопающий', 5988: 'хобби', 5989: 'ходит', 5990: 'ходите', 5991: 'хождения', 5992: 'хозяином', 5993: 'холод', 5994: 'холст', 5995: 'холсте', 5996: 'хората', 5997: 'хорош', 5998: 'хороша', 5999: 'хорошая', 6000: 'хорошего', 6001: 'хорошее', 6002: 'хорошей', 6003: 'хорошенько', 6004: 'хорошие', 6005: 'хороший', 6006: 'хорошим', 6007: 'хорошими', 6008: 'хорошо', 6009: 'хотел', 6010: 'хотела', 6011: 'хотели', 6012: 'хотим', 6013: 'хотите', 6014: 'хотя', 6015: 'хотят', 6016: 'хочет', 6017: 'хочется', 6018: 'хочешь', 6019: 'хочу', 6020: 'христа', 6021: 'христиане-фундаменталисты', 6022: 'христианина', 6023: 'христианский', 6024: 'христианской', 6025: 'христианство', 6026: 'христос', 6027: 'хрустящие', 6028: 'хуваг', 6029: 'художественная', 6030: 'художник', 6031: 'художника', 6032: 'художники', 6033: 'худший', 6034: 'худших', 6035: 'хуже', 6036: 'хэйсиды', 6037: 'царство', 6038: 'цвет', 6039: 'цвета', 6040: 'цветами', 6041: 'цветком', 6042: 'цветов', 6043: 'цветок', 6044: 'цветом', 6045: 'цветы', 6046: 'целая', 6047: 'целеустремленный', 6048: 'цели', 6049: 'целовать', 6050: 'целой', 6051: 'целом', 6052: 'целует', 6053: 'целых', 6054: 'цель', 6055: 'целью', 6056: 'цена', 6057: 'ценит', 6058: 'цените', 6059: 'ценится', 6060: 'ценить', 6061: 'цениться', 6062: 'ценности', 6063: 'ценность', 6064: 'ценностью', 6065: 'ценой', 6066: 'центр', 6067: 'центральное', 6068: 'цену', 6069: 'ценю', 6070: 'цепляют', 6071: 'церкви', 6072: 'церковь', 6073: 'цивилизация', 6074: 'цивилизованно', 6075: 'цинизм', 6076: 'циник', 6077: 'цирком', 6078: 'цитаты', 6079: 'цитировал', 6080: 'цитируем', 6081: 'цифрового', 6082: 'часа', 6083: 'часов', 6084: 'части', 6085: 'частичка', 6086: 'часто', 6087: 'частота', 6088: 'часть', 6089: 'частью', 6090: 'частями', 6091: 'частях', 6092: 'чаще', 6093: 'чего', 6094: 'чего-либо', 6095: 'чего-то', 6096: 'человек', 6097: 'человека', 6098: 'человеке', 6099: 'человеком', 6100: 'человеку', 6101: 'человеческая', 6102: 'человеческие', 6103: 'человеческий', 6104: 'человеческих', 6105: 'человеческого', 6106: 'человеческой', 6107: 'человеческую', 6108: 'человечества', 6109: 'человечество', 6110: 'человечеством', 6111: 'челюсти', 6112: 'чем', 6113: 'чем-либо', 6114: 'чем-то', 6115: 'чемпион', 6116: 'чему', 6117: 'чему-то', 6118: 'чередоваться', 6119: 'через', 6120: 'черепаху', 6121: 'черная', 6122: 'черно', 6123: 'черно-белая', 6124: 'черный', 6125: 'черных', 6126: 'черт', 6127: 'чертово', 6128: 'чертовски', 6129: 'чертову', 6130: 'черту', 6131: 'честен', 6132: 'честно', 6133: 'честного', 6134: 'честное', 6135: 'честности', 6136: 'честность', 6137: 'честь', 6138: 'четвергам', 6139: 'четвертый', 6140: 'четко', 6141: 'чиркни', 6142: 'числом', 6143: 'чистая', 6144: 'чисто', 6145: 'чистой', 6146: 'чистоты', 6147: 'читает', 6148: 'читаете', 6149: 'читаешь', 6150: 'читала', 6151: 'читали', 6152: 'читатель', 6153: 'читателя', 6154: 'читателями', 6155: 'читать', 6156: 'читаю', 6157: 'читают', 6158: 'членом', 6159: 'чрезмерной', 6160: 'чтение', 6161: 'чтению', 6162: 'что', 6163: 'что-либо', 6164: 'что-нибудь', 6165: 'что-то', 6166: 'чтобы', 6167: 'чувств', 6168: 'чувства', 6169: 'чувство', 6170: 'чувствовал', 6171: 'чувствовала', 6172: 'чувствовать', 6173: 'чувством', 6174: 'чувствуем', 6175: 'чувствуете', 6176: 'чувствуется', 6177: 'чувствую', 6178: 'чувствуют', 6179: 'чуда', 6180: 'чудес', 6181: 'чудесная', 6182: 'чудо', 6183: 'чужие', 6184: 'чужих', 6185: 'чуточку', 6186: 'чушь', 6187: 'чье', 6188: 'чьи', 6189: 'чьи-то', 6190: 'чью-либо', 6191: 'чья', 6192: 'шагам', 6193: 'шаги', 6194: 'шагнуть', 6195: 'шагу', 6196: 'шанель', 6197: 'шанс', 6198: 'шанса', 6199: 'шансом', 6200: 'шансы', 6201: 'шаре', 6202: 'шаткой', 6203: 'швырнуть', 6204: 'шей', 6205: 'шепчет', 6206: 'шерсть', 6207: 'шестая', 6208: 'шестнадцати', 6209: 'шесть', 6210: 'шею', 6211: 'шиповником', 6212: 'широкий', 6213: 'шкафа', 6214: 'школу', 6215: 'школы', 6216: 'шлемом', 6217: 'шли', 6218: 'шлюхам', 6219: 'шляп', 6220: 'шляпу', 6221: 'шприцем', 6222: 'шрамов', 6223: 'штука', 6224: 'шуму', 6225: 'шути', 6226: 'шутка', 6227: 'шутки', 6228: 'шуткой', 6229: 'шутку', 6230: 'шуточки', 6231: 'щедрость', 6232: 'щедрот', 6233: 'щеки', 6234: 'щеку', 6235: 'щелях', 6236: 'щит', 6237: 'эволюция', 6238: 'эго', 6239: 'эгоистичного', 6240: 'эйвери', 6241: 'эклектичными', 6242: 'экономии', 6243: 'экономике', 6244: 'экономики', 6245: 'экспансивный', 6246: 'экспедиции', 6247: 'эксперт', 6248: 'эксплуатации', 6249: 'экстравертным', 6250: 'экстраординарные', 6251: 'эксцентричным', 6252: 'экшенах', 6253: 'электростатической', 6254: 'элементарная', 6255: 'эликсир', 6256: 'эль', 6257: 'эмори', 6258: 'эмоции', 6259: 'эмоций', 6260: 'эмоциям', 6261: 'эмпати', 6262: 'эндовере', 6263: 'энергии', 6264: 'энергия', 6265: 'энтропией', 6266: 'энтузиазм', 6267: 'энтузиазма', 6268: 'эпитафией', 6269: 'эпоху', 6270: 'эру', 6271: 'эстане', 6272: 'эта', 6273: 'этап', 6274: 'эти', 6275: 'этим', 6276: 'этими', 6277: 'этих', 6278: 'это', 6279: 'этого', 6280: 'этой', 6281: 'этом', 6282: 'этому', 6283: 'этот', 6284: 'эту', 6285: 'эффект', 6286: 'эффективно', 6287: 'эффективный', 6288: 'эффективным', 6289: 'юмор', 6290: 'юмора', 6291: 'юморе', 6292: 'юмором', 6293: 'юмору', 6294: 'юности', 6295: 'юридических', 6296: 'я', 6297: 'яблоки', 6298: 'яблоко', 6299: 'яблочный', 6300: 'явления', 6301: 'являемся', 6302: 'является', 6303: 'являются', 6304: 'ягненок', 6305: 'яда', 6306: 'языка', 6307: 'яйцам', 6308: 'яйцеклетка', 6309: 'ян', 6310: 'ярко', 6311: 'яркого', 6312: 'яркость', 6313: 'ярлык', 6314: 'ярость', 6315: 'ясно', 6316: 'ясное', 6317: 'ясными', 6318: 'ячейки', 0: '<PAD>', 1: '<BOS>', 2: '<EOS>'}\n"
     ]
    }
   ],
   "source": [
    "vocab = Vocab(corpus)\n",
    "print(vocab.idx_to_token)"
   ]
  },
  {
   "cell_type": "code",
   "execution_count": 98,
   "metadata": {},
   "outputs": [
    {
     "data": {
      "text/html": [
       "<div>\n",
       "<style scoped>\n",
       "    .dataframe tbody tr th:only-of-type {\n",
       "        vertical-align: middle;\n",
       "    }\n",
       "\n",
       "    .dataframe tbody tr th {\n",
       "        vertical-align: top;\n",
       "    }\n",
       "\n",
       "    .dataframe thead th {\n",
       "        text-align: right;\n",
       "    }\n",
       "</style>\n",
       "<table border=\"1\" class=\"dataframe\">\n",
       "  <thead>\n",
       "    <tr style=\"text-align: right;\">\n",
       "      <th></th>\n",
       "      <th>Clear</th>\n",
       "    </tr>\n",
       "  </thead>\n",
       "  <tbody>\n",
       "    <tr>\n",
       "      <th>0</th>\n",
       "      <td>&lt;BOS&gt; ничто так не способствует успокоению ума...</td>\n",
       "    </tr>\n",
       "    <tr>\n",
       "      <th>1</th>\n",
       "      <td>&lt;BOS&gt; никогда не тратьте впустую время на что-...</td>\n",
       "    </tr>\n",
       "    <tr>\n",
       "      <th>2</th>\n",
       "      <td>&lt;BOS&gt; иногда потеря домашнего животного более ...</td>\n",
       "    </tr>\n",
       "    <tr>\n",
       "      <th>3</th>\n",
       "      <td>&lt;BOS&gt; то что лежит позади вас и что лежит пере...</td>\n",
       "    </tr>\n",
       "    <tr>\n",
       "      <th>4</th>\n",
       "      <td>&lt;BOS&gt; прелесть сотрудничества между старшим и ...</td>\n",
       "    </tr>\n",
       "    <tr>\n",
       "      <th>...</th>\n",
       "      <td>...</td>\n",
       "    </tr>\n",
       "    <tr>\n",
       "      <th>1423</th>\n",
       "      <td>&lt;BOS&gt; многие шаги предпринятые с сомнением быс...</td>\n",
       "    </tr>\n",
       "    <tr>\n",
       "      <th>1424</th>\n",
       "      <td>&lt;BOS&gt; дружба не нужна как философия как искусс...</td>\n",
       "    </tr>\n",
       "    <tr>\n",
       "      <th>1425</th>\n",
       "      <td>&lt;BOS&gt; искусство никогда не следует рассматрива...</td>\n",
       "    </tr>\n",
       "    <tr>\n",
       "      <th>1426</th>\n",
       "      <td>&lt;BOS&gt; милая принесите копию моего завещания и ...</td>\n",
       "    </tr>\n",
       "    <tr>\n",
       "      <th>1427</th>\n",
       "      <td>&lt;BOS&gt; если кто-то хочет бездельничать пусть вл...</td>\n",
       "    </tr>\n",
       "  </tbody>\n",
       "</table>\n",
       "<p>1428 rows × 1 columns</p>\n",
       "</div>"
      ],
      "text/plain": [
       "                                                  Clear\n",
       "0     <BOS> ничто так не способствует успокоению ума...\n",
       "1     <BOS> никогда не тратьте впустую время на что-...\n",
       "2     <BOS> иногда потеря домашнего животного более ...\n",
       "3     <BOS> то что лежит позади вас и что лежит пере...\n",
       "4     <BOS> прелесть сотрудничества между старшим и ...\n",
       "...                                                 ...\n",
       "1423  <BOS> многие шаги предпринятые с сомнением быс...\n",
       "1424  <BOS> дружба не нужна как философия как искусс...\n",
       "1425  <BOS> искусство никогда не следует рассматрива...\n",
       "1426  <BOS> милая принесите копию моего завещания и ...\n",
       "1427  <BOS> если кто-то хочет бездельничать пусть вл...\n",
       "\n",
       "[1428 rows x 1 columns]"
      ]
     },
     "execution_count": 98,
     "metadata": {},
     "output_type": "execute_result"
    }
   ],
   "source": [
    "corpus['Clear'] = corpus['Clear'].apply(lambda x: '<BOS> ' + x +' <EOS>')\n",
    "corpus"
   ]
  },
  {
   "cell_type": "code",
   "execution_count": 99,
   "metadata": {},
   "outputs": [],
   "source": [
    "train = corpus.iloc[:int(0.8*len(corpus))]\n",
    "test = corpus.iloc[int(0.8*len(corpus)):] "
   ]
  },
  {
   "cell_type": "code",
   "execution_count": 100,
   "metadata": {},
   "outputs": [],
   "source": [
    "def generating_sequences_and_targets(data):\n",
    "    features_list = []\n",
    "    targets_list = []\n",
    "    \n",
    "    data = data['Clear'].str.split().values\n",
    "    for sentence in data:\n",
    "        for i in range(len(sentence)-1):\n",
    "            features = sentence[:i+1]\n",
    "            target = sentence[i+1]\n",
    "            features_list.append(features)\n",
    "            targets_list.append(target)\n",
    "    \n",
    "    time = pd.DataFrame({'Features': features_list, 'Targets': targets_list})\n",
    "    return time"
   ]
  },
  {
   "cell_type": "code",
   "execution_count": 101,
   "metadata": {},
   "outputs": [],
   "source": [
    "train_data = generating_sequences_and_targets(train)\n",
    "test_data = generating_sequences_and_targets(test)"
   ]
  },
  {
   "cell_type": "code",
   "execution_count": 142,
   "metadata": {},
   "outputs": [],
   "source": [
    "class QuotesDataset(Dataset):\n",
    "    def __init__(self, data, vocab : Vocab):\n",
    "        self.X = pd.DataFrame(data['Features'])\n",
    "        self.y = data['Targets']\n",
    "        self.vocab = vocab\n",
    "\n",
    "    def __len__(self):\n",
    "        return len(self.X)\n",
    "    \n",
    "    def vectorize(self, quote_list):\n",
    "        word_list = quote_list.values[0]\n",
    "        vector = [self.vocab.token_to_idx.get(word, 0) for word in word_list]\n",
    "        vector = (self.vocab.max_seq_len -len(vector)) * [0] + vector\n",
    "        return torch.tensor(vector)\n",
    "    \n",
    "    def __getitem__(self, idx):\n",
    "        return self.vectorize(self.X.iloc[idx]), torch.tensor(self.vocab.token_to_idx.get(self.y[idx], 0))"
   ]
  },
  {
   "cell_type": "code",
   "execution_count": 143,
   "metadata": {},
   "outputs": [],
   "source": [
    "train_dataset = QuotesDataset(train_data, vocab)\n",
    "test_dataset = QuotesDataset(test_data, vocab)\n",
    "\n",
    "train_dataloader = DataLoader(train_dataset, batch_size=16)\n",
    "test_dataloader = DataLoader(train_dataset, batch_size=16)"
   ]
  },
  {
   "cell_type": "code",
   "execution_count": 144,
   "metadata": {},
   "outputs": [
    {
     "name": "stdout",
     "output_type": "stream",
     "text": [
      "tensor([0, 0, 0, 0, 0, 0, 0, 0, 0, 0, 0, 0, 0, 0, 0, 0, 0, 0, 0, 0, 0, 0, 0, 1]) tensor(2910)\n"
     ]
    }
   ],
   "source": [
    "iteration = iter(train_dataloader)\n",
    "xt, yt = next(iteration)\n",
    "print(xt[0], yt[0])"
   ]
  }
 ],
 "metadata": {
  "kernelspec": {
   "display_name": "Python 3",
   "language": "python",
   "name": "python3"
  },
  "language_info": {
   "codemirror_mode": {
    "name": "ipython",
    "version": 3
   },
   "file_extension": ".py",
   "mimetype": "text/x-python",
   "name": "python",
   "nbconvert_exporter": "python",
   "pygments_lexer": "ipython3",
   "version": "3.12.1"
  }
 },
 "nbformat": 4,
 "nbformat_minor": 2
}

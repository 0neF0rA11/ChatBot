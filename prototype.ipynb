{
 "cells": [
  {
   "cell_type": "markdown",
   "metadata": {},
   "source": [
    "# Исследования в области генерации текста с помощью методов NLP"
   ]
  },
  {
   "cell_type": "markdown",
   "metadata": {},
   "source": [
    "Я обладаю небольшими вычислительными мощностями, поэтому свою модель буду строить на основе LSTM, GRU и предобученных трансформерах (BERT-like)"
   ]
  },
  {
   "cell_type": "markdown",
   "metadata": {},
   "source": [
    "Сбор данных: на 3-м курсе нам подсунули немного философии в расписание, поэтому попробую создать модель, которая будет генерировать философские цитаты. Из найденных датасетов: на русском языке ничего найдено не было, однако был найден датасет на kaggle: https://www.kaggle.com/datasets/akmittal/quotes-dataset/code. Он на английском, поэтому переводом пришлось заниматься вручную. Какие особенности были выявлены: в данных присутствуют цитаты на арабском. А также есть отсутствие пробелов между предложениями и в некоторых случаях словами. Для последующего анализа и обучения мною было отобрано 2210 строк (ruFile.txt)."
   ]
  },
  {
   "cell_type": "code",
   "execution_count": 105,
   "metadata": {},
   "outputs": [],
   "source": [
    "import pandas as pd\n",
    "import re\n",
    "import matplotlib.pyplot as plt\n",
    "from myLibrary.preprocessing import DataProcessor\n",
    "from myLibrary.vocab import Vocab\n",
    "\n",
    "import torch\n",
    "from  torch.utils.data import Dataset, DataLoader"
   ]
  },
  {
   "cell_type": "code",
   "execution_count": 26,
   "metadata": {},
   "outputs": [
    {
     "data": {
      "text/plain": [
       "(2210, 1)"
      ]
     },
     "metadata": {},
     "output_type": "display_data"
    },
    {
     "name": "stdout",
     "output_type": "stream",
     "text": [
      "['\" Обычно,  когда люди говорят о теории \" просачивания\" ,  это имеет отношение к экономике.  Предполагается,  что чем богаче становятся люди на вершине общества,  тем больше богатства может просачиваться к людям внизу.  Конечно,  на самом деле так никогда не получается,  потому что если есть две вещи,  которые люди наверху терпеть не могут,  то это утечка и переполнение\" . \\n'\n",
      " 'Ничто так не способствует успокоению ума,  как устойчивая цель\\n'\n",
      " 'Никогда не тратьте впустую время на что-то важное,  когда за окном закат,  под которым вам следовало бы сидеть! \\n'\n",
      " '\" Что делает телевидение,  и есть причина,  по которой \" Щ. И. Т. \"  работает так хорошо,  как оно работает,  так это то,  что оно имеет дело с отношениями.  Оно имеет дело с очень мелкими,  межличностными способами,  которыми люди одновременно любят и ненавидят друг друга\" . \\n'\n",
      " '\" Иногда потеря домашнего животного более болезненна,  чем потеря человека,  потому что в случае с домашним животным вы не притворялись,  что любите его\" . \\n'\n",
      " '\" То,  что лежит позади вас и что лежит перед вами,  меркнет по сравнению с тем,  что находится внутри вас\" . \\n'\n",
      " '\" мы невольно проецируем на Бога наше собственное отношение и чувства по отношению к самим себе. . .  Но мы не можем предполагать,  что Он относится к нам так же,  как мы относимся к самим себе,  если только мы не любим себя сострадательно,  сильно и свободно\" . \\n'\n",
      " 'Я знаю,  что был большим другом Тайгера Вудса.  Но когда у вас отношения,  связанные с бизнесом и дружбой,  и деловая часть подходит к концу,  все всегда становится немного размытым. \\n'\n",
      " 'Прелесть сотрудничества между старшим и младшим поколениями в том,  что мы сочетаем силу с мудростью —  верный способ достичь большего во славу Божью. \\n'\n",
      " 'Я действительно изучал искусство парикмахера,  потому что хотел выяснить,  каким будет мой распорядок дня.  Вы начинаете спереди или сзади?  Сверху или снизу?  Поворачиваете кресло или ходите по кругу?  Что я обнаружил,  так это то,  что идеальной стрижки не существует! \\n']\n"
     ]
    }
   ],
   "source": [
    "with open('data/ruFile.txt', 'r', encoding='utf-8') as file:\n",
    "    data = file.readlines()\n",
    "    extract_data = []\n",
    "    for quote in data:\n",
    "        extract_data.append(re.sub(r'([^\\w\\s-])', r'\\1 ', quote))\n",
    "    df = pd.DataFrame(extract_data, columns=['Quote'])\n",
    "\n",
    "display(df.shape)\n",
    "print(df.iloc[:10, 0].values, sep='\\n')"
   ]
  },
  {
   "cell_type": "code",
   "execution_count": 27,
   "metadata": {},
   "outputs": [],
   "source": [
    "dp = DataProcessor(df)\n",
    "clear_data = dp.get_clear_data('Quote')"
   ]
  },
  {
   "cell_type": "code",
   "execution_count": 28,
   "metadata": {},
   "outputs": [
    {
     "name": "stdout",
     "output_type": "stream",
     "text": [
      "['обычно когда люди говорят о теории просачивания это имеет отношение к экономике предполагается что чем богаче становятся люди на вершине общества тем больше богатства может просачиваться к людям внизу конечно на самом деле так никогда не получается потому что если есть две вещи которые люди наверху терпеть не могут то это утечка и переполнение'\n",
      " 'ничто так не способствует успокоению ума как устойчивая цель'\n",
      " 'никогда не тратьте впустую время на что-то важное когда за окном закат под которым вам следовало бы сидеть']\n"
     ]
    }
   ],
   "source": [
    "print(clear_data.iloc[:3, 1].values, sep='\\n')"
   ]
  },
  {
   "cell_type": "code",
   "execution_count": 29,
   "metadata": {},
   "outputs": [],
   "source": [
    "dp.write_clear_data('_data.txt')"
   ]
  },
  {
   "cell_type": "code",
   "execution_count": 30,
   "metadata": {},
   "outputs": [
    {
     "data": {
      "text/html": [
       "<div>\n",
       "<style scoped>\n",
       "    .dataframe tbody tr th:only-of-type {\n",
       "        vertical-align: middle;\n",
       "    }\n",
       "\n",
       "    .dataframe tbody tr th {\n",
       "        vertical-align: top;\n",
       "    }\n",
       "\n",
       "    .dataframe thead th {\n",
       "        text-align: right;\n",
       "    }\n",
       "</style>\n",
       "<table border=\"1\" class=\"dataframe\">\n",
       "  <thead>\n",
       "    <tr style=\"text-align: right;\">\n",
       "      <th></th>\n",
       "      <th>Quote</th>\n",
       "      <th>Clear</th>\n",
       "    </tr>\n",
       "  </thead>\n",
       "  <tbody>\n",
       "    <tr>\n",
       "      <th>0</th>\n",
       "      <td>\" Обычно,  когда люди говорят о теории \" проса...</td>\n",
       "      <td>обычно когда люди говорят о теории просачивани...</td>\n",
       "    </tr>\n",
       "    <tr>\n",
       "      <th>1</th>\n",
       "      <td>Ничто так не способствует успокоению ума,  как...</td>\n",
       "      <td>ничто так не способствует успокоению ума как у...</td>\n",
       "    </tr>\n",
       "    <tr>\n",
       "      <th>2</th>\n",
       "      <td>Никогда не тратьте впустую время на что-то важ...</td>\n",
       "      <td>никогда не тратьте впустую время на что-то важ...</td>\n",
       "    </tr>\n",
       "    <tr>\n",
       "      <th>3</th>\n",
       "      <td>\" Что делает телевидение,  и есть причина,  по...</td>\n",
       "      <td>что делает телевидение и есть причина по котор...</td>\n",
       "    </tr>\n",
       "    <tr>\n",
       "      <th>4</th>\n",
       "      <td>\" Иногда потеря домашнего животного более боле...</td>\n",
       "      <td>иногда потеря домашнего животного более болезн...</td>\n",
       "    </tr>\n",
       "  </tbody>\n",
       "</table>\n",
       "</div>"
      ],
      "text/plain": [
       "                                               Quote  \\\n",
       "0  \" Обычно,  когда люди говорят о теории \" проса...   \n",
       "1  Ничто так не способствует успокоению ума,  как...   \n",
       "2  Никогда не тратьте впустую время на что-то важ...   \n",
       "3  \" Что делает телевидение,  и есть причина,  по...   \n",
       "4  \" Иногда потеря домашнего животного более боле...   \n",
       "\n",
       "                                               Clear  \n",
       "0  обычно когда люди говорят о теории просачивани...  \n",
       "1  ничто так не способствует успокоению ума как у...  \n",
       "2  никогда не тратьте впустую время на что-то важ...  \n",
       "3  что делает телевидение и есть причина по котор...  \n",
       "4  иногда потеря домашнего животного более болезн...  "
      ]
     },
     "execution_count": 30,
     "metadata": {},
     "output_type": "execute_result"
    }
   ],
   "source": [
    "data = pd.read_csv('data/clear_data.csv')\n",
    "data.head()"
   ]
  },
  {
   "cell_type": "code",
   "execution_count": 31,
   "metadata": {},
   "outputs": [
    {
     "data": {
      "text/html": [
       "<div>\n",
       "<style scoped>\n",
       "    .dataframe tbody tr th:only-of-type {\n",
       "        vertical-align: middle;\n",
       "    }\n",
       "\n",
       "    .dataframe tbody tr th {\n",
       "        vertical-align: top;\n",
       "    }\n",
       "\n",
       "    .dataframe thead th {\n",
       "        text-align: right;\n",
       "    }\n",
       "</style>\n",
       "<table border=\"1\" class=\"dataframe\">\n",
       "  <thead>\n",
       "    <tr style=\"text-align: right;\">\n",
       "      <th></th>\n",
       "      <th>Quote</th>\n",
       "      <th>Clear</th>\n",
       "      <th>CountWords</th>\n",
       "    </tr>\n",
       "  </thead>\n",
       "  <tbody>\n",
       "    <tr>\n",
       "      <th>0</th>\n",
       "      <td>\" Обычно,  когда люди говорят о теории \" проса...</td>\n",
       "      <td>обычно когда люди говорят о теории просачивани...</td>\n",
       "      <td>54</td>\n",
       "    </tr>\n",
       "    <tr>\n",
       "      <th>1</th>\n",
       "      <td>Ничто так не способствует успокоению ума,  как...</td>\n",
       "      <td>ничто так не способствует успокоению ума как у...</td>\n",
       "      <td>9</td>\n",
       "    </tr>\n",
       "    <tr>\n",
       "      <th>2</th>\n",
       "      <td>Никогда не тратьте впустую время на что-то важ...</td>\n",
       "      <td>никогда не тратьте впустую время на что-то важ...</td>\n",
       "      <td>18</td>\n",
       "    </tr>\n",
       "    <tr>\n",
       "      <th>3</th>\n",
       "      <td>\" Что делает телевидение,  и есть причина,  по...</td>\n",
       "      <td>что делает телевидение и есть причина по котор...</td>\n",
       "      <td>42</td>\n",
       "    </tr>\n",
       "    <tr>\n",
       "      <th>4</th>\n",
       "      <td>\" Иногда потеря домашнего животного более боле...</td>\n",
       "      <td>иногда потеря домашнего животного более болезн...</td>\n",
       "      <td>22</td>\n",
       "    </tr>\n",
       "  </tbody>\n",
       "</table>\n",
       "</div>"
      ],
      "text/plain": [
       "                                               Quote  \\\n",
       "0  \" Обычно,  когда люди говорят о теории \" проса...   \n",
       "1  Ничто так не способствует успокоению ума,  как...   \n",
       "2  Никогда не тратьте впустую время на что-то важ...   \n",
       "3  \" Что делает телевидение,  и есть причина,  по...   \n",
       "4  \" Иногда потеря домашнего животного более боле...   \n",
       "\n",
       "                                               Clear  CountWords  \n",
       "0  обычно когда люди говорят о теории просачивани...          54  \n",
       "1  ничто так не способствует успокоению ума как у...           9  \n",
       "2  никогда не тратьте впустую время на что-то важ...          18  \n",
       "3  что делает телевидение и есть причина по котор...          42  \n",
       "4  иногда потеря домашнего животного более болезн...          22  "
      ]
     },
     "execution_count": 31,
     "metadata": {},
     "output_type": "execute_result"
    }
   ],
   "source": [
    "data['CountWords'] = data['Clear'].str.split().apply(len)\n",
    "data.head()"
   ]
  },
  {
   "cell_type": "markdown",
   "metadata": {},
   "source": [
    "## Анализ данных"
   ]
  },
  {
   "cell_type": "code",
   "execution_count": 32,
   "metadata": {},
   "outputs": [
    {
     "name": "stdout",
     "output_type": "stream",
     "text": [
      "<class 'pandas.core.frame.DataFrame'>\n",
      "RangeIndex: 2210 entries, 0 to 2209\n",
      "Data columns (total 3 columns):\n",
      " #   Column      Non-Null Count  Dtype \n",
      "---  ------      --------------  ----- \n",
      " 0   Quote       2210 non-null   object\n",
      " 1   Clear       2210 non-null   object\n",
      " 2   CountWords  2210 non-null   int64 \n",
      "dtypes: int64(1), object(2)\n",
      "memory usage: 51.9+ KB\n"
     ]
    }
   ],
   "source": [
    "data.info()"
   ]
  },
  {
   "cell_type": "code",
   "execution_count": 33,
   "metadata": {},
   "outputs": [
    {
     "data": {
      "text/html": [
       "<div>\n",
       "<style scoped>\n",
       "    .dataframe tbody tr th:only-of-type {\n",
       "        vertical-align: middle;\n",
       "    }\n",
       "\n",
       "    .dataframe tbody tr th {\n",
       "        vertical-align: top;\n",
       "    }\n",
       "\n",
       "    .dataframe thead th {\n",
       "        text-align: right;\n",
       "    }\n",
       "</style>\n",
       "<table border=\"1\" class=\"dataframe\">\n",
       "  <thead>\n",
       "    <tr style=\"text-align: right;\">\n",
       "      <th></th>\n",
       "      <th>CountWords</th>\n",
       "    </tr>\n",
       "  </thead>\n",
       "  <tbody>\n",
       "    <tr>\n",
       "      <th>count</th>\n",
       "      <td>2210.000000</td>\n",
       "    </tr>\n",
       "    <tr>\n",
       "      <th>mean</th>\n",
       "      <td>22.794118</td>\n",
       "    </tr>\n",
       "    <tr>\n",
       "      <th>std</th>\n",
       "      <td>14.648242</td>\n",
       "    </tr>\n",
       "    <tr>\n",
       "      <th>min</th>\n",
       "      <td>2.000000</td>\n",
       "    </tr>\n",
       "    <tr>\n",
       "      <th>25%</th>\n",
       "      <td>12.000000</td>\n",
       "    </tr>\n",
       "    <tr>\n",
       "      <th>50%</th>\n",
       "      <td>18.000000</td>\n",
       "    </tr>\n",
       "    <tr>\n",
       "      <th>75%</th>\n",
       "      <td>30.000000</td>\n",
       "    </tr>\n",
       "    <tr>\n",
       "      <th>max</th>\n",
       "      <td>78.000000</td>\n",
       "    </tr>\n",
       "  </tbody>\n",
       "</table>\n",
       "</div>"
      ],
      "text/plain": [
       "        CountWords\n",
       "count  2210.000000\n",
       "mean     22.794118\n",
       "std      14.648242\n",
       "min       2.000000\n",
       "25%      12.000000\n",
       "50%      18.000000\n",
       "75%      30.000000\n",
       "max      78.000000"
      ]
     },
     "execution_count": 33,
     "metadata": {},
     "output_type": "execute_result"
    }
   ],
   "source": [
    "data.describe()"
   ]
  },
  {
   "cell_type": "code",
   "execution_count": 34,
   "metadata": {},
   "outputs": [
    {
     "data": {
      "text/html": [
       "<div>\n",
       "<style scoped>\n",
       "    .dataframe tbody tr th:only-of-type {\n",
       "        vertical-align: middle;\n",
       "    }\n",
       "\n",
       "    .dataframe tbody tr th {\n",
       "        vertical-align: top;\n",
       "    }\n",
       "\n",
       "    .dataframe thead th {\n",
       "        text-align: right;\n",
       "    }\n",
       "</style>\n",
       "<table border=\"1\" class=\"dataframe\">\n",
       "  <thead>\n",
       "    <tr style=\"text-align: right;\">\n",
       "      <th></th>\n",
       "      <th>Quote</th>\n",
       "      <th>Clear</th>\n",
       "    </tr>\n",
       "  </thead>\n",
       "  <tbody>\n",
       "    <tr>\n",
       "      <th>count</th>\n",
       "      <td>2210</td>\n",
       "      <td>2210</td>\n",
       "    </tr>\n",
       "    <tr>\n",
       "      <th>unique</th>\n",
       "      <td>2210</td>\n",
       "      <td>2210</td>\n",
       "    </tr>\n",
       "    <tr>\n",
       "      <th>top</th>\n",
       "      <td>\" Обычно,  когда люди говорят о теории \" проса...</td>\n",
       "      <td>обычно когда люди говорят о теории просачивани...</td>\n",
       "    </tr>\n",
       "    <tr>\n",
       "      <th>freq</th>\n",
       "      <td>1</td>\n",
       "      <td>1</td>\n",
       "    </tr>\n",
       "  </tbody>\n",
       "</table>\n",
       "</div>"
      ],
      "text/plain": [
       "                                                    Quote  \\\n",
       "count                                                2210   \n",
       "unique                                               2210   \n",
       "top     \" Обычно,  когда люди говорят о теории \" проса...   \n",
       "freq                                                    1   \n",
       "\n",
       "                                                    Clear  \n",
       "count                                                2210  \n",
       "unique                                               2210  \n",
       "top     обычно когда люди говорят о теории просачивани...  \n",
       "freq                                                    1  "
      ]
     },
     "execution_count": 34,
     "metadata": {},
     "output_type": "execute_result"
    }
   ],
   "source": [
    "data.describe(include=['O'])"
   ]
  },
  {
   "cell_type": "markdown",
   "metadata": {},
   "source": [
    "Выводы: Благодаря ручному переводу удалось избавиться от пустых строчек, цитат в одно слово, а также повторений(в исходном датасете они были). Единственный недостаток, который пока можно отметить - это большой объем длинных цитат.  "
   ]
  },
  {
   "cell_type": "markdown",
   "metadata": {},
   "source": [
    "### Анализ количества слов в цитатах"
   ]
  },
  {
   "cell_type": "code",
   "execution_count": 35,
   "metadata": {},
   "outputs": [
    {
     "data": {
      "text/html": [
       "<div>\n",
       "<style scoped>\n",
       "    .dataframe tbody tr th:only-of-type {\n",
       "        vertical-align: middle;\n",
       "    }\n",
       "\n",
       "    .dataframe tbody tr th {\n",
       "        vertical-align: top;\n",
       "    }\n",
       "\n",
       "    .dataframe thead th {\n",
       "        text-align: right;\n",
       "    }\n",
       "</style>\n",
       "<table border=\"1\" class=\"dataframe\">\n",
       "  <thead>\n",
       "    <tr style=\"text-align: right;\">\n",
       "      <th></th>\n",
       "      <th>CountWords</th>\n",
       "    </tr>\n",
       "  </thead>\n",
       "  <tbody>\n",
       "    <tr>\n",
       "      <th>count</th>\n",
       "      <td>2210.000000</td>\n",
       "    </tr>\n",
       "    <tr>\n",
       "      <th>mean</th>\n",
       "      <td>22.794118</td>\n",
       "    </tr>\n",
       "    <tr>\n",
       "      <th>std</th>\n",
       "      <td>14.648242</td>\n",
       "    </tr>\n",
       "    <tr>\n",
       "      <th>min</th>\n",
       "      <td>2.000000</td>\n",
       "    </tr>\n",
       "    <tr>\n",
       "      <th>25%</th>\n",
       "      <td>12.000000</td>\n",
       "    </tr>\n",
       "    <tr>\n",
       "      <th>50%</th>\n",
       "      <td>18.000000</td>\n",
       "    </tr>\n",
       "    <tr>\n",
       "      <th>75%</th>\n",
       "      <td>30.000000</td>\n",
       "    </tr>\n",
       "    <tr>\n",
       "      <th>max</th>\n",
       "      <td>78.000000</td>\n",
       "    </tr>\n",
       "  </tbody>\n",
       "</table>\n",
       "</div>"
      ],
      "text/plain": [
       "        CountWords\n",
       "count  2210.000000\n",
       "mean     22.794118\n",
       "std      14.648242\n",
       "min       2.000000\n",
       "25%      12.000000\n",
       "50%      18.000000\n",
       "75%      30.000000\n",
       "max      78.000000"
      ]
     },
     "execution_count": 35,
     "metadata": {},
     "output_type": "execute_result"
    }
   ],
   "source": [
    "data.describe()"
   ]
  },
  {
   "cell_type": "markdown",
   "metadata": {},
   "source": [
    "Посмотрим на цитаты с малым количеством слов:"
   ]
  },
  {
   "cell_type": "code",
   "execution_count": 36,
   "metadata": {},
   "outputs": [
    {
     "data": {
      "text/html": [
       "<div>\n",
       "<style scoped>\n",
       "    .dataframe tbody tr th:only-of-type {\n",
       "        vertical-align: middle;\n",
       "    }\n",
       "\n",
       "    .dataframe tbody tr th {\n",
       "        vertical-align: top;\n",
       "    }\n",
       "\n",
       "    .dataframe thead th {\n",
       "        text-align: right;\n",
       "    }\n",
       "</style>\n",
       "<table border=\"1\" class=\"dataframe\">\n",
       "  <thead>\n",
       "    <tr style=\"text-align: right;\">\n",
       "      <th></th>\n",
       "      <th>Clear</th>\n",
       "      <th>CountWords</th>\n",
       "    </tr>\n",
       "  </thead>\n",
       "  <tbody>\n",
       "    <tr>\n",
       "      <th>55</th>\n",
       "      <td>знайте историю великих предков</td>\n",
       "      <td>4</td>\n",
       "    </tr>\n",
       "    <tr>\n",
       "      <th>177</th>\n",
       "      <td>я страстный ученик</td>\n",
       "      <td>3</td>\n",
       "    </tr>\n",
       "    <tr>\n",
       "      <th>209</th>\n",
       "      <td>бессмертно только истина</td>\n",
       "      <td>3</td>\n",
       "    </tr>\n",
       "    <tr>\n",
       "      <th>215</th>\n",
       "      <td>удивление это семя знания</td>\n",
       "      <td>4</td>\n",
       "    </tr>\n",
       "    <tr>\n",
       "      <th>327</th>\n",
       "      <td>я чувствую себя бесконечной</td>\n",
       "      <td>4</td>\n",
       "    </tr>\n",
       "    <tr>\n",
       "      <th>349</th>\n",
       "      <td>никогда не говори никогда</td>\n",
       "      <td>4</td>\n",
       "    </tr>\n",
       "    <tr>\n",
       "      <th>353</th>\n",
       "      <td>это забавный старый мир</td>\n",
       "      <td>4</td>\n",
       "    </tr>\n",
       "    <tr>\n",
       "      <th>372</th>\n",
       "      <td>у бога нет религии</td>\n",
       "      <td>4</td>\n",
       "    </tr>\n",
       "    <tr>\n",
       "      <th>551</th>\n",
       "      <td>надежда это сон наяву</td>\n",
       "      <td>4</td>\n",
       "    </tr>\n",
       "    <tr>\n",
       "      <th>735</th>\n",
       "      <td>когда сомневаешься выбирай жить</td>\n",
       "      <td>4</td>\n",
       "    </tr>\n",
       "    <tr>\n",
       "      <th>799</th>\n",
       "      <td>заткнись и пиши</td>\n",
       "      <td>3</td>\n",
       "    </tr>\n",
       "    <tr>\n",
       "      <th>817</th>\n",
       "      <td>ненавидь грех люби грешника</td>\n",
       "      <td>4</td>\n",
       "    </tr>\n",
       "    <tr>\n",
       "      <th>838</th>\n",
       "      <td>счастье это свежий цветок</td>\n",
       "      <td>4</td>\n",
       "    </tr>\n",
       "    <tr>\n",
       "      <th>861</th>\n",
       "      <td>надеждой можно сломить человека</td>\n",
       "      <td>4</td>\n",
       "    </tr>\n",
       "    <tr>\n",
       "      <th>1010</th>\n",
       "      <td>радость это источник молодости</td>\n",
       "      <td>4</td>\n",
       "    </tr>\n",
       "    <tr>\n",
       "      <th>1014</th>\n",
       "      <td>ключевое слово воображаемые</td>\n",
       "      <td>3</td>\n",
       "    </tr>\n",
       "    <tr>\n",
       "      <th>1038</th>\n",
       "      <td>мой разум мое царство</td>\n",
       "      <td>4</td>\n",
       "    </tr>\n",
       "    <tr>\n",
       "      <th>1181</th>\n",
       "      <td>космос это дыхание искусства</td>\n",
       "      <td>4</td>\n",
       "    </tr>\n",
       "    <tr>\n",
       "      <th>1332</th>\n",
       "      <td>вдохновляюще видеть улыбку умирающего</td>\n",
       "      <td>4</td>\n",
       "    </tr>\n",
       "    <tr>\n",
       "      <th>1395</th>\n",
       "      <td>кретин жиртрест странность хитрость</td>\n",
       "      <td>4</td>\n",
       "    </tr>\n",
       "    <tr>\n",
       "      <th>1427</th>\n",
       "      <td>теперь ты моя жизнь</td>\n",
       "      <td>4</td>\n",
       "    </tr>\n",
       "    <tr>\n",
       "      <th>1581</th>\n",
       "      <td>мужчины не картошка</td>\n",
       "      <td>3</td>\n",
       "    </tr>\n",
       "    <tr>\n",
       "      <th>1648</th>\n",
       "      <td>только безнадежный любит бога</td>\n",
       "      <td>4</td>\n",
       "    </tr>\n",
       "    <tr>\n",
       "      <th>1682</th>\n",
       "      <td>кто будучи любимым беден</td>\n",
       "      <td>4</td>\n",
       "    </tr>\n",
       "    <tr>\n",
       "      <th>1831</th>\n",
       "      <td>надежда это сердцебиение души</td>\n",
       "      <td>4</td>\n",
       "    </tr>\n",
       "    <tr>\n",
       "      <th>1837</th>\n",
       "      <td>контролируйте свой разум</td>\n",
       "      <td>3</td>\n",
       "    </tr>\n",
       "    <tr>\n",
       "      <th>1908</th>\n",
       "      <td>фальшивка отстой</td>\n",
       "      <td>2</td>\n",
       "    </tr>\n",
       "    <tr>\n",
       "      <th>1944</th>\n",
       "      <td>ну это злая улыбка</td>\n",
       "      <td>4</td>\n",
       "    </tr>\n",
       "    <tr>\n",
       "      <th>2022</th>\n",
       "      <td>импрессионизм это газета души</td>\n",
       "      <td>4</td>\n",
       "    </tr>\n",
       "    <tr>\n",
       "      <th>2062</th>\n",
       "      <td>осуждение это негативная частота</td>\n",
       "      <td>4</td>\n",
       "    </tr>\n",
       "    <tr>\n",
       "      <th>2177</th>\n",
       "      <td>все дело в улыбках</td>\n",
       "      <td>4</td>\n",
       "    </tr>\n",
       "    <tr>\n",
       "      <th>2184</th>\n",
       "      <td>мы мудрее чем думаем</td>\n",
       "      <td>4</td>\n",
       "    </tr>\n",
       "  </tbody>\n",
       "</table>\n",
       "</div>"
      ],
      "text/plain": [
       "                                      Clear  CountWords\n",
       "55           знайте историю великих предков           4\n",
       "177                      я страстный ученик           3\n",
       "209                бессмертно только истина           3\n",
       "215               удивление это семя знания           4\n",
       "327             я чувствую себя бесконечной           4\n",
       "349               никогда не говори никогда           4\n",
       "353                 это забавный старый мир           4\n",
       "372                      у бога нет религии           4\n",
       "551                   надежда это сон наяву           4\n",
       "735         когда сомневаешься выбирай жить           4\n",
       "799                         заткнись и пиши           3\n",
       "817             ненавидь грех люби грешника           4\n",
       "838               счастье это свежий цветок           4\n",
       "861         надеждой можно сломить человека           4\n",
       "1010         радость это источник молодости           4\n",
       "1014            ключевое слово воображаемые           3\n",
       "1038                  мой разум мое царство           4\n",
       "1181           космос это дыхание искусства           4\n",
       "1332  вдохновляюще видеть улыбку умирающего           4\n",
       "1395    кретин жиртрест странность хитрость           4\n",
       "1427                    теперь ты моя жизнь           4\n",
       "1581                    мужчины не картошка           3\n",
       "1648          только безнадежный любит бога           4\n",
       "1682               кто будучи любимым беден           4\n",
       "1831          надежда это сердцебиение души           4\n",
       "1837               контролируйте свой разум           3\n",
       "1908                       фальшивка отстой           2\n",
       "1944                     ну это злая улыбка           4\n",
       "2022          импрессионизм это газета души           4\n",
       "2062       осуждение это негативная частота           4\n",
       "2177                     все дело в улыбках           4\n",
       "2184                   мы мудрее чем думаем           4"
      ]
     },
     "execution_count": 36,
     "metadata": {},
     "output_type": "execute_result"
    }
   ],
   "source": [
    "data[['Clear', 'CountWords']][data['CountWords'] <=4]"
   ]
  },
  {
   "cell_type": "markdown",
   "metadata": {},
   "source": [
    "Прочитав данные цитаты, понимаешь, что в них самый сок. Поэтому удалять их не будем"
   ]
  },
  {
   "cell_type": "markdown",
   "metadata": {},
   "source": [
    "Также из описания видно, что максимальное количество слов в цитате - 78. Проанализируем процент длинных цитат. Для этого разабьем длину на группы: 1-10, 11-20, 21-30 и т.д."
   ]
  },
  {
   "cell_type": "code",
   "execution_count": 37,
   "metadata": {},
   "outputs": [
    {
     "data": {
      "text/html": [
       "<div>\n",
       "<style scoped>\n",
       "    .dataframe tbody tr th:only-of-type {\n",
       "        vertical-align: middle;\n",
       "    }\n",
       "\n",
       "    .dataframe tbody tr th {\n",
       "        vertical-align: top;\n",
       "    }\n",
       "\n",
       "    .dataframe thead th {\n",
       "        text-align: right;\n",
       "    }\n",
       "</style>\n",
       "<table border=\"1\" class=\"dataframe\">\n",
       "  <thead>\n",
       "    <tr style=\"text-align: right;\">\n",
       "      <th></th>\n",
       "      <th>CountWords</th>\n",
       "    </tr>\n",
       "    <tr>\n",
       "      <th>Groups</th>\n",
       "      <th></th>\n",
       "    </tr>\n",
       "  </thead>\n",
       "  <tbody>\n",
       "    <tr>\n",
       "      <th>1 - 10</th>\n",
       "      <td>343</td>\n",
       "    </tr>\n",
       "    <tr>\n",
       "      <th>11 - 20</th>\n",
       "      <td>840</td>\n",
       "    </tr>\n",
       "    <tr>\n",
       "      <th>21 - 30</th>\n",
       "      <td>447</td>\n",
       "    </tr>\n",
       "    <tr>\n",
       "      <th>31 - 40</th>\n",
       "      <td>254</td>\n",
       "    </tr>\n",
       "    <tr>\n",
       "      <th>41 - 50</th>\n",
       "      <td>168</td>\n",
       "    </tr>\n",
       "    <tr>\n",
       "      <th>51 - 60</th>\n",
       "      <td>101</td>\n",
       "    </tr>\n",
       "    <tr>\n",
       "      <th>61 - 70</th>\n",
       "      <td>49</td>\n",
       "    </tr>\n",
       "    <tr>\n",
       "      <th>71 - 80</th>\n",
       "      <td>8</td>\n",
       "    </tr>\n",
       "  </tbody>\n",
       "</table>\n",
       "</div>"
      ],
      "text/plain": [
       "         CountWords\n",
       "Groups             \n",
       "1 - 10          343\n",
       "11 - 20         840\n",
       "21 - 30         447\n",
       "31 - 40         254\n",
       "41 - 50         168\n",
       "51 - 60         101\n",
       "61 - 70          49\n",
       "71 - 80           8"
      ]
     },
     "execution_count": 37,
     "metadata": {},
     "output_type": "execute_result"
    }
   ],
   "source": [
    "def get_interval(x):\n",
    "    left = x // 10 *10 + 1\n",
    "    return f'{left} - {left-1+10}'\n",
    "\n",
    "data['Groups'] = data['CountWords'].apply(get_interval)\n",
    "groups_df = data[['CountWords', 'Groups']].groupby(['Groups']).count()\n",
    "groups_df"
   ]
  },
  {
   "cell_type": "code",
   "execution_count": 38,
   "metadata": {},
   "outputs": [
    {
     "data": {
      "image/png": "[encoded data removed]",
      "text/plain": [
       "<Figure size 1400x600 with 2 Axes>"
      ]
     },
     "metadata": {},
     "output_type": "display_data"
    }
   ],
   "source": [
    "groups = groups_df.index.values\n",
    "values = groups_df.values.flatten()\n",
    "\n",
    "fig, (ax1, ax2) = plt.subplots(1, 2, figsize=(14, 6))\n",
    "ax1.bar(groups, values)\n",
    "ax2.pie(values, autopct='%1.1f%%')\n",
    "ax2.legend(groups, title='Groups')\n",
    "\n",
    "plt.show()"
   ]
  },
  {
   "cell_type": "markdown",
   "metadata": {},
   "source": [
    "Так как я не обладаю хорошими вычислительными мощностями, мной было принято решение удалить группы в диапазоне 25-80. Потери составляют чуть больше 27%"
   ]
  },
  {
   "cell_type": "code",
   "execution_count": 39,
   "metadata": {},
   "outputs": [
    {
     "data": {
      "text/html": [
       "<div>\n",
       "<style scoped>\n",
       "    .dataframe tbody tr th:only-of-type {\n",
       "        vertical-align: middle;\n",
       "    }\n",
       "\n",
       "    .dataframe tbody tr th {\n",
       "        vertical-align: top;\n",
       "    }\n",
       "\n",
       "    .dataframe thead th {\n",
       "        text-align: right;\n",
       "    }\n",
       "</style>\n",
       "<table border=\"1\" class=\"dataframe\">\n",
       "  <thead>\n",
       "    <tr style=\"text-align: right;\">\n",
       "      <th></th>\n",
       "      <th>Quote</th>\n",
       "      <th>Clear</th>\n",
       "      <th>CountWords</th>\n",
       "      <th>Groups</th>\n",
       "    </tr>\n",
       "  </thead>\n",
       "  <tbody>\n",
       "    <tr>\n",
       "      <th>1</th>\n",
       "      <td>Ничто так не способствует успокоению ума,  как...</td>\n",
       "      <td>ничто так не способствует успокоению ума как у...</td>\n",
       "      <td>9</td>\n",
       "      <td>1 - 10</td>\n",
       "    </tr>\n",
       "    <tr>\n",
       "      <th>2</th>\n",
       "      <td>Никогда не тратьте впустую время на что-то важ...</td>\n",
       "      <td>никогда не тратьте впустую время на что-то важ...</td>\n",
       "      <td>18</td>\n",
       "      <td>11 - 20</td>\n",
       "    </tr>\n",
       "    <tr>\n",
       "      <th>4</th>\n",
       "      <td>\" Иногда потеря домашнего животного более боле...</td>\n",
       "      <td>иногда потеря домашнего животного более болезн...</td>\n",
       "      <td>22</td>\n",
       "      <td>21 - 30</td>\n",
       "    </tr>\n",
       "    <tr>\n",
       "      <th>5</th>\n",
       "      <td>\" То,  что лежит позади вас и что лежит перед ...</td>\n",
       "      <td>то что лежит позади вас и что лежит перед вами...</td>\n",
       "      <td>19</td>\n",
       "      <td>11 - 20</td>\n",
       "    </tr>\n",
       "    <tr>\n",
       "      <th>8</th>\n",
       "      <td>Прелесть сотрудничества между старшим и младши...</td>\n",
       "      <td>прелесть сотрудничества между старшим и младши...</td>\n",
       "      <td>22</td>\n",
       "      <td>21 - 30</td>\n",
       "    </tr>\n",
       "  </tbody>\n",
       "</table>\n",
       "</div>"
      ],
      "text/plain": [
       "                                               Quote  \\\n",
       "1  Ничто так не способствует успокоению ума,  как...   \n",
       "2  Никогда не тратьте впустую время на что-то важ...   \n",
       "4  \" Иногда потеря домашнего животного более боле...   \n",
       "5  \" То,  что лежит позади вас и что лежит перед ...   \n",
       "8  Прелесть сотрудничества между старшим и младши...   \n",
       "\n",
       "                                               Clear  CountWords   Groups  \n",
       "1  ничто так не способствует успокоению ума как у...           9   1 - 10  \n",
       "2  никогда не тратьте впустую время на что-то важ...          18  11 - 20  \n",
       "4  иногда потеря домашнего животного более болезн...          22  21 - 30  \n",
       "5  то что лежит позади вас и что лежит перед вами...          19  11 - 20  \n",
       "8  прелесть сотрудничества между старшим и младши...          22  21 - 30  "
      ]
     },
     "execution_count": 39,
     "metadata": {},
     "output_type": "execute_result"
    }
   ],
   "source": [
    "data = data[data['CountWords'] <= 24]\n",
    "data.head()"
   ]
  },
  {
   "cell_type": "code",
   "execution_count": 40,
   "metadata": {},
   "outputs": [
    {
     "data": {
      "text/html": [
       "<div>\n",
       "<style scoped>\n",
       "    .dataframe tbody tr th:only-of-type {\n",
       "        vertical-align: middle;\n",
       "    }\n",
       "\n",
       "    .dataframe tbody tr th {\n",
       "        vertical-align: top;\n",
       "    }\n",
       "\n",
       "    .dataframe thead th {\n",
       "        text-align: right;\n",
       "    }\n",
       "</style>\n",
       "<table border=\"1\" class=\"dataframe\">\n",
       "  <thead>\n",
       "    <tr style=\"text-align: right;\">\n",
       "      <th></th>\n",
       "      <th>CountWords</th>\n",
       "    </tr>\n",
       "  </thead>\n",
       "  <tbody>\n",
       "    <tr>\n",
       "      <th>count</th>\n",
       "      <td>1428.000000</td>\n",
       "    </tr>\n",
       "    <tr>\n",
       "      <th>mean</th>\n",
       "      <td>13.810924</td>\n",
       "    </tr>\n",
       "    <tr>\n",
       "      <th>std</th>\n",
       "      <td>5.289049</td>\n",
       "    </tr>\n",
       "    <tr>\n",
       "      <th>min</th>\n",
       "      <td>2.000000</td>\n",
       "    </tr>\n",
       "    <tr>\n",
       "      <th>25%</th>\n",
       "      <td>10.000000</td>\n",
       "    </tr>\n",
       "    <tr>\n",
       "      <th>50%</th>\n",
       "      <td>13.000000</td>\n",
       "    </tr>\n",
       "    <tr>\n",
       "      <th>75%</th>\n",
       "      <td>18.000000</td>\n",
       "    </tr>\n",
       "    <tr>\n",
       "      <th>max</th>\n",
       "      <td>24.000000</td>\n",
       "    </tr>\n",
       "  </tbody>\n",
       "</table>\n",
       "</div>"
      ],
      "text/plain": [
       "        CountWords\n",
       "count  1428.000000\n",
       "mean     13.810924\n",
       "std       5.289049\n",
       "min       2.000000\n",
       "25%      10.000000\n",
       "50%      13.000000\n",
       "75%      18.000000\n",
       "max      24.000000"
      ]
     },
     "execution_count": 40,
     "metadata": {},
     "output_type": "execute_result"
    }
   ],
   "source": [
    "data.describe()"
   ]
  },
  {
   "cell_type": "code",
   "execution_count": 41,
   "metadata": {},
   "outputs": [
    {
     "data": {
      "image/png": "[encoded data removed]",
      "text/plain": [
       "<Figure size 640x480 with 1 Axes>"
      ]
     },
     "metadata": {},
     "output_type": "display_data"
    }
   ],
   "source": [
    "# Проанализируем распределение\n",
    "ax = data.plot.bar(x=None, y='CountWords')\n",
    "\n",
    "ax.set_xticklabels([])\n",
    "ax.set_yticklabels([])\n",
    "\n",
    "plt.show()"
   ]
  },
  {
   "cell_type": "markdown",
   "metadata": {},
   "source": [
    "Выводы по анализу количества слов: Удалось снизить среднее значение количества слов, без значительных потерь. 75% Данных лежат в диапазоне до 18 слов. При этом std и график распределения говорят о разнообразности набора.  "
   ]
  },
  {
   "cell_type": "code",
   "execution_count": 42,
   "metadata": {},
   "outputs": [],
   "source": [
    "data[['Quote', 'Clear']].to_csv(f'data/clear_data_up_to_24.csv', index=False)"
   ]
  },
  {
   "cell_type": "markdown",
   "metadata": {},
   "source": [
    "### Анализ самих слов в цитатах "
   ]
  },
  {
   "cell_type": "code",
   "execution_count": 4,
   "metadata": {},
   "outputs": [
    {
     "data": {
      "text/html": [
       "<div>\n",
       "<style scoped>\n",
       "    .dataframe tbody tr th:only-of-type {\n",
       "        vertical-align: middle;\n",
       "    }\n",
       "\n",
       "    .dataframe tbody tr th {\n",
       "        vertical-align: top;\n",
       "    }\n",
       "\n",
       "    .dataframe thead th {\n",
       "        text-align: right;\n",
       "    }\n",
       "</style>\n",
       "<table border=\"1\" class=\"dataframe\">\n",
       "  <thead>\n",
       "    <tr style=\"text-align: right;\">\n",
       "      <th></th>\n",
       "      <th>Quote</th>\n",
       "      <th>Clear</th>\n",
       "    </tr>\n",
       "  </thead>\n",
       "  <tbody>\n",
       "    <tr>\n",
       "      <th>0</th>\n",
       "      <td>Ничто так не способствует успокоению ума,  как...</td>\n",
       "      <td>ничто так не способствует успокоению ума как у...</td>\n",
       "    </tr>\n",
       "    <tr>\n",
       "      <th>1</th>\n",
       "      <td>Никогда не тратьте впустую время на что-то важ...</td>\n",
       "      <td>никогда не тратьте впустую время на что-то важ...</td>\n",
       "    </tr>\n",
       "    <tr>\n",
       "      <th>2</th>\n",
       "      <td>\" Иногда потеря домашнего животного более боле...</td>\n",
       "      <td>иногда потеря домашнего животного более болезн...</td>\n",
       "    </tr>\n",
       "    <tr>\n",
       "      <th>3</th>\n",
       "      <td>\" То,  что лежит позади вас и что лежит перед ...</td>\n",
       "      <td>то что лежит позади вас и что лежит перед вами...</td>\n",
       "    </tr>\n",
       "    <tr>\n",
       "      <th>4</th>\n",
       "      <td>Прелесть сотрудничества между старшим и младши...</td>\n",
       "      <td>прелесть сотрудничества между старшим и младши...</td>\n",
       "    </tr>\n",
       "  </tbody>\n",
       "</table>\n",
       "</div>"
      ],
      "text/plain": [
       "                                               Quote  \\\n",
       "0  Ничто так не способствует успокоению ума,  как...   \n",
       "1  Никогда не тратьте впустую время на что-то важ...   \n",
       "2  \" Иногда потеря домашнего животного более боле...   \n",
       "3  \" То,  что лежит позади вас и что лежит перед ...   \n",
       "4  Прелесть сотрудничества между старшим и младши...   \n",
       "\n",
       "                                               Clear  \n",
       "0  ничто так не способствует успокоению ума как у...  \n",
       "1  никогда не тратьте впустую время на что-то важ...  \n",
       "2  иногда потеря домашнего животного более болезн...  \n",
       "3  то что лежит позади вас и что лежит перед вами...  \n",
       "4  прелесть сотрудничества между старшим и младши...  "
      ]
     },
     "execution_count": 4,
     "metadata": {},
     "output_type": "execute_result"
    }
   ],
   "source": [
    "data = pd.read_csv('data/clear_data_up_to_24.csv')\n",
    "data.head()"
   ]
  },
  {
   "cell_type": "code",
   "execution_count": 5,
   "metadata": {},
   "outputs": [
    {
     "data": {
      "text/plain": [
       "6316"
      ]
     },
     "metadata": {},
     "output_type": "display_data"
    },
    {
     "data": {
      "text/html": [
       "<div>\n",
       "<style scoped>\n",
       "    .dataframe tbody tr th:only-of-type {\n",
       "        vertical-align: middle;\n",
       "    }\n",
       "\n",
       "    .dataframe tbody tr th {\n",
       "        vertical-align: top;\n",
       "    }\n",
       "\n",
       "    .dataframe thead th {\n",
       "        text-align: right;\n",
       "    }\n",
       "</style>\n",
       "<table border=\"1\" class=\"dataframe\">\n",
       "  <thead>\n",
       "    <tr style=\"text-align: right;\">\n",
       "      <th></th>\n",
       "      <th>Word</th>\n",
       "      <th>count</th>\n",
       "    </tr>\n",
       "  </thead>\n",
       "  <tbody>\n",
       "    <tr>\n",
       "      <th>0</th>\n",
       "      <td>и</td>\n",
       "      <td>502</td>\n",
       "    </tr>\n",
       "    <tr>\n",
       "      <th>1</th>\n",
       "      <td>не</td>\n",
       "      <td>493</td>\n",
       "    </tr>\n",
       "    <tr>\n",
       "      <th>2</th>\n",
       "      <td>в</td>\n",
       "      <td>441</td>\n",
       "    </tr>\n",
       "    <tr>\n",
       "      <th>3</th>\n",
       "      <td>что</td>\n",
       "      <td>405</td>\n",
       "    </tr>\n",
       "    <tr>\n",
       "      <th>4</th>\n",
       "      <td>это</td>\n",
       "      <td>397</td>\n",
       "    </tr>\n",
       "    <tr>\n",
       "      <th>5</th>\n",
       "      <td>я</td>\n",
       "      <td>351</td>\n",
       "    </tr>\n",
       "    <tr>\n",
       "      <th>6</th>\n",
       "      <td>на</td>\n",
       "      <td>179</td>\n",
       "    </tr>\n",
       "    <tr>\n",
       "      <th>7</th>\n",
       "      <td>как</td>\n",
       "      <td>175</td>\n",
       "    </tr>\n",
       "    <tr>\n",
       "      <th>8</th>\n",
       "      <td>ты</td>\n",
       "      <td>169</td>\n",
       "    </tr>\n",
       "    <tr>\n",
       "      <th>9</th>\n",
       "      <td>вы</td>\n",
       "      <td>162</td>\n",
       "    </tr>\n",
       "  </tbody>\n",
       "</table>\n",
       "</div>"
      ],
      "text/plain": [
       "  Word  count\n",
       "0    и    502\n",
       "1   не    493\n",
       "2    в    441\n",
       "3  что    405\n",
       "4  это    397\n",
       "5    я    351\n",
       "6   на    179\n",
       "7  как    175\n",
       "8   ты    169\n",
       "9   вы    162"
      ]
     },
     "execution_count": 5,
     "metadata": {},
     "output_type": "execute_result"
    }
   ],
   "source": [
    "word_counts = pd.Series(' '.join(data['Clear']).split()).value_counts()\n",
    "word_counts_df = word_counts.reset_index().rename(columns={'index': 'Word'})\n",
    "display(word_counts.shape[0])\n",
    "word_counts_df.head(10)"
   ]
  },
  {
   "cell_type": "code",
   "execution_count": 6,
   "metadata": {},
   "outputs": [
    {
     "data": {
      "text/html": [
       "<div>\n",
       "<style scoped>\n",
       "    .dataframe tbody tr th:only-of-type {\n",
       "        vertical-align: middle;\n",
       "    }\n",
       "\n",
       "    .dataframe tbody tr th {\n",
       "        vertical-align: top;\n",
       "    }\n",
       "\n",
       "    .dataframe thead th {\n",
       "        text-align: right;\n",
       "    }\n",
       "</style>\n",
       "<table border=\"1\" class=\"dataframe\">\n",
       "  <thead>\n",
       "    <tr style=\"text-align: right;\">\n",
       "      <th></th>\n",
       "      <th>Word</th>\n",
       "      <th>count</th>\n",
       "      <th>LenWord</th>\n",
       "    </tr>\n",
       "  </thead>\n",
       "  <tbody>\n",
       "    <tr>\n",
       "      <th>0</th>\n",
       "      <td>и</td>\n",
       "      <td>502</td>\n",
       "      <td>1</td>\n",
       "    </tr>\n",
       "    <tr>\n",
       "      <th>4093</th>\n",
       "      <td>н</td>\n",
       "      <td>1</td>\n",
       "      <td>1</td>\n",
       "    </tr>\n",
       "    <tr>\n",
       "      <th>2773</th>\n",
       "      <td>л</td>\n",
       "      <td>1</td>\n",
       "      <td>1</td>\n",
       "    </tr>\n",
       "    <tr>\n",
       "      <th>1092</th>\n",
       "      <td>1</td>\n",
       "      <td>2</td>\n",
       "      <td>1</td>\n",
       "    </tr>\n",
       "    <tr>\n",
       "      <th>1107</th>\n",
       "      <td>-</td>\n",
       "      <td>2</td>\n",
       "      <td>1</td>\n",
       "    </tr>\n",
       "    <tr>\n",
       "      <th>...</th>\n",
       "      <td>...</td>\n",
       "      <td>...</td>\n",
       "      <td>...</td>\n",
       "    </tr>\n",
       "    <tr>\n",
       "      <th>5727</th>\n",
       "      <td>антиинтеллектуализм</td>\n",
       "      <td>1</td>\n",
       "      <td>19</td>\n",
       "    </tr>\n",
       "    <tr>\n",
       "      <th>5263</th>\n",
       "      <td>конкурентоспособность</td>\n",
       "      <td>1</td>\n",
       "      <td>21</td>\n",
       "    </tr>\n",
       "    <tr>\n",
       "      <th>4274</th>\n",
       "      <td>причинно-следственной</td>\n",
       "      <td>1</td>\n",
       "      <td>21</td>\n",
       "    </tr>\n",
       "    <tr>\n",
       "      <th>3531</th>\n",
       "      <td>институционализированное</td>\n",
       "      <td>1</td>\n",
       "      <td>24</td>\n",
       "    </tr>\n",
       "    <tr>\n",
       "      <th>2300</th>\n",
       "      <td>христиане-фундаменталисты</td>\n",
       "      <td>1</td>\n",
       "      <td>25</td>\n",
       "    </tr>\n",
       "  </tbody>\n",
       "</table>\n",
       "<p>6316 rows × 3 columns</p>\n",
       "</div>"
      ],
      "text/plain": [
       "                           Word  count  LenWord\n",
       "0                             и    502        1\n",
       "4093                          н      1        1\n",
       "2773                          л      1        1\n",
       "1092                          1      2        1\n",
       "1107                          -      2        1\n",
       "...                         ...    ...      ...\n",
       "5727        антиинтеллектуализм      1       19\n",
       "5263      конкурентоспособность      1       21\n",
       "4274      причинно-следственной      1       21\n",
       "3531   институционализированное      1       24\n",
       "2300  христиане-фундаменталисты      1       25\n",
       "\n",
       "[6316 rows x 3 columns]"
      ]
     },
     "execution_count": 6,
     "metadata": {},
     "output_type": "execute_result"
    }
   ],
   "source": [
    "word_counts_df['LenWord'] = word_counts_df['Word'].str.len()\n",
    "word_counts_df.sort_values(['LenWord'])"
   ]
  },
  {
   "cell_type": "markdown",
   "metadata": {},
   "source": [
    "Проанализируем странные слова длиной 1"
   ]
  },
  {
   "cell_type": "code",
   "execution_count": 7,
   "metadata": {},
   "outputs": [
    {
     "data": {
      "text/html": [
       "<div>\n",
       "<style scoped>\n",
       "    .dataframe tbody tr th:only-of-type {\n",
       "        vertical-align: middle;\n",
       "    }\n",
       "\n",
       "    .dataframe tbody tr th {\n",
       "        vertical-align: top;\n",
       "    }\n",
       "\n",
       "    .dataframe thead th {\n",
       "        text-align: right;\n",
       "    }\n",
       "</style>\n",
       "<table border=\"1\" class=\"dataframe\">\n",
       "  <thead>\n",
       "    <tr style=\"text-align: right;\">\n",
       "      <th></th>\n",
       "      <th>Word</th>\n",
       "      <th>count</th>\n",
       "      <th>LenWord</th>\n",
       "    </tr>\n",
       "  </thead>\n",
       "  <tbody>\n",
       "    <tr>\n",
       "      <th>0</th>\n",
       "      <td>и</td>\n",
       "      <td>502</td>\n",
       "      <td>1</td>\n",
       "    </tr>\n",
       "    <tr>\n",
       "      <th>2</th>\n",
       "      <td>в</td>\n",
       "      <td>441</td>\n",
       "      <td>1</td>\n",
       "    </tr>\n",
       "    <tr>\n",
       "      <th>5</th>\n",
       "      <td>я</td>\n",
       "      <td>351</td>\n",
       "      <td>1</td>\n",
       "    </tr>\n",
       "    <tr>\n",
       "      <th>10</th>\n",
       "      <td>с</td>\n",
       "      <td>143</td>\n",
       "      <td>1</td>\n",
       "    </tr>\n",
       "    <tr>\n",
       "      <th>19</th>\n",
       "      <td>у</td>\n",
       "      <td>92</td>\n",
       "      <td>1</td>\n",
       "    </tr>\n",
       "    <tr>\n",
       "      <th>21</th>\n",
       "      <td>а</td>\n",
       "      <td>88</td>\n",
       "      <td>1</td>\n",
       "    </tr>\n",
       "    <tr>\n",
       "      <th>22</th>\n",
       "      <td>к</td>\n",
       "      <td>87</td>\n",
       "      <td>1</td>\n",
       "    </tr>\n",
       "    <tr>\n",
       "      <th>30</th>\n",
       "      <td>о</td>\n",
       "      <td>71</td>\n",
       "      <td>1</td>\n",
       "    </tr>\n",
       "    <tr>\n",
       "      <th>738</th>\n",
       "      <td>ж</td>\n",
       "      <td>3</td>\n",
       "      <td>1</td>\n",
       "    </tr>\n",
       "    <tr>\n",
       "      <th>1092</th>\n",
       "      <td>1</td>\n",
       "      <td>2</td>\n",
       "      <td>1</td>\n",
       "    </tr>\n",
       "    <tr>\n",
       "      <th>1107</th>\n",
       "      <td>-</td>\n",
       "      <td>2</td>\n",
       "      <td>1</td>\n",
       "    </tr>\n",
       "    <tr>\n",
       "      <th>1647</th>\n",
       "      <td>5</td>\n",
       "      <td>2</td>\n",
       "      <td>1</td>\n",
       "    </tr>\n",
       "    <tr>\n",
       "      <th>2103</th>\n",
       "      <td>6</td>\n",
       "      <td>1</td>\n",
       "      <td>1</td>\n",
       "    </tr>\n",
       "    <tr>\n",
       "      <th>2538</th>\n",
       "      <td>б</td>\n",
       "      <td>1</td>\n",
       "      <td>1</td>\n",
       "    </tr>\n",
       "    <tr>\n",
       "      <th>2773</th>\n",
       "      <td>л</td>\n",
       "      <td>1</td>\n",
       "      <td>1</td>\n",
       "    </tr>\n",
       "    <tr>\n",
       "      <th>3417</th>\n",
       "      <td>г</td>\n",
       "      <td>1</td>\n",
       "      <td>1</td>\n",
       "    </tr>\n",
       "    <tr>\n",
       "      <th>4093</th>\n",
       "      <td>н</td>\n",
       "      <td>1</td>\n",
       "      <td>1</td>\n",
       "    </tr>\n",
       "  </tbody>\n",
       "</table>\n",
       "</div>"
      ],
      "text/plain": [
       "     Word  count  LenWord\n",
       "0       и    502        1\n",
       "2       в    441        1\n",
       "5       я    351        1\n",
       "10      с    143        1\n",
       "19      у     92        1\n",
       "21      а     88        1\n",
       "22      к     87        1\n",
       "30      о     71        1\n",
       "738     ж      3        1\n",
       "1092    1      2        1\n",
       "1107    -      2        1\n",
       "1647    5      2        1\n",
       "2103    6      1        1\n",
       "2538    б      1        1\n",
       "2773    л      1        1\n",
       "3417    г      1        1\n",
       "4093    н      1        1"
      ]
     },
     "execution_count": 7,
     "metadata": {},
     "output_type": "execute_result"
    }
   ],
   "source": [
    "word_counts_df[word_counts_df['LenWord'] == 1]"
   ]
  },
  {
   "cell_type": "code",
   "execution_count": 8,
   "metadata": {},
   "outputs": [
    {
     "data": {
      "text/plain": [
       "array(['ж', '1', '-', '5', '6', 'б', 'л', 'г', 'н'], dtype=object)"
      ]
     },
     "execution_count": 8,
     "metadata": {},
     "output_type": "execute_result"
    }
   ],
   "source": [
    "str_words = word_counts_df[(word_counts_df['LenWord'] == 1) & (word_counts_df['count'] < 10)]['Word'].values\n",
    "str_words"
   ]
  },
  {
   "cell_type": "code",
   "execution_count": 9,
   "metadata": {},
   "outputs": [
    {
     "data": {
      "text/plain": [
       "' ж '"
      ]
     },
     "metadata": {},
     "output_type": "display_data"
    },
    {
     "name": "stdout",
     "output_type": "stream",
     "text": [
      "['что ж я безусловно усвоил урок и надеюсь двигаться дальше и безусловно два года тюрьмы были ужасным наказанием'\n",
      " 'что ж я просто надеюсь что у нас может быть мир и я надеюсь что это принесет какую-то пользу'\n",
      " 'ну что ж я просто подумал что если бы ты умер я бы пригласил тебя разделить со мной туалет']\n"
     ]
    },
    {
     "data": {
      "text/plain": [
       "' 1 '"
      ]
     },
     "metadata": {},
     "output_type": "display_data"
    },
    {
     "name": "stdout",
     "output_type": "stream",
     "text": [
      "['о научи меня как я должен забыть думать 1 1 224']\n"
     ]
    },
    {
     "data": {
      "text/plain": [
       "' - '"
      ]
     },
     "metadata": {},
     "output_type": "display_data"
    },
    {
     "name": "stdout",
     "output_type": "stream",
     "text": [
      "[]\n"
     ]
    },
    {
     "data": {
      "text/plain": [
       "' 5 '"
      ]
     },
     "metadata": {},
     "output_type": "display_data"
    },
    {
     "name": "stdout",
     "output_type": "stream",
     "text": [
      "['избитые женщины 5 избитые женщины более хрустящие'\n",
      " 'что я надеваю в постель почему шанель 5 конечно']\n"
     ]
    },
    {
     "data": {
      "text/plain": [
       "' 6 '"
      ]
     },
     "metadata": {},
     "output_type": "display_data"
    },
    {
     "name": "stdout",
     "output_type": "stream",
     "text": [
      "['есть 6 причин по которым человек делает что-либо любовь вера жадность скука страх месть']\n"
     ]
    },
    {
     "data": {
      "text/plain": [
       "' б '"
      ]
     },
     "metadata": {},
     "output_type": "display_data"
    },
    {
     "name": "stdout",
     "output_type": "stream",
     "text": [
      "['нет причин иметь план б потому что это отвлекает от плана а']\n"
     ]
    },
    {
     "data": {
      "text/plain": [
       "' л '"
      ]
     },
     "metadata": {},
     "output_type": "display_data"
    },
    {
     "name": "stdout",
     "output_type": "stream",
     "text": [
      "['кира ты знаешь что такое яблоки боги смертельной любви л черт бы тебя побрал кира']\n"
     ]
    },
    {
     "data": {
      "text/plain": [
       "' г '"
      ]
     },
     "metadata": {},
     "output_type": "display_data"
    },
    {
     "name": "stdout",
     "output_type": "stream",
     "text": [
      "[]\n"
     ]
    },
    {
     "data": {
      "text/plain": [
       "' н '"
      ]
     },
     "metadata": {},
     "output_type": "display_data"
    },
    {
     "name": "stdout",
     "output_type": "stream",
     "text": [
      "[]\n"
     ]
    }
   ],
   "source": [
    "def find_word(word):\n",
    "    return data[data['Clear'].str.contains(word)]['Clear']\n",
    "\n",
    "for word in str_words:\n",
    "    display(f' {word} ')\n",
    "    print(find_word(f' {word} ').values)"
   ]
  },
  {
   "cell_type": "markdown",
   "metadata": {},
   "source": [
    "Странно, что некоторых вхождений нет... А так все нормально"
   ]
  },
  {
   "cell_type": "markdown",
   "metadata": {},
   "source": [
    "Выводы: удалось сократить максимальную длину предложения до 24 слов. Уникальных слов 6316, можно попробовать использовать токенизацию по словам или embedding"
   ]
  },
  {
   "cell_type": "markdown",
   "metadata": {},
   "source": [
    "## Подготовка данных под обучение (токенизация и векторизация)"
   ]
  },
  {
   "cell_type": "code",
   "execution_count": 145,
   "metadata": {},
   "outputs": [
    {
     "data": {
      "text/html": [
       "<div>\n",
       "<style scoped>\n",
       "    .dataframe tbody tr th:only-of-type {\n",
       "        vertical-align: middle;\n",
       "    }\n",
       "\n",
       "    .dataframe tbody tr th {\n",
       "        vertical-align: top;\n",
       "    }\n",
       "\n",
       "    .dataframe thead th {\n",
       "        text-align: right;\n",
       "    }\n",
       "</style>\n",
       "<table border=\"1\" class=\"dataframe\">\n",
       "  <thead>\n",
       "    <tr style=\"text-align: right;\">\n",
       "      <th></th>\n",
       "      <th>Quote</th>\n",
       "      <th>Clear</th>\n",
       "    </tr>\n",
       "  </thead>\n",
       "  <tbody>\n",
       "    <tr>\n",
       "      <th>0</th>\n",
       "      <td>Ничто так не способствует успокоению ума,  как...</td>\n",
       "      <td>ничто так не способствует успокоению ума как у...</td>\n",
       "    </tr>\n",
       "    <tr>\n",
       "      <th>1</th>\n",
       "      <td>Никогда не тратьте впустую время на что-то важ...</td>\n",
       "      <td>никогда не тратьте впустую время на что-то важ...</td>\n",
       "    </tr>\n",
       "    <tr>\n",
       "      <th>2</th>\n",
       "      <td>\" Иногда потеря домашнего животного более боле...</td>\n",
       "      <td>иногда потеря домашнего животного более болезн...</td>\n",
       "    </tr>\n",
       "    <tr>\n",
       "      <th>3</th>\n",
       "      <td>\" То,  что лежит позади вас и что лежит перед ...</td>\n",
       "      <td>то что лежит позади вас и что лежит перед вами...</td>\n",
       "    </tr>\n",
       "    <tr>\n",
       "      <th>4</th>\n",
       "      <td>Прелесть сотрудничества между старшим и младши...</td>\n",
       "      <td>прелесть сотрудничества между старшим и младши...</td>\n",
       "    </tr>\n",
       "  </tbody>\n",
       "</table>\n",
       "</div>"
      ],
      "text/plain": [
       "                                               Quote  \\\n",
       "0  Ничто так не способствует успокоению ума,  как...   \n",
       "1  Никогда не тратьте впустую время на что-то важ...   \n",
       "2  \" Иногда потеря домашнего животного более боле...   \n",
       "3  \" То,  что лежит позади вас и что лежит перед ...   \n",
       "4  Прелесть сотрудничества между старшим и младши...   \n",
       "\n",
       "                                               Clear  \n",
       "0  ничто так не способствует успокоению ума как у...  \n",
       "1  никогда не тратьте впустую время на что-то важ...  \n",
       "2  иногда потеря домашнего животного более болезн...  \n",
       "3  то что лежит позади вас и что лежит перед вами...  \n",
       "4  прелесть сотрудничества между старшим и младши...  "
      ]
     },
     "execution_count": 145,
     "metadata": {},
     "output_type": "execute_result"
    }
   ],
   "source": [
    "data = pd.read_csv('data/clear_data_up_to_24.csv')\n",
    "data.head()"
   ]
  },
  {
   "cell_type": "code",
   "execution_count": 146,
   "metadata": {},
   "outputs": [
    {
     "data": {
      "text/html": [
       "<div>\n",
       "<style scoped>\n",
       "    .dataframe tbody tr th:only-of-type {\n",
       "        vertical-align: middle;\n",
       "    }\n",
       "\n",
       "    .dataframe tbody tr th {\n",
       "        vertical-align: top;\n",
       "    }\n",
       "\n",
       "    .dataframe thead th {\n",
       "        text-align: right;\n",
       "    }\n",
       "</style>\n",
       "<table border=\"1\" class=\"dataframe\">\n",
       "  <thead>\n",
       "    <tr style=\"text-align: right;\">\n",
       "      <th></th>\n",
       "      <th>Clear</th>\n",
       "    </tr>\n",
       "  </thead>\n",
       "  <tbody>\n",
       "    <tr>\n",
       "      <th>0</th>\n",
       "      <td>ничто так не способствует успокоению ума как у...</td>\n",
       "    </tr>\n",
       "    <tr>\n",
       "      <th>1</th>\n",
       "      <td>никогда не тратьте впустую время на что-то важ...</td>\n",
       "    </tr>\n",
       "    <tr>\n",
       "      <th>2</th>\n",
       "      <td>иногда потеря домашнего животного более болезн...</td>\n",
       "    </tr>\n",
       "    <tr>\n",
       "      <th>3</th>\n",
       "      <td>то что лежит позади вас и что лежит перед вами...</td>\n",
       "    </tr>\n",
       "    <tr>\n",
       "      <th>4</th>\n",
       "      <td>прелесть сотрудничества между старшим и младши...</td>\n",
       "    </tr>\n",
       "  </tbody>\n",
       "</table>\n",
       "</div>"
      ],
      "text/plain": [
       "                                               Clear\n",
       "0  ничто так не способствует успокоению ума как у...\n",
       "1  никогда не тратьте впустую время на что-то важ...\n",
       "2  иногда потеря домашнего животного более болезн...\n",
       "3  то что лежит позади вас и что лежит перед вами...\n",
       "4  прелесть сотрудничества между старшим и младши..."
      ]
     },
     "execution_count": 146,
     "metadata": {},
     "output_type": "execute_result"
    }
   ],
   "source": [
    "corpus = pd.DataFrame(data['Clear'])\n",
    "corpus.head()"
   ]
  },
  {
   "cell_type": "code",
   "execution_count": null,
   "metadata": {},
   "outputs": [],
   "source": [
    "vocab = Vocab(corpus)\n",
    "print(vocab.idx_to_token)"
   ]
  },
  {
   "cell_type": "code",
   "execution_count": 148,
   "metadata": {},
   "outputs": [
    {
     "data": {
      "text/html": [
       "<div>\n",
       "<style scoped>\n",
       "    .dataframe tbody tr th:only-of-type {\n",
       "        vertical-align: middle;\n",
       "    }\n",
       "\n",
       "    .dataframe tbody tr th {\n",
       "        vertical-align: top;\n",
       "    }\n",
       "\n",
       "    .dataframe thead th {\n",
       "        text-align: right;\n",
       "    }\n",
       "</style>\n",
       "<table border=\"1\" class=\"dataframe\">\n",
       "  <thead>\n",
       "    <tr style=\"text-align: right;\">\n",
       "      <th></th>\n",
       "      <th>Clear</th>\n",
       "    </tr>\n",
       "  </thead>\n",
       "  <tbody>\n",
       "    <tr>\n",
       "      <th>0</th>\n",
       "      <td>&lt;BOS&gt; ничто так не способствует успокоению ума...</td>\n",
       "    </tr>\n",
       "    <tr>\n",
       "      <th>1</th>\n",
       "      <td>&lt;BOS&gt; никогда не тратьте впустую время на что-...</td>\n",
       "    </tr>\n",
       "    <tr>\n",
       "      <th>2</th>\n",
       "      <td>&lt;BOS&gt; иногда потеря домашнего животного более ...</td>\n",
       "    </tr>\n",
       "    <tr>\n",
       "      <th>3</th>\n",
       "      <td>&lt;BOS&gt; то что лежит позади вас и что лежит пере...</td>\n",
       "    </tr>\n",
       "    <tr>\n",
       "      <th>4</th>\n",
       "      <td>&lt;BOS&gt; прелесть сотрудничества между старшим и ...</td>\n",
       "    </tr>\n",
       "    <tr>\n",
       "      <th>...</th>\n",
       "      <td>...</td>\n",
       "    </tr>\n",
       "    <tr>\n",
       "      <th>1423</th>\n",
       "      <td>&lt;BOS&gt; многие шаги предпринятые с сомнением быс...</td>\n",
       "    </tr>\n",
       "    <tr>\n",
       "      <th>1424</th>\n",
       "      <td>&lt;BOS&gt; дружба не нужна как философия как искусс...</td>\n",
       "    </tr>\n",
       "    <tr>\n",
       "      <th>1425</th>\n",
       "      <td>&lt;BOS&gt; искусство никогда не следует рассматрива...</td>\n",
       "    </tr>\n",
       "    <tr>\n",
       "      <th>1426</th>\n",
       "      <td>&lt;BOS&gt; милая принесите копию моего завещания и ...</td>\n",
       "    </tr>\n",
       "    <tr>\n",
       "      <th>1427</th>\n",
       "      <td>&lt;BOS&gt; если кто-то хочет бездельничать пусть вл...</td>\n",
       "    </tr>\n",
       "  </tbody>\n",
       "</table>\n",
       "<p>1428 rows × 1 columns</p>\n",
       "</div>"
      ],
      "text/plain": [
       "                                                  Clear\n",
       "0     <BOS> ничто так не способствует успокоению ума...\n",
       "1     <BOS> никогда не тратьте впустую время на что-...\n",
       "2     <BOS> иногда потеря домашнего животного более ...\n",
       "3     <BOS> то что лежит позади вас и что лежит пере...\n",
       "4     <BOS> прелесть сотрудничества между старшим и ...\n",
       "...                                                 ...\n",
       "1423  <BOS> многие шаги предпринятые с сомнением быс...\n",
       "1424  <BOS> дружба не нужна как философия как искусс...\n",
       "1425  <BOS> искусство никогда не следует рассматрива...\n",
       "1426  <BOS> милая принесите копию моего завещания и ...\n",
       "1427  <BOS> если кто-то хочет бездельничать пусть вл...\n",
       "\n",
       "[1428 rows x 1 columns]"
      ]
     },
     "execution_count": 148,
     "metadata": {},
     "output_type": "execute_result"
    }
   ],
   "source": [
    "corpus['Clear'] = corpus['Clear'].apply(lambda x: '<BOS> ' + x +' <EOS>')\n",
    "corpus"
   ]
  },
  {
   "cell_type": "code",
   "execution_count": 149,
   "metadata": {},
   "outputs": [],
   "source": [
    "train = corpus.iloc[:int(0.8*len(corpus))]\n",
    "test = corpus.iloc[int(0.8*len(corpus)):] "
   ]
  },
  {
   "cell_type": "code",
   "execution_count": 150,
   "metadata": {},
   "outputs": [],
   "source": [
    "train.to_csv(f'data/train.csv', index=False)\n",
    "test.to_csv(f'data/test.csv', index=False)"
   ]
  },
  {
   "cell_type": "markdown",
   "metadata": {},
   "source": [
    "Обучение моделей будет производиться в colab, поэтому сами модели и подготовка данных для них будут в других ноутбуках "
   ]
  }
 ],
 "metadata": {
  "kernelspec": {
   "display_name": "Python 3",
   "language": "python",
   "name": "python3"
  },
  "language_info": {
   "codemirror_mode": {
    "name": "ipython",
    "version": 3
   },
   "file_extension": ".py",
   "mimetype": "text/x-python",
   "name": "python",
   "nbconvert_exporter": "python",
   "pygments_lexer": "ipython3",
   "version": "3.12.1"
  }
 },
 "nbformat": 4,
 "nbformat_minor": 2
}

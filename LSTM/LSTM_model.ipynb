{
  "cells": [
    {
      "cell_type": "code",
      "execution_count": 5,
      "metadata": {
        "id": "RqTHfE_8Mljb"
      },
      "outputs": [],
      "source": [
        "from myLibrary.vocab import Vocab\n",
        "\n",
        "import pandas as pd\n",
        "import random\n",
        "import torch\n",
        "import torch.nn as nn\n",
        "from  torch.utils.data import Dataset, DataLoader\n",
        "import re\n",
        "import pickle\n",
        "\n",
        "import matplotlib.pyplot as plt"
      ]
    },
    {
      "cell_type": "code",
      "execution_count": 3,
      "metadata": {
        "id": "xE2n91ifOEYY"
      },
      "outputs": [],
      "source": [
        "train_corpus = pd.read_csv('data/train.csv')\n",
        "test_corpus = pd.read_csv('data/test.csv')"
      ]
    },
    {
      "cell_type": "code",
      "execution_count": 7,
      "metadata": {
        "id": "WMgO-4MvNOZK"
      },
      "outputs": [],
      "source": [
        "vocab = Vocab(train_corpus)\n",
        "with open('data/vocab.pkl', 'wb') as file:\n",
        "    pickle.dump(vocab, file)"
      ]
    },
    {
      "cell_type": "code",
      "execution_count": 36,
      "metadata": {
        "id": "Y91A-hTPO10v"
      },
      "outputs": [],
      "source": [
        "def generating_sequences_and_targets_LSTM(data):\n",
        "    features_list = []\n",
        "    targets_list = []\n",
        "\n",
        "    data = data['Clear'].str.split().values\n",
        "    for sentence in data:\n",
        "        for i in range(len(sentence)-1):\n",
        "            features = sentence[:i+1]\n",
        "            target = sentence[i+1]\n",
        "            features_list.append(features)\n",
        "            targets_list.append(target)\n",
        "\n",
        "    time = pd.DataFrame({'Features': features_list, 'Targets': targets_list})\n",
        "    return time"
      ]
    },
    {
      "cell_type": "code",
      "execution_count": 37,
      "metadata": {
        "id": "zTUNEEIYO24f"
      },
      "outputs": [],
      "source": [
        "train_data = generating_sequences_and_targets_LSTM(train_corpus)\n",
        "test_data = generating_sequences_and_targets_LSTM(test_corpus)"
      ]
    },
    {
      "cell_type": "code",
      "execution_count": 38,
      "metadata": {
        "id": "2Kcz3dKXO9Pp"
      },
      "outputs": [],
      "source": [
        "class QuotesDataset(Dataset):\n",
        "    def __init__(self, data, vocab : Vocab):\n",
        "        self.X = pd.DataFrame(data['Features'])\n",
        "        self.y = data['Targets']\n",
        "        self.vocab = vocab\n",
        "\n",
        "    def __len__(self):\n",
        "        return len(self.X)\n",
        "\n",
        "    def vectorize(self, quote_list):\n",
        "        word_list = quote_list.values[0]\n",
        "        vector = [self.vocab.token_to_idx.get(word, 0) for word in word_list]\n",
        "        vector = (self.vocab.max_seq_len -len(vector)) * [0] + vector\n",
        "        return torch.tensor(vector)\n",
        "\n",
        "    def __getitem__(self, idx):\n",
        "        return self.vectorize(self.X.iloc[idx]), torch.tensor(self.vocab.token_to_idx.get(self.y[idx], 0))"
      ]
    },
    {
      "cell_type": "code",
      "execution_count": 39,
      "metadata": {
        "id": "_1qcS-RKPZ2j"
      },
      "outputs": [],
      "source": [
        "train_dataset = QuotesDataset(train_data, vocab)\n",
        "test_dataset = QuotesDataset(test_data, vocab)\n",
        "\n",
        "train_dataloader = DataLoader(train_dataset, batch_size=16)\n",
        "test_dataloader = DataLoader(train_dataset, batch_size=16)"
      ]
    },
    {
      "cell_type": "code",
      "execution_count": 40,
      "metadata": {
        "colab": {
          "base_uri": "https://localhost:8080/"
        },
        "id": "wUj95wUQPbv0",
        "outputId": "54aa2b7e-4f2e-47f4-a088-95b2b614f6c2"
      },
      "outputs": [
        {
          "name": "stdout",
          "output_type": "stream",
          "text": [
            "tensor([0, 0, 0, 0, 0, 0, 0, 0, 0, 0, 0, 0, 0, 0, 0, 0, 0, 0, 0, 0, 0, 0, 0, 0,\n",
            "        0, 0, 1]) tensor(2710)\n"
          ]
        }
      ],
      "source": [
        "iteration = iter(train_dataloader)\n",
        "xt, yt = next(iteration)\n",
        "print(xt[0], yt[0])"
      ]
    },
    {
      "cell_type": "code",
      "execution_count": 41,
      "metadata": {
        "id": "3RSaWRJwsSOX"
      },
      "outputs": [],
      "source": [
        "device = \"cuda\" if torch.cuda.is_available() else \"cpu\""
      ]
    },
    {
      "cell_type": "code",
      "execution_count": 42,
      "metadata": {
        "id": "RXrLty9LPmGH"
      },
      "outputs": [],
      "source": [
        "class MyLSTMModel(nn.Module):\n",
        "  def __init__(self, input_size, embedding_dim, hidden_size,\n",
        "               output_size, num_layers, dropout_p):\n",
        "    super(MyLSTMModel, self).__init__()\n",
        "    self.embedding = nn.Embedding(input_size, embedding_dim=embedding_dim)\n",
        "    self.lstm = nn.LSTM(embedding_dim, hidden_size, num_layers, batch_first=True,\n",
        "                        bidirectional=True, dropout=dropout_p)\n",
        "    self.fc = nn.Linear(hidden_size * 2, output_size)\n",
        "\n",
        "  def forward(self, x):\n",
        "    embedded = self.embedding(x)\n",
        "    out, _ = self.lstm(embedded)\n",
        "    out = self.fc(out[:, -1, :])\n",
        "    return out\n"
      ]
    },
    {
      "cell_type": "code",
      "execution_count": 43,
      "metadata": {
        "id": "YaKR6Svih2JA"
      },
      "outputs": [],
      "source": [
        "INPUT_SIZE = vocab.vocab_len\n",
        "OUTPUT_SIZE = vocab.vocab_len\n",
        "EMBEDDING_DIM = 256\n",
        "HIDDEN_SIZE = 512\n",
        "NUM_LAYERS = 2\n",
        "DROPOUT_P = 0.5\n",
        "BATCH_SIZE = 16"
      ]
    },
    {
      "cell_type": "code",
      "execution_count": 44,
      "metadata": {
        "id": "ieS_wJx8jMEg"
      },
      "outputs": [],
      "source": [
        "model = MyLSTMModel(INPUT_SIZE,\n",
        "                    EMBEDDING_DIM,\n",
        "                    HIDDEN_SIZE,\n",
        "                    OUTPUT_SIZE,\n",
        "                    NUM_LAYERS,\n",
        "                    DROPOUT_P).to(device)\n",
        "\n",
        "criterion = nn.CrossEntropyLoss()"
      ]
    },
    {
      "cell_type": "code",
      "execution_count": null,
      "metadata": {
        "id": "FKokvKu_sU34"
      },
      "outputs": [],
      "source": [
        "def fit(model, criterion, train_dataloader, valid_dataloader, max_epochs, lr=0.0003):\n",
        "\n",
        "    optimizer = torch.optim.Adam(model.parameters(), lr=lr)\n",
        "    loaders = {\"train\": train_dataloader, \"valid\": valid_dataloader}\n",
        "\n",
        "    accuracy = {\"train\": [], \"valid\": []}\n",
        "    model_loss = {\"train\": [], \"valid\": []}\n",
        "    for epoch in range(max_epochs):\n",
        "        for k, dataloader in loaders.items():\n",
        "            epoch_correct = 0\n",
        "            epoch_all = 0\n",
        "            epoch_loss = []\n",
        "            for x_batch, y_batch in dataloader:\n",
        "                x_batch = x_batch.to(device)\n",
        "                y_batch = y_batch.to(device)\n",
        "                if k == \"train\":\n",
        "                    model.train()\n",
        "                    optimizer.zero_grad()\n",
        "                    outp = model(x_batch)\n",
        "                    loss = criterion(outp, y_batch)\n",
        "                    loss.backward()\n",
        "                    optimizer.step()\n",
        "                else:\n",
        "                    if random.randint(1, 3) == 2:\n",
        "                      win_batch = x_batch\n",
        "                    model.eval()\n",
        "                    outp = model(x_batch)\n",
        "                    loss = criterion(outp, y_batch)\n",
        "\n",
        "\n",
        "                epoch_loss.append(loss.item())\n",
        "\n",
        "                preds = outp.argmax(-1)\n",
        "                correct = preds[preds == y_batch].size(0)\n",
        "                all = y_batch.size(0)\n",
        "                epoch_correct += correct\n",
        "                epoch_all += all\n",
        "            if k == \"train\":\n",
        "                print(f\"Epoch: {epoch+1} \", end=' ')\n",
        "\n",
        "            last_loss = sum(epoch_loss)/len(epoch_loss)\n",
        "            print(f\"{k}-loss: {last_loss:.4}\", end=' ')\n",
        "            print(f\"{k}-accuracy: {epoch_correct/epoch_all:.4}\", end=' ')\n",
        "            accuracy[k].append(epoch_correct/epoch_all)\n",
        "            model_loss[k].append(last_loss)\n",
        "            if k == \"valid\" and last_loss == min(model_loss[\"valid\"]):\n",
        "                torch.save(model.state_dict(), 'best.pth')\n",
        "\n",
        "        print()\n",
        "        if win_batch is None:\n",
        "          win_batch = x_batch\n",
        "        random_sent = win_batch[random.randint(0, len(x_batch)-1)].clone()\n",
        "        list_of_tokens = random_sent.tolist()\n",
        "        flag = False\n",
        "        for i in range(10):\n",
        "            pred = model(random_sent.view(1, -1))\n",
        "            pred_token = pred.argmax()\n",
        "            list_of_tokens.append(pred_token.item())\n",
        "            random_sent = torch.tensor(list_of_tokens[-len(random_sent):], device='cuda:0')\n",
        "        for token in list_of_tokens:\n",
        "            if token != 0 or flag:\n",
        "                flag = True\n",
        "                print(vocab.idx_to_token[token], end=' ')\n",
        "\n",
        "        torch.save(model.state_dict(), 'last.pth')\n",
        "        print()\n",
        "    return model_loss, accuracy"
      ]
    },
    {
      "cell_type": "code",
      "execution_count": null,
      "metadata": {
        "colab": {
          "base_uri": "https://localhost:8080/"
        },
        "id": "kwanvdX5s6pC",
        "outputId": "36caabb2-917e-4d2f-b556-d1f48d713f6a"
      },
      "outputs": [
        {
          "name": "stdout",
          "output_type": "stream",
          "text": [
            "Epoch: 1  train-loss: 6.969 train-accuracy: 0.144 valid-loss: 6.398 valid-accuracy: 0.1535 \n",
            "<BOS> каждый жизненный опыт ставит этот вопрос как ты хочешь измениться из-за меня <EOS> <BOS> я не <EOS> <BOS> я не <EOS> <BOS> \n",
            "Epoch: 2  train-loss: 5.826 train-accuracy: 0.1597 valid-loss: 6.163 valid-accuracy: 0.1548 \n",
            "<BOS> для меня предмет это нечто живое эта сигарета или этот коробок спичек содержат тайную жизнь гораздо более насыщенную чем у некоторых человеческих <EOS> <BOS> я не могу <EOS> <BOS> я не могу \n",
            "Epoch: 3  train-loss: 5.151 train-accuracy: 0.1685 valid-loss: 6.035 valid-accuracy: 0.1613 \n",
            "<BOS> счастливых голодных игр что такое в конце концов что такое это было не \n",
            "Epoch: 4  train-loss: 4.483 train-accuracy: 0.1865 valid-loss: 5.625 valid-accuracy: 0.1751 \n",
            "<BOS> для меня предмет это нечто живое знают что определенный в таком важном вопросе что определенный \n",
            "Epoch: 5  train-loss: 3.854 train-accuracy: 0.2433 valid-loss: 5.251 valid-accuracy: 0.195 \n",
            "<BOS> дети прекрасно знают что единорогов в экспедиции что отдаешь бродить что отдаешь \n",
            "Epoch: 6  train-loss: 3.209 train-accuracy: 0.3512 valid-loss: 4.708 valid-accuracy: 0.2233 \n",
            "<BOS> каждый жизненный опыт ставит этот вопрос как ты хочешь измениться <EOS> <BOS> я не заканчивается <EOS> <BOS> я не хочу \n",
            "Epoch: 7  train-loss: 2.634 train-accuracy: 0.4521 valid-loss: 4.207 valid-accuracy: 0.2522 \n",
            "<BOS> для меня предмет это нечто живое эта сигарета и вся <EOS> <BOS> я буду <EOS> \n",
            "Epoch: 8  train-loss: 2.239 train-accuracy: 0.5247 valid-loss: 3.617 valid-accuracy: 0.3144 \n",
            "<BOS> иногда это злая улыбка <EOS> <BOS> я не заканчивается <EOS> <BOS> \n",
            "Epoch: 9  train-loss: 1.939 train-accuracy: 0.5813 valid-loss: 3.248 valid-accuracy: 0.3473 \n",
            "<BOS> иногда нужно хорошенько упасть чтобы быть счастливыми <EOS> <BOS> в таком важном вопросе что \n",
            "Epoch: 10  train-loss: 1.599 train-accuracy: 0.6537 valid-loss: 2.87 valid-accuracy: 0.4055 \n",
            "<BOS> каждый жизненный опыт ставит этот вопрос как ты хочешь измениться из-за меня <EOS> <BOS> есть причина чем солнце <EOS> <BOS> я \n",
            "Epoch: 11  train-loss: 1.306 train-accuracy: 0.7206 valid-loss: 2.746 valid-accuracy: 0.4375 \n",
            "<BOS> для меня предмет это нечто живое эта сигарета или этот коробок спичек содержат тайную жизнь гораздо более насыщенную чем у некоторых человеческих существ <EOS> <BOS> я буду <EOS> <BOS> бог в отпуске <EOS> <BOS> \n",
            "Epoch: 12  train-loss: 1.096 train-accuracy: 0.7696 valid-loss: 2.399 valid-accuracy: 0.5033 \n",
            "<BOS> иногда нужно хорошенько упасть чтобы по-настоящему понять на все остальные <EOS> <BOS> я не был \n",
            "Epoch: 13  train-loss: 0.9075 train-accuracy: 0.8149 valid-loss: 2.282 valid-accuracy: 0.5258 \n",
            "<BOS> я завидую людям которые знают что такое любовь у которых \n",
            "Epoch: 14  train-loss: 0.7926 train-accuracy: 0.8396 valid-loss: 1.922 valid-accuracy: 0.5874 \n",
            "<BOS> дети прекрасно знают что единорогов не существует но они также знают что книги о единорогах если это хорошие книги \n",
            "Epoch: 15  train-loss: 0.7012 train-accuracy: 0.8561 valid-loss: 1.637 valid-accuracy: 0.6452 \n",
            "<BOS> для меня предмет это нечто живое эта сигарета или этот коробок спичек содержат тайную жизнь гораздо более насыщенную чем у некоторых человеческих существ <EOS> <BOS> я буду <EOS> <BOS> я полностью <EOS> <BOS> я \n",
            "Epoch: 16  train-loss: 0.6168 train-accuracy: 0.8747 valid-loss: 1.537 valid-accuracy: 0.6765 \n",
            "<BOS> иногда нужно хорошенько упасть чтобы по-настоящему понять на чем ты стоишь <EOS> <BOS> я буду \n",
            "Epoch: 17  train-loss: 0.5727 train-accuracy: 0.8838 valid-loss: 1.402 valid-accuracy: 0.7032 \n",
            "<BOS> любой кто говорит что видит женщин насквозь многого не понимает <EOS> <BOS> я буду в них \n",
            "Epoch: 18  train-loss: 0.5358 train-accuracy: 0.89 valid-loss: 1.221 valid-accuracy: 0.74 \n",
            "<BOS> каждый жизненный опыт ставит этот вопрос как ты хочешь измениться из-за меня <EOS> <BOS> бог в \n",
            "Epoch: 19  train-loss: 0.509 train-accuracy: 0.8944 valid-loss: 1.086 valid-accuracy: 0.7785 \n",
            "<BOS> счастливых голодных игр и пусть шансы всегда будут в вашу пользу \n",
            "Epoch: 20  train-loss: 0.4758 train-accuracy: 0.8992 valid-loss: 1.004 valid-accuracy: 0.8008 \n",
            "<BOS> счастливых голодных игр и пусть шансы всегда будут в вашу пользу <EOS> <BOS> в конце концов это \n",
            "Epoch: 21  train-loss: 0.4616 train-accuracy: 0.9016 valid-loss: 1.003 valid-accuracy: 0.808 \n",
            "<BOS> я завидую людям которые знают что такое любовь у которых \n",
            "Epoch: 22  train-loss: 0.4414 train-accuracy: 0.9056 valid-loss: 0.9367 valid-accuracy: 0.8186 \n",
            "<BOS> дети прекрасно знают что единорогов не существует но они также знают что книги о единорогах если это хорошие книги \n",
            "Epoch: 23  train-loss: 0.4351 train-accuracy: 0.9056 valid-loss: 0.9272 valid-accuracy: 0.8232 \n",
            "<BOS> любой кто говорит что видит женщин насквозь многого не понимает <EOS> <BOS> в конце концов это \n",
            "Epoch: 24  train-loss: 0.439 train-accuracy: 0.905 valid-loss: 0.8736 valid-accuracy: 0.8351 \n",
            "<BOS> дети прекрасно знают что единорогов не существует но они также знают что книги о единорогах если это хорошие книги являются настоящими книгами <EOS> <BOS> в конце концов это так <EOS> \n",
            "Epoch: 25  train-loss: 0.419 train-accuracy: 0.9085 valid-loss: 0.8808 valid-accuracy: 0.8355 \n",
            "<BOS> любой кто говорит что видит женщин насквозь многого не понимает <EOS> <BOS> в пацифиста или убийцу \n",
            "Epoch: 26  train-loss: 0.4098 train-accuracy: 0.9096 valid-loss: 0.9316 valid-accuracy: 0.8343 \n",
            "<BOS> для меня предмет это нечто живое эта сигарета или этот коробок спичек содержат тайную жизнь гораздо более насыщенную чем у некоторых человеческих существ <EOS> <BOS> я есть <EOS> <BOS> я не \n",
            "Epoch: 27  train-loss: 0.4068 train-accuracy: 0.9089 valid-loss: 0.9174 valid-accuracy: 0.8403 \n",
            "<BOS> иногда нужно хорошенько упасть чтобы по-настоящему понять на чем ты стоишь <EOS> <BOS> в конце концов \n",
            "Epoch: 28  train-loss: 0.3955 train-accuracy: 0.9117 valid-loss: 0.8529 valid-accuracy: 0.8567 \n",
            "<BOS> каждый жизненный опыт ставит этот вопрос как ты хочешь измениться из-за меня <EOS> <BOS> я \n",
            "Epoch: 29  train-loss: 0.3952 train-accuracy: 0.9105 valid-loss: 0.8073 valid-accuracy: 0.8629 \n",
            "<BOS> счастливых голодных игр и пусть шансы всегда будут в вашу пользу \n",
            "Epoch: 30  train-loss: 0.3808 train-accuracy: 0.9125 valid-loss: 0.8007 valid-accuracy: 0.8684 \n",
            "<BOS> каждый жизненный опыт ставит этот вопрос как ты хочешь измениться из-за меня <EOS> <BOS> я не отпущу тебя <EOS> <BOS> я \n",
            "Epoch: 31  train-loss: 0.3784 train-accuracy: 0.9129 valid-loss: 0.7899 valid-accuracy: 0.8625 \n",
            "<BOS> каждый раз когда я думал что меня отвергают от чего-то \n",
            "Epoch: 32  train-loss: 0.379 train-accuracy: 0.9133 valid-loss: 0.7715 valid-accuracy: 0.8683 \n",
            "<BOS> иногда нужно хорошенько упасть чтобы по-настоящему понять на чем ты стоишь <EOS> \n",
            "Epoch: 33  train-loss: 0.3635 train-accuracy: 0.9172 valid-loss: 0.8053 valid-accuracy: 0.8694 \n",
            "<BOS> каждый жизненный опыт ставит этот вопрос как ты хочешь измениться из-за меня <EOS> <BOS> я не отпущу тебя <EOS> <BOS> я не \n",
            "Epoch: 34  train-loss: 0.3598 train-accuracy: 0.9177 valid-loss: 0.8152 valid-accuracy: 0.8705 \n",
            "<BOS> любить значит прыгать со скалы и верить что определенный человек будет рядом чтобы \n",
            "Epoch: 35  train-loss: 0.3538 train-accuracy: 0.9162 valid-loss: 0.8046 valid-accuracy: 0.8736 \n",
            "<BOS> иногда нужно хорошенько упасть чтобы по-настоящему понять на чем ты стоишь <EOS> <BOS> я люблю любовью <EOS> \n",
            "Epoch: 36  train-loss: 0.3494 train-accuracy: 0.9172 valid-loss: 0.7785 valid-accuracy: 0.8831 \n",
            "<BOS> для меня предмет это нечто живое эта сигарета или этот коробок спичек содержат тайную жизнь гораздо более насыщенную чем у некоторых человеческих существ <EOS> <BOS> \n",
            "Epoch: 37  train-loss: 0.3477 train-accuracy: 0.9183 valid-loss: 0.7574 valid-accuracy: 0.88 \n",
            "<BOS> иногда нужно хорошенько упасть чтобы по-настоящему понять на чем ты стоишь <EOS> <BOS> в конце концов это \n",
            "Epoch: 38  train-loss: 0.3417 train-accuracy: 0.9192 valid-loss: 0.7936 valid-accuracy: 0.8785 \n",
            "<BOS> любой кто говорит что видит женщин насквозь многого не понимает <EOS> <BOS> в жизни как его \n",
            "Epoch: 39  train-loss: 0.3606 train-accuracy: 0.9155 valid-loss: 0.7608 valid-accuracy: 0.881 \n",
            "<BOS> для меня предмет это нечто живое эта сигарета или этот коробок спичек содержат тайную жизнь гораздо более насыщенную чем у некоторых человеческих существ <EOS> <BOS> в конце концов мы все <EOS> <BOS> я не \n",
            "Epoch: 40  train-loss: 0.3585 train-accuracy: 0.9157 valid-loss: 0.7341 valid-accuracy: 0.8906 \n",
            "<BOS> для меня предмет это нечто живое эта сигарета или этот коробок спичек содержат тайную жизнь гораздо более насыщенную чем у некоторых человеческих существ <EOS> <BOS> я всегда был <EOS> <BOS> я не \n",
            "Epoch: 41  train-loss: 0.3514 train-accuracy: 0.9164 valid-loss: 0.74 valid-accuracy: 0.8859 \n",
            "<BOS> и кстати обо всем в жизни можно написать если у \n",
            "Epoch: 42  train-loss: 0.3383 train-accuracy: 0.9186 valid-loss: 0.7356 valid-accuracy: 0.8867 \n",
            "<BOS> дети прекрасно знают что единорогов не существует но они также знают что книги о единорогах если это хорошие книги являются настоящими книгами <EOS> <BOS> я не был <EOS> <BOS> \n",
            "Epoch: 43  train-loss: 0.338 train-accuracy: 0.9196 valid-loss: 0.7162 valid-accuracy: 0.8875 \n",
            "<BOS> каждый жизненный опыт ставит этот вопрос как ты хочешь измениться из-за меня <EOS> <BOS> я не могу не добавить \n",
            "Epoch: 44  train-loss: 0.3397 train-accuracy: 0.9182 valid-loss: 0.7051 valid-accuracy: 0.887 \n",
            "<BOS> каждый жизненный опыт ставит этот вопрос как ты хочешь измениться из-за меня <EOS> <BOS> я не \n",
            "Epoch: 45  train-loss: 0.4127 train-accuracy: 0.9048 valid-loss: 0.7233 valid-accuracy: 0.886 \n",
            "<BOS> счастливых голодных игр и пусть шансы всегда будут в вашу пользу <EOS> \n",
            "Epoch: 46  train-loss: 0.3818 train-accuracy: 0.91 valid-loss: 0.6668 valid-accuracy: 0.8947 \n",
            "<BOS> счастливых голодных игр и пусть шансы всегда будут в вашу пользу <EOS> <BOS> я не хочу мира как боба или с вами \n",
            "Epoch: 47  train-loss: 0.3587 train-accuracy: 0.9155 valid-loss: 0.6801 valid-accuracy: 0.8938 \n",
            "<BOS> любой кто говорит что видит женщин насквозь многого не понимает <EOS> \n",
            "Epoch: 48  train-loss: 0.3508 train-accuracy: 0.9165 valid-loss: 0.6913 valid-accuracy: 0.8945 \n",
            "<BOS> счастливых голодных игр и пусть шансы всегда будут в вашу пользу <EOS> <BOS> \n",
            "Epoch: 49  train-loss: 0.3454 train-accuracy: 0.9185 valid-loss: 0.7001 valid-accuracy: 0.8931 \n",
            "<BOS> дети прекрасно знают что единорогов не существует но они также знают что книги о единорогах если это хорошие книги являются настоящими книгами <EOS> <BOS> я не \n",
            "Epoch: 50  train-loss: 0.3474 train-accuracy: 0.9164 valid-loss: 0.7121 valid-accuracy: 0.8947 \n",
            "<BOS> иногда нужно хорошенько упасть чтобы по-настоящему понять на чем ты стоишь <EOS> <BOS> в конце концов \n",
            "Epoch: 51  train-loss: 0.3378 train-accuracy: 0.9184 valid-loss: 0.7288 valid-accuracy: 0.8937 \n",
            "<BOS> счастливых голодных игр и пусть шансы всегда будут в вашу пользу <EOS> <BOS> в конце концов \n",
            "Epoch: 52  train-loss: 0.333 train-accuracy: 0.92 valid-loss: 0.7449 valid-accuracy: 0.8951 \n",
            "<BOS> любой кто говорит что видит женщин насквозь многого не понимает <EOS> <BOS> я всегда \n",
            "Epoch: 53  train-loss: 0.3282 train-accuracy: 0.9204 valid-loss: 0.7161 valid-accuracy: 0.8943 \n",
            "<BOS> каждый жизненный опыт ставит этот вопрос как ты хочешь измениться из-за меня <EOS> <BOS> я всегда был <EOS> \n",
            "Epoch: 54  train-loss: 0.326 train-accuracy: 0.9201 valid-loss: 0.767 valid-accuracy: 0.8943 \n",
            "<BOS> иногда нужно хорошенько упасть чтобы по-настоящему понять на чем ты стоишь <EOS> <BOS> в \n",
            "Epoch: 55  train-loss: 0.3226 train-accuracy: 0.921 valid-loss: 0.7626 valid-accuracy: 0.8955 \n",
            "<BOS> любой кто говорит что видит женщин насквозь многого не понимает <EOS> <BOS> я думаю что есть песня \n",
            "Epoch: 56  train-loss: 0.318 train-accuracy: 0.9207 valid-loss: 0.7625 valid-accuracy: 0.895 \n",
            "<BOS> каждый жизненный опыт ставит этот вопрос как ты хочешь измениться из-за меня <EOS> \n",
            "Epoch: 57  train-loss: 0.3169 train-accuracy: 0.9212 valid-loss: 0.7622 valid-accuracy: 0.8953 \n",
            "<BOS> счастливых голодных игр и пусть шансы всегда будут в вашу пользу <EOS> <BOS> я был \n",
            "Epoch: 58  train-loss: 0.3166 train-accuracy: 0.9204 valid-loss: 0.7685 valid-accuracy: 0.8935 \n",
            "<BOS> для меня предмет это нечто живое эта сигарета или этот коробок спичек содержат тайную жизнь \n",
            "Epoch: 59  train-loss: 0.3152 train-accuracy: 0.9208 valid-loss: 0.7617 valid-accuracy: 0.8953 \n",
            "<BOS> каждый жизненный опыт ставит этот вопрос как ты хочешь измениться из-за меня <EOS> <BOS> я всегда был <EOS> <BOS> я \n",
            "Epoch: 60  train-loss: 0.3137 train-accuracy: 0.9208 valid-loss: 0.7789 valid-accuracy: 0.8938 \n",
            "<BOS> любой кто говорит что видит женщин насквозь многого не понимает <EOS> <BOS> я думаю что быть \n",
            "Epoch: 61  train-loss: 0.3099 train-accuracy: 0.922 valid-loss: 0.7729 valid-accuracy: 0.894 \n",
            "<BOS> дети прекрасно знают что единорогов не существует но они также знают что книги о единорогах если это хорошие книги являются \n",
            "Epoch: 62  train-loss: 0.3049 train-accuracy: 0.9221 valid-loss: 0.7776 valid-accuracy: 0.8948 \n",
            "<BOS> каждый жизненный опыт ставит этот вопрос как ты хочешь измениться из-за меня \n",
            "Epoch: 63  train-loss: 0.3054 train-accuracy: 0.9227 valid-loss: 0.7735 valid-accuracy: 0.896 \n",
            "<BOS> двигаться дышать летать парить получать все что отдаешь бродить по дорогам \n",
            "Epoch: 64  train-loss: 0.3046 train-accuracy: 0.9222 valid-loss: 0.7683 valid-accuracy: 0.8963 \n",
            "<BOS> для меня предмет это нечто живое эта сигарета или этот коробок спичек содержат тайную жизнь гораздо более \n",
            "Epoch: 65  train-loss: 0.3048 train-accuracy: 0.9219 valid-loss: 0.76 valid-accuracy: 0.896 \n",
            "<BOS> дети прекрасно знают что единорогов не существует но они также знают что книги о единорогах если это хорошие книги являются настоящими книгами <EOS> <BOS> я не знал \n",
            "Epoch: 66  train-loss: 0.2999 train-accuracy: 0.9233 valid-loss: 0.7558 valid-accuracy: 0.8963 \n",
            "<BOS> для меня предмет это нечто живое эта сигарета или этот коробок спичек содержат тайную жизнь гораздо более насыщенную чем у некоторых человеческих \n",
            "Epoch: 67  train-loss: 0.2984 train-accuracy: 0.923 valid-loss: 0.7533 valid-accuracy: 0.8971 \n",
            "<BOS> иногда нужно хорошенько упасть чтобы по-настоящему понять на чем ты стоишь <EOS> <BOS> \n",
            "Epoch: 68  train-loss: 0.2988 train-accuracy: 0.9234 valid-loss: 0.7755 valid-accuracy: 0.8958 \n",
            "<BOS> любой кто говорит что видит женщин насквозь многого не понимает <EOS> <BOS> я бы не стала мучить тебя если бы \n",
            "Epoch: 69  train-loss: 0.2989 train-accuracy: 0.923 valid-loss: 0.7661 valid-accuracy: 0.8969 \n",
            "<BOS> каждый жизненный опыт ставит этот вопрос как ты хочешь измениться из-за меня <EOS> \n",
            "Epoch: 70  train-loss: 0.2965 train-accuracy: 0.9243 valid-loss: 0.7688 valid-accuracy: 0.8955 \n",
            "<BOS> каждый жизненный опыт ставит этот вопрос как ты хочешь измениться из-за меня <EOS> <BOS> я не хочу \n",
            "Epoch: 71  train-loss: 0.2981 train-accuracy: 0.9235 valid-loss: 0.7486 valid-accuracy: 0.8962 \n",
            "<BOS> иногда нужно хорошенько упасть чтобы по-настоящему понять на чем ты стоишь <EOS> \n",
            "Epoch: 72  train-loss: 0.2924 train-accuracy: 0.9234 valid-loss: 0.7484 valid-accuracy: 0.897 \n",
            "<BOS> иногда нужно хорошенько упасть чтобы по-настоящему понять на чем ты стоишь <EOS> \n",
            "Epoch: 73  train-loss: 0.293 train-accuracy: 0.9235 valid-loss: 0.7702 valid-accuracy: 0.8956 \n",
            "<BOS> дети прекрасно знают что единорогов не существует но они также знают что книги о единорогах если это хорошие книги являются настоящими книгами <EOS> <BOS> я не \n",
            "Epoch: 74  train-loss: 0.2927 train-accuracy: 0.9242 valid-loss: 0.7711 valid-accuracy: 0.8968 \n",
            "<BOS> каждый жизненный опыт ставит этот вопрос как ты хочешь измениться из-за меня <EOS> <BOS> я \n",
            "Epoch: 75  train-loss: 0.2912 train-accuracy: 0.9251 valid-loss: 0.7828 valid-accuracy: 0.8966 \n",
            "<BOS> каждый жизненный опыт ставит этот вопрос как ты хочешь измениться из-за меня <EOS> <BOS> как ты должен понимать что это не \n",
            "Epoch: 76  train-loss: 0.2913 train-accuracy: 0.9245 valid-loss: 0.7622 valid-accuracy: 0.8972 \n",
            "<BOS> каждый жизненный опыт ставит этот вопрос как ты хочешь измениться из-за меня <EOS> <BOS> я \n",
            "Epoch: 77  train-loss: 0.2935 train-accuracy: 0.9239 valid-loss: 0.7387 valid-accuracy: 0.8972 \n",
            "<BOS> счастливых голодных игр и пусть шансы всегда будут в вашу пользу <EOS> <BOS> я всегда был таким только я никогда этого не \n",
            "Epoch: 78  train-loss: 0.2909 train-accuracy: 0.9247 valid-loss: 0.7584 valid-accuracy: 0.8971 \n",
            "<BOS> для меня предмет это нечто живое эта сигарета или этот коробок спичек содержат тайную жизнь гораздо более насыщенную чем \n",
            "Epoch: 79  train-loss: 0.2901 train-accuracy: 0.9244 valid-loss: 0.7617 valid-accuracy: 0.897 \n",
            "<BOS> дети прекрасно знают что единорогов не существует но они также знают что книги о единорогах если это хорошие книги являются настоящими книгами <EOS> <BOS> я не был <EOS> <BOS> я \n",
            "Epoch: 80  train-loss: 0.2875 train-accuracy: 0.9249 valid-loss: 0.7559 valid-accuracy: 0.8978 \n",
            "<BOS> иногда нужно хорошенько упасть чтобы по-настоящему понять на чем ты стоишь <EOS> \n",
            "Epoch: 81  train-loss: 0.2877 train-accuracy: 0.9247 valid-loss: 0.7862 valid-accuracy: 0.8971 \n",
            "<BOS> счастливых голодных игр и пусть шансы всегда будут в вашу пользу <EOS> <BOS> я думаю что быть смешным <EOS> <BOS> я всегда \n",
            "Epoch: 82  train-loss: 0.2858 train-accuracy: 0.9252 valid-loss: 0.7599 valid-accuracy: 0.8975 \n",
            "<BOS> любой кто говорит что видит женщин насквозь многого не понимает <EOS> <BOS> \n",
            "Epoch: 83  train-loss: 0.2854 train-accuracy: 0.9244 valid-loss: 0.764 valid-accuracy: 0.8976 \n",
            "<BOS> дети прекрасно знают что единорогов не существует но они также знают что книги о единорогах если это хорошие книги являются настоящими книгами <EOS> <BOS> я не всегда сказал \n",
            "Epoch: 84  train-loss: 0.2847 train-accuracy: 0.9255 valid-loss: 0.7687 valid-accuracy: 0.8976 \n",
            "<BOS> счастливых голодных игр и пусть шансы всегда будут в вашу пользу <EOS> <BOS> я думаю \n",
            "Epoch: 85  train-loss: 0.2829 train-accuracy: 0.9247 valid-loss: 0.7688 valid-accuracy: 0.8958 \n",
            "<BOS> для меня предмет это нечто живое эта сигарета или этот коробок спичек содержат тайную жизнь гораздо более насыщенную чем у некоторых человеческих существ <EOS> <BOS> в конце концов мы все устаем <EOS> <BOS> \n",
            "Epoch: 86  train-loss: 0.2841 train-accuracy: 0.9252 valid-loss: 0.763 valid-accuracy: 0.8965 \n",
            "<BOS> каждый жизненный опыт ставит этот вопрос как ты хочешь измениться из-за меня <EOS> <BOS> я всегда был самым <EOS> \n",
            "Epoch: 87  train-loss: 0.2817 train-accuracy: 0.9255 valid-loss: 0.773 valid-accuracy: 0.8973 \n",
            "<BOS> дети прекрасно знают что единорогов не существует но они также знают что книги о единорогах если это хорошие книги являются настоящими книгами <EOS> <BOS> я не хочу мира <EOS> <BOS> \n",
            "Epoch: 88  train-loss: 0.2836 train-accuracy: 0.925 valid-loss: 0.7741 valid-accuracy: 0.8974 \n",
            "<BOS> каждый жизненный опыт ставит этот вопрос как ты хочешь измениться из-за меня <EOS> <BOS> я всегда был одиноким <EOS> <BOS> я не был \n",
            "Epoch: 89  train-loss: 0.2812 train-accuracy: 0.9267 valid-loss: 0.7785 valid-accuracy: 0.8967 \n",
            "<BOS> иногда нужно хорошенько упасть чтобы по-настоящему понять на чем ты стоишь <EOS> <BOS> я всегда был жив <EOS> <BOS> \n",
            "Epoch: 90  train-loss: 0.2813 train-accuracy: 0.9252 valid-loss: 0.7749 valid-accuracy: 0.8973 \n",
            "<BOS> любой кто говорит что видит женщин насквозь многого не понимает <EOS> <BOS> \n",
            "Epoch: 91  train-loss: 0.2833 train-accuracy: 0.925 valid-loss: 0.7613 valid-accuracy: 0.8971 \n",
            "<BOS> любой кто говорит что видит женщин насквозь многого не понимает <EOS> <BOS> в этом мире \n",
            "Epoch: 92  train-loss: 0.2885 train-accuracy: 0.9258 valid-loss: 0.7667 valid-accuracy: 0.8974 \n",
            "<BOS> каждый жизненный опыт ставит этот вопрос как ты хочешь измениться из-за меня <EOS> <BOS> я \n",
            "Epoch: 93  train-loss: 0.2833 train-accuracy: 0.9257 valid-loss: 0.7992 valid-accuracy: 0.8967 \n",
            "<BOS> для меня предмет это нечто живое эта сигарета или этот коробок спичек содержат тайную жизнь гораздо более насыщенную чем у \n",
            "Epoch: 94  train-loss: 0.2804 train-accuracy: 0.9271 valid-loss: 0.7719 valid-accuracy: 0.8976 \n",
            "<BOS> каждый жизненный опыт ставит этот вопрос как ты хочешь измениться из-за меня <EOS> <BOS> я всегда \n",
            "Epoch: 95  train-loss: 0.2768 train-accuracy: 0.9263 valid-loss: 0.7799 valid-accuracy: 0.8976 \n",
            "<BOS> каждый жизненный опыт ставит этот вопрос как ты хочешь измениться из-за меня <EOS> <BOS> \n",
            "Epoch: 96  train-loss: 0.279 train-accuracy: 0.9263 valid-loss: 0.8059 valid-accuracy: 0.8966 \n",
            "<BOS> счастливых голодных игр и пусть шансы всегда будут в вашу пользу <EOS> <BOS> я \n",
            "Epoch: 97  train-loss: 0.2777 train-accuracy: 0.9262 valid-loss: 0.7784 valid-accuracy: 0.8968 \n",
            "<BOS> иногда нужно хорошенько упасть чтобы по-настоящему понять на чем ты стоишь <EOS> <BOS> я всегда был одиноким <EOS> <BOS> я \n",
            "Epoch: 98  train-loss: 0.2762 train-accuracy: 0.9267 valid-loss: 0.7904 valid-accuracy: 0.8968 \n",
            "<BOS> я бы добровольно отправился в тюрьму пока есть книги потому \n",
            "Epoch: 99  train-loss: 0.2767 train-accuracy: 0.9257 valid-loss: 0.8011 valid-accuracy: 0.8969 \n",
            "<BOS> каждый жизненный опыт ставит этот вопрос как ты хочешь измениться из-за меня <EOS> <BOS> я не был <EOS> \n",
            "Epoch: 100  train-loss: 0.2752 train-accuracy: 0.9267 valid-loss: 0.7931 valid-accuracy: 0.8971 \n",
            "<BOS> иногда нужно хорошенько упасть чтобы по-настоящему понять на чем ты стоишь \n"
          ]
        }
      ],
      "source": [
        "loss, accuracy = fit(model, criterion, train_dataloader, test_dataloader, max_epochs=100)"
      ]
    },
    {
      "cell_type": "code",
      "execution_count": 28,
      "metadata": {
        "id": "_w_ONtqNxi67"
      },
      "outputs": [
        {
          "data": {
            "image/png": "[encoded data removed]",
            "text/plain": [
              "<Figure size 2000x500 with 2 Axes>"
            ]
          },
          "metadata": {},
          "output_type": "display_data"
        }
      ],
      "source": [
        "fig, (ax1, ax2) = plt.subplots(1, 2, figsize=(20, 5))\n",
        "ax1.plot(loss['train'], label='train')\n",
        "ax1.plot(loss['valid'], label='valid')\n",
        "ax1.set_xlabel('Epochs')\n",
        "ax1.set_ylabel('Losses')\n",
        "ax1.legend()\n",
        "\n",
        "ax2.plot(accuracy['train'], label='train')\n",
        "ax2.plot(accuracy['valid'], label='valid')\n",
        "ax2.set_xlabel('Epochs')\n",
        "ax2.set_ylabel('Accuracy')\n",
        "ax2.legend()\n",
        "\n",
        "plt.show()\n"
      ]
    },
    {
      "cell_type": "code",
      "execution_count": 46,
      "metadata": {},
      "outputs": [
        {
          "data": {
            "text/plain": [
              "MyLSTMModel(\n",
              "  (embedding): Embedding(5841, 256)\n",
              "  (lstm): LSTM(256, 512, num_layers=2, batch_first=True, dropout=0.5, bidirectional=True)\n",
              "  (fc): Linear(in_features=1024, out_features=5841, bias=True)\n",
              ")"
            ]
          },
          "execution_count": 46,
          "metadata": {},
          "output_type": "execute_result"
        }
      ],
      "source": [
        "model.load_state_dict(torch.load('best.pth', map_location=torch.device('cpu')))\n",
        "model.eval()"
      ]
    },
    {
      "cell_type": "code",
      "execution_count": 48,
      "metadata": {},
      "outputs": [],
      "source": [
        "def preprocessing(text):\n",
        "    text = text.lower()\n",
        "    text = re.sub(r'[^а-я0-9 -]', '', text)\n",
        "    text = text.replace(' - ', ' ')\n",
        "    text = re.sub(r'\\s+', ' ', text)\n",
        "    text = text.strip()\n",
        "    return text"
      ]
    },
    {
      "cell_type": "code",
      "execution_count": 86,
      "metadata": {},
      "outputs": [],
      "source": [
        "def generate_text(string):\n",
        "    string = f'<BOS> {preprocessing(string)}'\n",
        "    tokens = string.split()\n",
        "    list_of_tokens = [vocab.token_to_idx.get(word, 0) for word in tokens]\n",
        "    list_of_tokens = (vocab.max_seq_len -len(list_of_tokens)) * [0] + list_of_tokens\n",
        "    random_sent = torch.tensor(list_of_tokens)\n",
        "    \n",
        "    for i in range(10):\n",
        "        pred = model(random_sent.view(1, -1))\n",
        "        pred_token = pred.argmax()\n",
        "        list_of_tokens.append(pred_token.item())\n",
        "        string += f' {vocab.idx_to_token[pred_token.item()]}'\n",
        "        random_sent = torch.tensor(list_of_tokens[-len(random_sent):])\n",
        "\n",
        "    string = string.replace(' <EOS>', '.')\n",
        "    string = string.replace('<BOS> ', '')\n",
        "\n",
        "    sentences = string.split('.')\n",
        "    sentences = [sentence.strip().capitalize() for sentence in sentences if sentence]\n",
        "    punct_string = '. '.join(sentences) + '.'\n",
        "    return punct_string\n"
      ]
    },
    {
      "cell_type": "code",
      "execution_count": 87,
      "metadata": {},
      "outputs": [
        {
          "data": {
            "text/plain": [
              "'Русь должна быть великой и ненавязчивой такой которая проникает в душу.'"
            ]
          },
          "execution_count": 87,
          "metadata": {},
          "output_type": "execute_result"
        }
      ],
      "source": [
        "beginning = input()\n",
        "generate_text(beginning)"
      ]
    },
    {
      "cell_type": "code",
      "execution_count": 88,
      "metadata": {},
      "outputs": [
        {
          "data": {
            "text/plain": [
              "'Не тот кто волк а тот кто учится у нее чертовски хорошее чувство юмора. В.'"
            ]
          },
          "execution_count": 88,
          "metadata": {},
          "output_type": "execute_result"
        }
      ],
      "source": [
        "beginning = input()\n",
        "generate_text(beginning)"
      ]
    },
    {
      "cell_type": "code",
      "execution_count": 89,
      "metadata": {},
      "outputs": [
        {
          "data": {
            "text/plain": [
              "'Был бы ты человеком что-то из жизни можно построить здание суда разума или его.'"
            ]
          },
          "execution_count": 89,
          "metadata": {},
          "output_type": "execute_result"
        }
      ],
      "source": [
        "beginning = input()\n",
        "generate_text(beginning)"
      ]
    },
    {
      "cell_type": "code",
      "execution_count": 90,
      "metadata": {},
      "outputs": [
        {
          "data": {
            "text/plain": [
              "'Математика это слова которые нужно написать. Что касается ли мучо.'"
            ]
          },
          "execution_count": 90,
          "metadata": {},
          "output_type": "execute_result"
        }
      ],
      "source": [
        "beginning = input()\n",
        "generate_text(beginning)"
      ]
    }
  ],
  "metadata": {
    "accelerator": "GPU",
    "colab": {
      "gpuType": "T4",
      "provenance": []
    },
    "kernelspec": {
      "display_name": "Python 3",
      "name": "python3"
    },
    "language_info": {
      "codemirror_mode": {
        "name": "ipython",
        "version": 3
      },
      "file_extension": ".py",
      "mimetype": "text/x-python",
      "name": "python",
      "nbconvert_exporter": "python",
      "pygments_lexer": "ipython3",
      "version": "3.12.1"
    }
  },
  "nbformat": 4,
  "nbformat_minor": 0
}
